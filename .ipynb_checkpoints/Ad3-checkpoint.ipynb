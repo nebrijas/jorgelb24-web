{
 "cells": [
  {
   "cell_type": "markdown",
   "id": "e6ad1946",
   "metadata": {},
   "source": [
    "# Actividad dirigida 3"
   ]
  },
  {
   "cell_type": "markdown",
   "id": "44209296",
   "metadata": {},
   "source": [
    "Esta actividad consite en hacer un ejercicio de programación literaria aprovechando un código que hemos usado en programación con python, donde realizameros *web scrapping*\n",
    "    \"A continuación pongo el código fuente\""
   ]
  },
  {
   "cell_type": "markdown",
   "id": "559e14df",
   "metadata": {},
   "source": [
    "## Instalar librerías"
   ]
  },
  {
   "cell_type": "code",
   "execution_count": 1,
   "id": "e54ee934",
   "metadata": {},
   "outputs": [
    {
     "name": "stdout",
     "output_type": "stream",
     "text": [
      "Defaulting to user installation because normal site-packages is not writeable\n",
      "Requirement already satisfied: requests in c:\\programdata\\anaconda3\\lib\\site-packages (2.27.1)\n",
      "Requirement already satisfied: bs4 in c:\\users\\marliege barría\\appdata\\roaming\\python\\python39\\site-packages (0.0.1)\n",
      "Requirement already satisfied: pandas in c:\\programdata\\anaconda3\\lib\\site-packages (1.4.2)\n",
      "Requirement already satisfied: termcolor in c:\\users\\marliege barría\\appdata\\roaming\\python\\python39\\site-packages (1.1.0)\n",
      "Requirement already satisfied: charset-normalizer~=2.0.0 in c:\\programdata\\anaconda3\\lib\\site-packages (from requests) (2.0.4)\n",
      "Requirement already satisfied: idna<4,>=2.5 in c:\\programdata\\anaconda3\\lib\\site-packages (from requests) (3.3)\n",
      "Requirement already satisfied: certifi>=2017.4.17 in c:\\programdata\\anaconda3\\lib\\site-packages (from requests) (2021.10.8)\n",
      "Requirement already satisfied: urllib3<1.27,>=1.21.1 in c:\\programdata\\anaconda3\\lib\\site-packages (from requests) (1.26.9)\n",
      "Requirement already satisfied: beautifulsoup4 in c:\\programdata\\anaconda3\\lib\\site-packages (from bs4) (4.11.1)\n",
      "Requirement already satisfied: pytz>=2020.1 in c:\\programdata\\anaconda3\\lib\\site-packages (from pandas) (2021.3)\n",
      "Requirement already satisfied: numpy>=1.18.5 in c:\\programdata\\anaconda3\\lib\\site-packages (from pandas) (1.21.5)\n",
      "Requirement already satisfied: python-dateutil>=2.8.1 in c:\\programdata\\anaconda3\\lib\\site-packages (from pandas) (2.8.2)\n",
      "Requirement already satisfied: six>=1.5 in c:\\programdata\\anaconda3\\lib\\site-packages (from python-dateutil>=2.8.1->pandas) (1.16.0)\n",
      "Requirement already satisfied: soupsieve>1.2 in c:\\programdata\\anaconda3\\lib\\site-packages (from beautifulsoup4->bs4) (2.3.1)\n",
      "Note: you may need to restart the kernel to use updated packages.\n"
     ]
    }
   ],
   "source": [
    "pip install requests bs4 pandas termcolor"
   ]
  },
  {
   "cell_type": "markdown",
   "id": "b9353315",
   "metadata": {},
   "source": [
    "## Librerías\n",
    "Vamos a instalar las siguientes librerías:"
   ]
  },
  {
   "cell_type": "markdown",
   "id": "4f1eb358",
   "metadata": {},
   "source": [
    " ### Librerías del Sistema\n",
    "    \n",
    "    - 'time'\n",
    "    - 'csv'\n",
    "    - 're'\n",
    "    - 'os'\n",
    "\n",
    "### Librerías externas\n",
    "\n",
    "    - 'requests'\n",
    "    - 'bs4'\n",
    "    - 'pandas'\n",
    "    - 'termcolor'"
   ]
  },
  {
   "cell_type": "markdown",
   "id": "7f9a74e2",
   "metadata": {},
   "source": [
    "### Importar librerías\n",
    "    Las librerías que vienen con Python no hay que instalarlas pero las otras sí\n",
    "- [requests](https://requests.readthedocs.io/en/latest/) : Es una biblioteca HTTP elegante y simple para Python\n",
    "- [time](https://docs.python.org/es/3/library/time.html) : Este módulo proporciona varias funciones relacionadas con el tiempo\n",
    "- [csv](https://docs.python.org/es/3/library/csv.html) : El tan llamado CSV (Valores Separados por Comas) es el formato más común de importación y exportación de hojas de cálculo y bases de datos.\n",
    "- [re](https://docs.python.org/es/3/library/re.html) : Este módulo proporciona operaciones de coincidencia de expresiones regulares similares a las encontradas en Perl.\n",
    "- [bs4](https://www.crummy.com/software/BeautifulSoup/) : Beautiful Soup analiza cualquier cosa que le des y hace el recorrido del árbol por ti. Puede decirle \\\"Encuentre todos los enlaces\n",
    "- [pandas](https://bioinf.comav.upv.es/courses/linux/python/pandas.html) : Pandas es un paquete de Python que proporciona estructuras de datos similares a los dataframes de R.\n",
    "- [termcolor](https://pypi.org/project/termcolor/) : Importación de colores\""
   ]
  },
  {
   "cell_type": "code",
   "execution_count": 26,
   "id": "c2ae488c",
   "metadata": {},
   "outputs": [],
   "source": [
    "import requests\n",
    "import time\n",
    "import csv\n",
    "import re\n",
    "from bs4 import BeautifulSoup\n",
    "import os\n",
    "import pandas as pd\n",
    "from termcolor import colored "
   ]
  },
  {
   "cell_type": "markdown",
   "id": "c853ba63",
   "metadata": {},
   "source": [
    "### Objetos/variables\n",
    "    Vamos a crear una serie de objetos o variables:"
   ]
  },
  {
   "cell_type": "code",
   "execution_count": 27,
   "id": "3f5a5bf6",
   "metadata": {},
   "outputs": [],
   "source": [
    "resultados = []"
   ]
  },
  {
   "cell_type": "markdown",
   "id": "7826a576",
   "metadata": {},
   "source": [
    "Si le paso la función type() veremos que se trata de un objeto tipo 'list' o \\\"lista\\\" de Python."
   ]
  },
  {
   "cell_type": "code",
   "execution_count": 28,
   "id": "5e954778",
   "metadata": {},
   "outputs": [
    {
     "data": {
      "text/plain": [
       "list"
      ]
     },
     "execution_count": 28,
     "metadata": {},
     "output_type": "execute_result"
    }
   ],
   "source": [
    "type (resultados)"
   ]
  },
  {
   "cell_type": "markdown",
   "id": "00e8e1ba",
   "metadata": {},
   "source": [
    "#### Web scrpping para dividir los códigos"
   ]
  },
  {
   "cell_type": "markdown",
   "id": "61304587",
   "metadata": {},
   "source": [
    "##### Impresión de titulares principales de El País"
   ]
  },
  {
   "cell_type": "code",
   "execution_count": 30,
   "id": "8800cf1c",
   "metadata": {},
   "outputs": [],
   "source": [
    "req = requests.get(\"https://resultados.elpais.com\")"
   ]
  },
  {
   "cell_type": "code",
   "execution_count": 31,
   "id": "d782d82e",
   "metadata": {},
   "outputs": [
    {
     "data": {
      "text/plain": [
       "requests.models.Response"
      ]
     },
     "execution_count": 31,
     "metadata": {},
     "output_type": "execute_result"
    }
   ],
   "source": [
    "type (req)"
   ]
  },
  {
   "cell_type": "code",
   "execution_count": 32,
   "id": "672e11b7",
   "metadata": {},
   "outputs": [],
   "source": [
    "# Si el estatus code no es 200 no se puede leer la página\n",
    "if (req.status_code != 200):\n",
    " raise Exception(\"No se puede hacer Web Scraping en\"+ URL)\n",
    "soup = BeautifulSoup(req.text, 'html.parser')"
   ]
  },
  {
   "cell_type": "code",
   "execution_count": 33,
   "id": "00260161",
   "metadata": {},
   "outputs": [
    {
     "name": "stdout",
     "output_type": "stream",
     "text": [
      "“Aquí han pasado muchas cosas malas”: la ruta caliente del tráfico de migrantes también mata en Estados Unidos\n",
      "La OTAN se pertrecha para una época de conflicto de potencias\n",
      "Las píldoras, nuevo frente en la guerra contra el aborto en EE UU\n",
      "Los mercados castigan al peso argentino tras el cepo a los dólares para importaciones\n",
      "Vitalicios\n",
      "Mi querido doctor Sharpe\n",
      "Biden, ¿con Bolsonaro?\n",
      "Todo puede esperar cuando suena tu canción favorita\n",
      "Cuando los pájaros no cantaban: historias del conflicto armado en Colombia  \n",
      "Iván Duque, el presidente que se ausentó de la paz\n",
      "Las recomendaciones de la Comisión: cambiar la política de seguridad, la paz con el ELN y una reforma rural\n",
      "Francisco de Roux: “Colombia conoció lo que significa la paz y no va a renunciar a ello”\n",
      "Así es el barrio de Pekín donde hay “robotaxi” y la compra llega en vehículo sin conductor\n",
      "Los republicanos moderados avanzan en otra jornada de primarias en EE UU\n",
      "Guillermo Lasso salva una votación sobre su destitución como presidente de Ecuador \n",
      "El jefe del Ejército colombiano renuncia para evitar caminar junto a Petro el día de la investidura\n",
      "Los 15 minutos que salvaron a Andrii del infierno de Kremenchuk\n",
      "El caso del profesor que debe ir escoltado en una universidad por el acoso de compañeros: “Tengo miedo de que me tiren por las escaleras”\n",
      "Los dos principales cárteles de la droga mexicanos aterrizan en Chile \n",
      "Los animales de sangre fría parece que no envejecen\n",
      "La brasileña Marisa Monte confía en que a la ola reaccionaria le siga una iluminista\n",
      "El macrojuicio por los atentados de 2015 en París llega a su fin: los jueces preparan las condenas\n",
      "Ghislaine Maxwell, condenada a 20 años de cárcel por proporcionar menores al depredador sexual Epstein\n",
      "Jens Stoltenberg, el joven pacifista que acabó dirigiendo la OTAN\n",
      "Lecciones desde Montevideo: cómo dejar de ser un agresor de mujeres\n",
      "El PRI propone que la gente pueda armarse ante la inseguridad en México\n",
      "Adam y Hussein: huir de Sudán y saltar la valla\n",
      "Peter Weir, un Oscar honorífico que sabe a poco para el director de ‘El show de Truman’\n",
      "Calamaro en Madrid, locura y genio en directo de la leyenda argentina\n",
      "Courtney Barnett, la reina en los festivales: “Hacer cosas que no te apasionan solo trae resentimiento e infelicidad”\n",
      "La Orquesta Sinfónica de Kiev, el frente cultural, vuelve a sonar\n",
      "La ‘venganza’ de William Levy: “De joven, en Cuba, viví demasiadas injusticias”\n",
      "Periodismo de investigación, una herramienta para la construcción de un mejor sistema democrático\n",
      "Travis Barker, ingresado de urgencia\n",
      "Los famosos opinan de la derogación del aborto en EE UU: “Voy a renunciar a mi ciudadanía”\n",
      "Giorgio Armani: “Para mí no hay estilo sin ética”\n",
      "Roban en la casa del futbolista Ronaldo en Ibiza dinero y joyas por casi cuatro millones de dólares\n",
      "Dakota Johnson se sincera sobre el rodaje de ‘50 sombras de Grey’ y sus batallas con la escritora\n",
      "El ‘Plato’ de Harvard para que los niños coman bien: cómo ayuda a prevenir la obesidad infantil\n",
      "Serena Williams, de mazazo en mazazo\n",
      "Nadal sufre a Cerúndolo en su vuelta a Londres\n",
      "Badosa, en busca del clic que se le resiste\n",
      "¿El éxito en ventas es sinónimo de trascendencia?\n",
      "¿Son necesarias las escuelas de arte?\n",
      "Gustavo Petro: “Si fracaso, las tinieblas arrasarán con todo”\n",
      "América Latina gira hacia una nueva izquierda\n",
      "Francia Márquez, Marta Lucía Ramírez y ‘las niñas’\n",
      "Nuevo balance de fuerzas en un mundo en conflicto\n",
      "Biden announces increase in US military deployment in Europe\n",
      "Suntory killer: A man with expensive tastes who drew a gun against his wife\n",
      "Mummified baby woolly mammoth found in northern Canada\n",
      "Where are the extraterrestrial civilizations?\n",
      "Hikaru Nakamura: the world’s wealthiest chess player\n",
      "Letras Americanas: la actualidad literaria de un continente vista por el escritor Emiliano Monge\n",
      "Americanas: Reportajes y noticias sobre feminismo e historias con enfoque de género de la región\n",
      "Toda la actualidad científica en el boletín de Materia\n",
      "Ideas: reportajes y entrevistas para entender el mundo\n",
      "Sturgeon anuncia un nuevo referéndum de independencia en Escocia para el 19 de octubre de 2023\n",
      "Un ataque ruso a un centro comercial lleno de civiles deja al menos 18 muertos\n",
      "Talíria Petrone, una diputada negra frente al dominio blanco del poder en Brasil\n",
      "Joseph Oughourlian, presidente de PRISA: “Es el momento de mirar hacia el futuro con ilusión y ambición”\n",
      "Muere Leonardo Del Vecchio, el hombre que le puso gafas al mundo\n",
      "La imparable subida de tasas de interés pone a prueba a la economía mexicana \n",
      "California decidirá en noviembre si eleva el derecho al aborto a la Constitución local\n",
      "Cuando la homosexualidad te obliga a vivir huyendo\n",
      "El objetivo de vacunación mundial del 70% contra la covid-19 está obsoleto\n",
      "Canetti, Cortázar, Calvino, Sabato: las cartas de Mario Muchnik desvelan la trastienda de medio siglo de literatura\n",
      "Tres camiones españoles para empaquetar los museos de Ucrania\n",
      "Del ‘Paraíso perdido’ al ciclo ‘queer’: el director del festival Grec de Barcelona, Cesc Casadesús, recomienda sus espectáculos favoritos  \n",
      "Simon Levin: “No tenemos otra opción que creer que podemos hacer lo necesario para que la humanidad sobreviva” \n",
      "¿Existe tratamiento contra la sífilis?\n",
      "Hallada en Canadá una cría de mamut en excepcional estado de conservación \n",
      "El Torneo de Candidatos de ajedrez de Madrid, en directo\n",
      "Salma Paralluelo se pierde la Eurocopa 2022 por lesión y Teresa Abelleira la sustituye\n",
      "La ‘cooperativa’ de futbolistas que ganó 500.000 euros apostando a los partidos que amañaban\n",
      "Conservacionistas demuestran el uso de redes de pesca ilegales por parte de embarcaciones marroquíes en el Mediterráneo \n",
      "El inesperado musgo luminoso que puede salvar un barrio de Vigo\n",
      "La trampa mortal del trasvase Tajo-Segura: así se ahogan corzos y jabalíes en el canal \n",
      "Lorena Jaume-Palasí: “Crear principios éticos universales para  la inteligencia artificial es una iniciativa cosmética”\n",
      "Inteligencia artificial ¿para qué?\n",
      "Acelerando la ciencia a 314.000 billones de operaciones por segundo\n",
      "Así le compró un constructor un piso al ‘número dos’ de Rita Barberá\n",
      "El PSOE reprocha “prisas e inacción” al juez del ‘caso Púnica’ para “blindar” a Aguirre\n",
      "Un guardia civil amenaza a un policía en El Prat: “La suerte que tienes es que hay cámaras”\n",
      "‘Iosi, el espía arrepentido’ o el terrorismo de Estado\n",
      "‘First Class’: ¿por qué estáis todas en barcos?’, por Paloma Rando\n",
      "‘El manglar de la publicidad en abierto’, por Jimina Sabadú\n",
      "El mejor perro del mundo es un fox terrier llamado ‘Funfair Foxhouse’ y se ha coronado en Madrid\n",
      "Federico y Mary de Dinamarca sacan a su hijo mayor de su escuela por casos de acoso escolar y abusos sexuales\n",
      "Gracias, Locomía\n",
      "Volver a la escuela tras dos años de pandemia\n",
      "La discriminación contra las minorías sexuales limita el desarrollo de Latinoamérica\n",
      "Así es el primer campo de golf de España convertido en una reserva natural\n",
      "Chanel, la vida después de Eurovisión: “No soy un títere”\n",
      "Algo sucede cuando nos vamos al campo\n",
      "América Latina gira hacia una nueva izquierda\n",
      "Orgullo y poderío de la diversidad sexual: el gran negocio de cuatro billones de dólares\n",
      "Tener casa en la playa se pone por las nubes: estos son los precios que se están pagando\n",
      "De Margaret Atwood a Neil Young: la interrupción del embarazo en la cultura norteamericana\n",
      "Viaje a la melancolía fotográfica de Javier Campano\n",
      "Una exposición contra el abandono del Sahel: “El silencio y el olvido matan”\n",
      "Por qué el sector privado es un aliado fundamental para la cooperación española\n",
      "Viaje a las Lofoten, islas de montañas, frailecillos y leyendas de troles\n",
      "El espectro de Riba de Santiuste y otras curiosas historias de castillos\n",
      "Ellos no bailaron solos: la mujer detrás de la loca historia de Locomía\n",
      "¿Y si no fuese necesario dejar descansar las uñas entre manicuras?\n",
      "Esto no se puede emitir: la historia de 10 episodios que fueron demasiado lejos para la televisión \n",
      "Miqui Puig: “Vengo de una estirpe sin papás ricos, tengo el miedo de dónde va a salir el dinero para los discos”\n",
      "Los efectos negativos del ‘delivery’: de la contaminación a la mala nutrición\n",
      "Ensalada de pepino, sandía y fresas\n",
      "Abengoa pedirá el preconcurso para varias filiales tras el rescate frustrado\n",
      "María del Monte: “No he estado nunca en ningún armario. Habrá quien tenga polillas, pero yo no”\n",
      "Ponte a prueba con nuestros crucigramas, sopas de letras, sudokus y juegos arcade\n",
      "Sánchez saluda a los Reyes, pasa de largo y se oye lo que le dicen Letizia y Felipe\n",
      "Rodrygo: “Tenemos un gran vestuario, somos amigos”\n",
      "‘Los campaneros de Avilés y el algoritmo esclavista de Amazon’, por Antonio Maestre \n"
     ]
    }
   ],
   "source": [
    "tags = soup.findAll(\"h2\")\n",
    "\n",
    "for h2 in tags:\n",
    "    print(h2.text)\n",
    "    resultados.append(h2.text)"
   ]
  },
  {
   "cell_type": "markdown",
   "id": "42774bf1",
   "metadata": {},
   "source": [
    "#### Impresión de los titulares internacionales "
   ]
  },
  {
   "cell_type": "code",
   "execution_count": 35,
   "id": "3e76335a",
   "metadata": {},
   "outputs": [],
   "source": [
    "req2 = requests.get(\"https://elpais.com/internacional\")"
   ]
  },
  {
   "cell_type": "code",
   "execution_count": 36,
   "id": "a7d148e2",
   "metadata": {},
   "outputs": [
    {
     "data": {
      "text/plain": [
       "requests.models.Response"
      ]
     },
     "execution_count": 36,
     "metadata": {},
     "output_type": "execute_result"
    }
   ],
   "source": [
    "type (req2)"
   ]
  },
  {
   "cell_type": "code",
   "execution_count": 37,
   "id": "6214f856",
   "metadata": {},
   "outputs": [],
   "source": [
    "# Si el estatus code no es 200 no se puede leer la página\n",
    "if (req.status_code != 200):\n",
    " raise Exception(\"No se puede hacer Web Scraping en\"+ URL)\n",
    "soup2 = BeautifulSoup(req2.text, 'html.parser')"
   ]
  },
  {
   "cell_type": "code",
   "execution_count": 38,
   "id": "c27f0cbe",
   "metadata": {},
   "outputs": [
    {
     "name": "stdout",
     "output_type": "stream",
     "text": [
      "Biden anuncia un refuerzo en el despliegue militar de EE UU en Europa\n",
      "España, satisfecha por la definición de integridad territorial de la OTAN que ampara a Ceuta y Melilla \n",
      "Los 15 minutos que salvaron a Andrii del infierno de Kremenchuk\n",
      "El cambio de postura militar en la OTAN y sus retos\n",
      "La visión de Japón en la cumbre de la OTAN\n",
      "Comienza el espectáculo\n",
      "Putin teme a la UE más que a la OTAN\n",
      "Exiliados rusos\n",
      "Turquía levanta el veto a las candidaturas de Suecia y Finlandia en Madrid\n",
      "Vídeo | Las imágenes, las anécdotas y los gestos en la cena de gala ofrecida por los Reyes\n",
      "Cumbre de la OTAN 2022 en Madrid, en directo | La OTAN aprueba su hoja de ruta para la próxima década en la que señala a Rusia como la “amenaza más significativa y directa”\n",
      "La Audiencia Nacional da carpetazo a la denuncia presentada contra Gustavo Petro\n",
      "El macrojuicio por los atentados de 2015 en París llega a su fin: los jueces preparan las condenas\n",
      "Biden y Sánchez pactan ampliar en un 50% los destructores en la base de Rota\n",
      "El Rey llama a los mandatarios de la OTAN a mantener la unidad ante un mundo “más incierto y más peligroso”\n",
      "Claves de la cumbre de la OTAN en Madrid: Rusia, ampliación y terrorismo\n",
      "Gustavo Petro: “Si fracaso, las tinieblas arrasarán con todo”\n",
      "El jefe del Ejército colombiano renuncia para evitar caminar junto a Petro en su investidura \n",
      "Colombia hace examen de conciencia\n",
      "Una testigo clave del 6 de enero asegura que Trump sabía que la turba estaba armada y aun así la instigó a que marchara hacia el Capitolio\n",
      "El cierre de la fundición Ventanas marca un giro histórico en la política ambiental de Chile\n",
      "El Supremo de Nueva York revoca el derecho de voto en elecciones locales de 800.000 inmigrantes con papeles\n",
      "Hallada en Canadá una cría de mamut en excepcional estado de conservación \n",
      "La pobreza y la inflación alimentan el nuevo estallido de Ecuador \n"
     ]
    }
   ],
   "source": [
    "tags = soup2.findAll(\"h2\")\n",
    "\n",
    "for h2 in tags:\n",
    "    print(h2.text)\n",
    "    resultados.append(h2.text)"
   ]
  },
  {
   "cell_type": "markdown",
   "id": "983520cd",
   "metadata": {},
   "source": [
    "#### Impresión de artículos de opinión"
   ]
  },
  {
   "cell_type": "code",
   "execution_count": 40,
   "id": "6fc228ff",
   "metadata": {},
   "outputs": [],
   "source": [
    "req3 = requests.get(\"https://elpais.com/opinion\")"
   ]
  },
  {
   "cell_type": "code",
   "execution_count": 42,
   "id": "ffb882b2",
   "metadata": {},
   "outputs": [
    {
     "data": {
      "text/plain": [
       "requests.models.Response"
      ]
     },
     "execution_count": 42,
     "metadata": {},
     "output_type": "execute_result"
    }
   ],
   "source": [
    "type (req3)"
   ]
  },
  {
   "cell_type": "code",
   "execution_count": 41,
   "id": "83f8f4ad",
   "metadata": {},
   "outputs": [],
   "source": [
    "# Si el estatus code no es 200 no se puede leer la página\n",
    "if (req.status_code != 200):\n",
    " raise Exception(\"No se puede hacer Web Scraping en\"+ URL)\n",
    "soup3 = BeautifulSoup(req3.text, 'html.parser')"
   ]
  },
  {
   "cell_type": "code",
   "execution_count": 43,
   "id": "e19598c5",
   "metadata": {},
   "outputs": [
    {
     "name": "stdout",
     "output_type": "stream",
     "text": [
      "Una OTAN más europea \n",
      "Víctimas desamparadas\n",
      "La OTAN contra el terrorismo: misión incumplida\n",
      "Por qué el algoritmo de Google no es una persona\n",
      "Simplemente fútbol\n",
      "El cambio de postura militar en la OTAN y sus retos\n",
      "Todo puede esperar cuando suena tu canción favorita\n",
      "Integridad territorial\n",
      "Mi querido doctor Sharpe\n",
      "Vitalicios\n",
      "Proteger la eutanasia\n",
      "La amenaza del ‘caso Assange’ \n",
      "El Gobierno no tiene quien le quiera\n",
      "El Roto\n",
      "Peridis\n",
      "Flavita Banana\n",
      "Riki Blanco\n",
      "Sciammarella\n",
      "Planeta de Plástico, por Malagón\n",
      "Envía tu carta\n",
      "Un eslogan de moda: ‘low cost’\n",
      "Tragedia en la frontera con Melilla\n",
      "Derechos vulnerados   \n",
      "Opinar sin insultar\n",
      "Contra el conflicto de intereses, transparencia\n",
      "Entre los derechos de Esther López y los de los lectores\n",
      "El defensor del lector contesta\n"
     ]
    }
   ],
   "source": [
    "tags = soup3.findAll(\"h2\")\n",
    "\n",
    "for h2 in tags:\n",
    "    print(h2.text)\n",
    "    resultados.append(h2.text)"
   ]
  },
  {
   "cell_type": "markdown",
   "id": "91a46bb6",
   "metadata": {},
   "source": [
    "#### Impresión de titulares con palabras más buscadas en El País"
   ]
  },
  {
   "cell_type": "code",
   "execution_count": 44,
   "id": "3741e196",
   "metadata": {},
   "outputs": [
    {
     "data": {
      "text/plain": [
       "1"
      ]
     },
     "execution_count": 44,
     "metadata": {},
     "output_type": "execute_result"
    }
   ],
   "source": [
    "os.system(\"clear\")"
   ]
  },
  {
   "cell_type": "code",
   "execution_count": 45,
   "id": "a2d092fe",
   "metadata": {},
   "outputs": [
    {
     "name": "stdout",
     "output_type": "stream",
     "text": [
      "\u001b[1m\u001b[34mA continuación se muestran los titulares de las páginas principales del diario El País que contienen las siguientes palabras:\u001b[0m\n",
      "\u001b[1m\u001b[32mFeminismo\u001b[0m\n",
      "Americanas: Reportajes y noticias sobre feminismo e historias con enfoque de género de la región\n",
      "\u001b[1m\u001b[32mIgualdad\u001b[0m\n",
      "\n",
      "\u001b[1m\u001b[32mMujeres\u001b[0m\n",
      "Lecciones desde Montevideo: cómo dejar de ser un agresor de mujeres\n",
      "\u001b[1m\u001b[32mMujer\u001b[0m\n",
      "Lecciones desde Montevideo: cómo dejar de ser un agresor de mujeres\n",
      "Ellos no bailaron solos: la mujer detrás de la loca historia de Locomía\n",
      "\u001b[1m\u001b[32mBrecha salarial\u001b[0m\n",
      "\n",
      "\u001b[1m\u001b[32mMachismo\u001b[0m\n",
      "\n",
      "\u001b[1m\u001b[32mViolencia\u001b[0m\n",
      "\n",
      "\u001b[1m\u001b[32mMaltrato\u001b[0m\n",
      "\n",
      "\u001b[1m\u001b[32mHomicidio\u001b[0m\n",
      "\n",
      "\u001b[1m\u001b[32mGénero\u001b[0m\n",
      "Americanas: Reportajes y noticias sobre feminismo e historias con enfoque de género de la región\n",
      "\u001b[1m\u001b[32mAsesinato\u001b[0m\n",
      "\n",
      "\u001b[1m\u001b[32mSexo\u001b[0m\n",
      "\n"
     ]
    }
   ],
   "source": [
    "print(colored(\"A continuación se muestran los titulares de las páginas principales del diario El País que contienen las siguientes palabras:\", 'blue', attrs=['bold']))\n",
    "print(colored(\"Feminismo\", 'green', attrs=['bold']))\n",
    "\n",
    "str_match = [s for s in resultados if \"feminismo\" in s]\n",
    "print(\"\\n\".join(str_match))\n",
    "\n",
    "print(colored(\"Igualdad\", 'green', attrs=['bold']))\n",
    "\n",
    "str_match = [s for s in resultados if \"igualdad\" in s]\n",
    "print(\"\\n\".join(str_match))\n",
    "\n",
    "print(colored(\"Mujeres\", 'green', attrs=['bold']))\n",
    "\n",
    "str_match = [s for s in resultados if \"mujeres\" in s]\n",
    "print(\"\\n\".join(str_match))\n",
    "\n",
    "print(colored(\"Mujer\", 'green', attrs=['bold']))\n",
    "\n",
    "str_match = [s for s in resultados if \"mujer\" in s]\n",
    "print(\"\\n\".join(str_match))\n",
    "\n",
    "print(colored(\"Brecha salarial\", 'green', attrs=['bold']))\n",
    "\n",
    "str_match = [s for s in resultados if \"brecha salarial\" in s]\n",
    "print(\"\\n\".join(str_match))\n",
    "\n",
    "print(colored(\"Machismo\", 'green', attrs=['bold']))\n",
    "\n",
    "str_match = [s for s in resultados if \"machismo\" in s]\n",
    "print(\"\\n\".join(str_match))\n",
    "\n",
    "print(colored(\"Violencia\", 'green', attrs=['bold']))\n",
    "\n",
    "str_match = [s for s in resultados if \"violencia\" in s]\n",
    "print(\"\\n\".join(str_match))\n",
    "\n",
    "print(colored(\"Maltrato\", 'green', attrs=['bold']))\n",
    "\n",
    "str_match = [s for s in resultados if \"maltrato\" in s]\n",
    "print(\"\\n\".join(str_match))\n",
    "\n",
    "print(colored(\"Homicidio\", 'green', attrs=['bold']))\n",
    "\n",
    "str_match = [s for s in resultados if \"homicidio\" in s]\n",
    "print(\"\\n\".join(str_match))\n",
    "\n",
    "print(colored(\"Género\", 'green', attrs=['bold']))\n",
    "\n",
    "str_match = [s for s in resultados if \"género\" in s]\n",
    "print(\"\\n\".join(str_match))\n",
    "\n",
    "print(colored(\"Asesinato\", 'green', attrs=['bold']))\n",
    "\n",
    "str_match = [s for s in resultados if \"asesinato\" in s]\n",
    "print(\"\\n\".join(str_match))\n",
    "\n",
    "print(colored(\"Sexo\", 'green', attrs=['bold']))\n",
    "\n",
    "str_match = [s for s in resultados if \"sexo\" in s]\n",
    "print(\"\\n\".join(str_match))"
   ]
  },
  {
   "cell_type": "markdown",
   "id": "4dc9596e",
   "metadata": {},
   "source": [
    "## Código fuente"
   ]
  },
  {
   "cell_type": "code",
   "execution_count": null,
   "id": "ce955512",
   "metadata": {},
   "outputs": [],
   "source": [
    "import requests\n",
    "import time\n",
    "import csv\n",
    "import re\n",
    "from bs4 import BeautifulSoup\n",
    "import os\n",
    "import pandas as pd\n",
    "from termcolor import colored\n",
    "\n",
    "resultados = []\n",
    "\n",
    "req = requests.get(\"https://resultados.elpais.com\")\n",
    "# Si el estatus code no es 200 no se puede leer la página\n",
    "if (req.status_code != 200):\n",
    " raise Exception(\"No se puede hacer Web Scraping en\"+ URL)\n",
    "soup = BeautifulSoup(req.text, 'html.parser')\n",
    "\n",
    "tags = soup.findAll(\"h2\")\n",
    "\n",
    "for h2 in tags:\n",
    "    print(h2.text)\n",
    "    resultados.append(h2.text)\n",
    "\n",
    "req2 = requests.get(\"https://elpais.com/internacional\")\n",
    "# Si el estatus code no es 200 no se puede leer la página\n",
    "if (req.status_code != 200):\n",
    " raise Exception(\"No se puede hacer Web Scraping en\"+ URL)\n",
    "soup2 = BeautifulSoup(req2.text, 'html.parser')\n",
    "\n",
    "tags = soup2.findAll(\"h2\")\n",
    "\n",
    "for h2 in tags:\n",
    "    print(h2.text)\n",
    "    resultados.append(h2.text)\n",
    "\n",
    "req3 = requests.get(\"https://elpais.com/opinion\")\n",
    "# Si el estatus code no es 200 no se puede leer la página\n",
    "if (req.status_code != 200):\n",
    " raise Exception(\"No se puede hacer Web Scraping en\"+ URL)\n",
    "soup3 = BeautifulSoup(req3.text, 'html.parser')\n",
    "\n",
    "tags = soup3.findAll(\"h2\")\n",
    "\n",
    "for h2 in tags:\n",
    "    print(h2.text)\n",
    "    resultados.append(h2.text)\n",
    "\n",
    "req4 = requests.get(\"https://elpais.com/espana/\")\n",
    "# Si el estatus code no es 200 no se puede leer la página\n",
    "if (req.status_code != 200):\n",
    " raise Exception(\"No se puede hacer Web Scraping en\"+ URL)\n",
    "soup4 = BeautifulSoup(req4.text, 'html.parser')\n",
    "\n",
    "tags = soup4.findAll(\"h2\")\n",
    "\n",
    "for h2 in tags:\n",
    "    print(h2.text)\n",
    "    resultados.append(h2.text)\n",
    "\n",
    "req5 = requests.get(\"https://elpais.com/economia/\")\n",
    "# Si el estatus code no es 200 no se puede leer la página\n",
    "if (req.status_code != 200):\n",
    " raise Exception(\"No se puede hacer Web Scraping en\"+ URL)\n",
    "soup5 = BeautifulSoup(req5.text, 'html.parser')\n",
    "\n",
    "tags = soup5.findAll(\"h2\")\n",
    "\n",
    "for h2 in tags:\n",
    "    print(h2.text)\n",
    "    resultados.append(h2.text)\n",
    "\n",
    "req6 = requests.get(\"https://elpais.com/sociedad/\")\n",
    "# Si el estatus code no es 200 no se puede leer la página\n",
    "if (req.status_code != 200):\n",
    " raise Exception(\"No se puede hacer Web Scraping en\"+ URL)\n",
    "soup6 = BeautifulSoup(req6.text, 'html.parser')\n",
    "\n",
    "tags = soup6.findAll(\"h2\")\n",
    "\n",
    "for h2 in tags:\n",
    "    print(h2.text)\n",
    "    resultados.append(h2.text)\n",
    "\n",
    "req7 = requests.get(\"https://elpais.com/educacion/\")\n",
    "# Si el estatus code no es 200 no se puede leer la página\n",
    "if (req.status_code != 200):\n",
    " raise Exception(\"No se puede hacer Web Scraping en\"+ URL)\n",
    "soup7 = BeautifulSoup(req7.text, 'html.parser')\n",
    "\n",
    "tags = soup7.findAll(\"h2\")\n",
    "\n",
    "for h2 in tags:\n",
    "    print(h2.text)\n",
    "    resultados.append(h2.text)\n",
    "\n",
    "req8 = requests.get(\"https://elpais.com/clima-y-medio-ambiente/\")\n",
    "# Si el estatus code no es 200 no se puede leer la página\n",
    "if (req.status_code != 200):\n",
    " raise Exception(\"No se puede hacer Web Scraping en\"+ URL)\n",
    "soup8 = BeautifulSoup(req8.text, 'html.parser')\n",
    "\n",
    "tags = soup8.findAll(\"h2\")\n",
    "\n",
    "for h2 in tags:\n",
    "    print(h2.text)\n",
    "    resultados.append(h2.text)\n",
    "\n",
    "req9 = requests.get(\"https://elpais.com/ciencia/\")\n",
    "# Si el estatus code no es 200 no se puede leer la página\n",
    "if (req.status_code != 200):\n",
    " raise Exception(\"No se puede hacer Web Scraping en\"+ URL)\n",
    "soup9 = BeautifulSoup(req9.text, 'html.parser')\n",
    "\n",
    "tags = soup9.findAll(\"h2\")\n",
    "\n",
    "for h2 in tags:\n",
    "    print(h2.text)\n",
    "    resultados.append(h2.text)\n",
    "\n",
    "req10 = requests.get(\"https://elpais.com/cultura/\")\n",
    "# Si el estatus code no es 200 no se puede leer la página\n",
    "if (req.status_code != 200):\n",
    " raise Exception(\"No se puede hacer Web Scraping en\"+ URL)\n",
    "soup10 = BeautifulSoup(req10.text, 'html.parser')\n",
    "\n",
    "tags = soup10.findAll(\"h2\")\n",
    "\n",
    "for h2 in tags:\n",
    "    print(h2.text)\n",
    "    resultados.append(h2.text)\n",
    "\n",
    "req11 = requests.get(\"https://elpais.com/babelia/\")\n",
    "# Si el estatus code no es 200 no se puede leer la página\n",
    "if (req.status_code != 200):\n",
    " raise Exception(\"No se puede hacer Web Scraping en\"+ URL)\n",
    "soup11 = BeautifulSoup(req11.text, 'html.parser')\n",
    "\n",
    "tags = soup11.findAll(\"h2\")\n",
    "\n",
    "for h2 in tags:\n",
    "    print(h2.text)\n",
    "    resultados.append(h2.text)\n",
    "\n",
    "req12 = requests.get(\"https://elpais.com/deportes/\")\n",
    "# Si el estatus code no es 200 no se puede leer la página\n",
    "if (req.status_code != 200):\n",
    " raise Exception(\"No se puede hacer Web Scraping en\"+ URL)\n",
    "soup12 = BeautifulSoup(req12.text, 'html.parser')\n",
    "\n",
    "tags = soup12.findAll(\"h2\")\n",
    "\n",
    "for h2 in tags:\n",
    "    print(h2.text)\n",
    "    resultados.append(h2.text)\n",
    "\n",
    "req13 = requests.get(\"https://elpais.com/tecnologia/\")\n",
    "# Si el estatus code no es 200 no se puede leer la página\n",
    "if (req.status_code != 200):\n",
    " raise Exception(\"No se puede hacer Web Scraping en\"+ URL)\n",
    "soup13 = BeautifulSoup(req13.text, 'html.parser')\n",
    "\n",
    "tags = soup13.findAll(\"h2\")\n",
    "\n",
    "for h2 in tags:\n",
    "    print(h2.text)\n",
    "    resultados.append(h2.text)\n",
    "\n",
    "req14 = requests.get(\"https://elpais.com/tecnologia/\")\n",
    "# Si el estatus code no es 200 no se puede leer la página\n",
    "if (req.status_code != 200):\n",
    " raise Exception(\"No se puede hacer Web Scraping en\"+ URL)\n",
    "soup14 = BeautifulSoup(req14.text, 'html.parser')\n",
    "\n",
    "tags = soup14.findAll(\"h2\")\n",
    "\n",
    "for h2 in tags:\n",
    "    print(h2.text)\n",
    "    resultados.append(h2.text)\n",
    "\n",
    "req15 = requests.get(\"https://elpais.com/gente/\")\n",
    "# Si el estatus code no es 200 no se puede leer la página\n",
    "if (req.status_code != 200):\n",
    " raise Exception(\"No se puede hacer Web Scraping en\"+ URL)\n",
    "soup15 = BeautifulSoup(req15.text, 'html.parser')\n",
    "\n",
    "tags = soup15.findAll(\"h2\")\n",
    "\n",
    "for h2 in tags:\n",
    "    print(h2.text)\n",
    "    resultados.append(h2.text)\n",
    "\n",
    "req16 = requests.get(\"https://elpais.com/television/\")\n",
    "# Si el estatus code no es 200 no se puede leer la página\n",
    "if (req.status_code != 200):\n",
    " raise Exception(\"No se puede hacer Web Scraping en\"+ URL)\n",
    "soup16 = BeautifulSoup(req16.text, 'html.parser')\n",
    "\n",
    "tags = soup16.findAll(\"h2\")\n",
    "\n",
    "for h2 in tags:\n",
    "    print(h2.text)\n",
    "    resultados.append(h2.text)\n",
    "\n",
    "req17 = requests.get(\"https://elpais.com/eps/\")\n",
    "# Si el estatus code no es 200 no se puede leer la página\n",
    "if (req.status_code != 200):\n",
    " raise Exception(\"No se puede hacer Web Scraping en\"+ URL)\n",
    "soup17 = BeautifulSoup(req17.text, 'html.parser')\n",
    "\n",
    "tags = soup17.findAll(\"h2\")\n",
    "\n",
    "for h2 in tags:\n",
    "    print(h2.text)\n",
    "    resultados.append(h2.text)\n",
    "\n",
    "\n",
    "os.system(\"clear\")\n",
    "\n",
    "print(colored(\"A continuación se muestran los titulares de las páginas principales del diario El País que contienen las siguientes palabras:\", 'blue', attrs=['bold']))\n",
    "print(colored(\"Feminismo\", 'green', attrs=['bold']))\n",
    "\n",
    "str_match = [s for s in resultados if \"feminismo\" in s]\n",
    "print(\"\\n\".join(str_match))\n",
    "\n",
    "print(colored(\"Igualdad\", 'green', attrs=['bold']))\n",
    "\n",
    "str_match = [s for s in resultados if \"igualdad\" in s]\n",
    "print(\"\\n\".join(str_match))\n",
    "\n",
    "print(colored(\"Mujeres\", 'green', attrs=['bold']))\n",
    "\n",
    "str_match = [s for s in resultados if \"mujeres\" in s]\n",
    "print(\"\\n\".join(str_match))\n",
    "\n",
    "print(colored(\"Mujer\", 'green', attrs=['bold']))\n",
    "\n",
    "str_match = [s for s in resultados if \"mujer\" in s]\n",
    "print(\"\\n\".join(str_match))\n",
    "\n",
    "print(colored(\"Brecha salarial\", 'green', attrs=['bold']))\n",
    "\n",
    "str_match = [s for s in resultados if \"brecha salarial\" in s]\n",
    "print(\"\\n\".join(str_match))\n",
    "\n",
    "print(colored(\"Machismo\", 'green', attrs=['bold']))\n",
    "\n",
    "str_match = [s for s in resultados if \"machismo\" in s]\n",
    "print(\"\\n\".join(str_match))\n",
    "\n",
    "print(colored(\"Violencia\", 'green', attrs=['bold']))\n",
    "\n",
    "str_match = [s for s in resultados if \"violencia\" in s]\n",
    "print(\"\\n\".join(str_match))\n",
    "\n",
    "print(colored(\"Maltrato\", 'green', attrs=['bold']))\n",
    "\n",
    "str_match = [s for s in resultados if \"maltrato\" in s]\n",
    "print(\"\\n\".join(str_match))\n",
    "\n",
    "print(colored(\"Homicidio\", 'green', attrs=['bold']))\n",
    "\n",
    "str_match = [s for s in resultados if \"homicidio\" in s]\n",
    "print(\"\\n\".join(str_match))\n",
    "\n",
    "print(colored(\"Género\", 'green', attrs=['bold']))\n",
    "\n",
    "str_match = [s for s in resultados if \"género\" in s]\n",
    "print(\"\\n\".join(str_match))\n",
    "\n",
    "print(colored(\"Asesinato\", 'green', attrs=['bold']))\n",
    "\n",
    "str_match = [s for s in resultados if \"asesinato\" in s]\n",
    "print(\"\\n\".join(str_match))\n",
    "\n",
    "print(colored(\"Sexo\", 'green', attrs=['bold']))\n",
    "\n",
    "str_match = [s for s in resultados if \"sexo\" in s]\n",
    "print(\"\\n\".join(str_match))"
   ]
  }
 ],
 "metadata": {
  "kernelspec": {
   "display_name": "Python 3 (ipykernel)",
   "language": "python",
   "name": "python3"
  },
  "language_info": {
   "codemirror_mode": {
    "name": "ipython",
    "version": 3
   },
   "file_extension": ".py",
   "mimetype": "text/x-python",
   "name": "python",
   "nbconvert_exporter": "python",
   "pygments_lexer": "ipython3",
   "version": "3.9.12"
  }
 },
 "nbformat": 4,
 "nbformat_minor": 5
}
