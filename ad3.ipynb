{
 "cells": [
  {
   "cell_type": "markdown",
   "id": "e6ad1946",
   "metadata": {},
   "source": [
    "# Actividad dirigida 3"
   ]
  },
  {
   "cell_type": "markdown",
   "id": "44209296",
   "metadata": {},
   "source": [
    "Esta actividad consite en hacer un ejercicio de programación literaria aprovechando un código que hemos usado en programación con python, donde realizameros *web scrapping*\n",
    "    \"A continuación pongo el código fuente\""
   ]
  },
  {
   "cell_type": "markdown",
   "id": "559e14df",
   "metadata": {},
   "source": [
    "## Instalar librerías"
   ]
  },
  {
   "cell_type": "markdown",
   "id": "44dc719c",
   "metadata": {},
   "source": [
    "Para iniciar el web scraping, procedimos a instalar las librerías que nos ayudarían a todo el proceso."
   ]
  },
  {
   "cell_type": "code",
   "execution_count": 6,
   "id": "e54ee934",
   "metadata": {},
   "outputs": [
    {
     "name": "stdout",
     "output_type": "stream",
     "text": [
      "Defaulting to user installation because normal site-packages is not writeable\n",
      "Requirement already satisfied: requests in c:\\programdata\\anaconda3\\lib\\site-packages (2.27.1)\n",
      "Requirement already satisfied: bs4 in c:\\users\\marliege barría\\appdata\\roaming\\python\\python39\\site-packages (0.0.1)\n",
      "Requirement already satisfied: pandas in c:\\programdata\\anaconda3\\lib\\site-packages (1.4.2)\n",
      "Requirement already satisfied: termcolor in c:\\users\\marliege barría\\appdata\\roaming\\python\\python39\\site-packages (1.1.0)\n",
      "Requirement already satisfied: urllib3<1.27,>=1.21.1 in c:\\programdata\\anaconda3\\lib\\site-packages (from requests) (1.26.9)\n",
      "Requirement already satisfied: certifi>=2017.4.17 in c:\\programdata\\anaconda3\\lib\\site-packages (from requests) (2021.10.8)\n",
      "Requirement already satisfied: idna<4,>=2.5 in c:\\programdata\\anaconda3\\lib\\site-packages (from requests) (3.3)\n",
      "Requirement already satisfied: charset-normalizer~=2.0.0 in c:\\programdata\\anaconda3\\lib\\site-packages (from requests) (2.0.4)\n",
      "Requirement already satisfied: beautifulsoup4 in c:\\programdata\\anaconda3\\lib\\site-packages (from bs4) (4.11.1)\n",
      "Requirement already satisfied: pytz>=2020.1 in c:\\programdata\\anaconda3\\lib\\site-packages (from pandas) (2021.3)\n",
      "Requirement already satisfied: python-dateutil>=2.8.1 in c:\\programdata\\anaconda3\\lib\\site-packages (from pandas) (2.8.2)\n",
      "Requirement already satisfied: numpy>=1.18.5 in c:\\programdata\\anaconda3\\lib\\site-packages (from pandas) (1.21.5)\n",
      "Requirement already satisfied: six>=1.5 in c:\\programdata\\anaconda3\\lib\\site-packages (from python-dateutil>=2.8.1->pandas) (1.16.0)\n",
      "Requirement already satisfied: soupsieve>1.2 in c:\\programdata\\anaconda3\\lib\\site-packages (from beautifulsoup4->bs4) (2.3.1)\n",
      "Note: you may need to restart the kernel to use updated packages.\n"
     ]
    }
   ],
   "source": [
    "pip install requests bs4 pandas termcolor"
   ]
  },
  {
   "cell_type": "markdown",
   "id": "b9353315",
   "metadata": {},
   "source": [
    "## Librerías\n",
    "Vamos a instalar las siguientes librerías:"
   ]
  },
  {
   "cell_type": "markdown",
   "id": "4f1eb358",
   "metadata": {},
   "source": [
    " ### Librerías del Sistema\n",
    "    \n",
    "    - 'time'\n",
    "    - 'csv'\n",
    "    - 're'\n",
    "    - 'os'\n",
    "\n",
    "### Librerías externas\n",
    "\n",
    "    - 'requests'\n",
    "    - 'bs4'\n",
    "    - 'pandas'\n",
    "    - 'termcolor'"
   ]
  },
  {
   "cell_type": "markdown",
   "id": "7f9a74e2",
   "metadata": {},
   "source": [
    "### Importar librerías\n",
    "    Las librerías que vienen con Python no hay que instalarlas pero las otras sí\n",
    "- [requests](https://requests.readthedocs.io/en/latest/) : Es una biblioteca HTTP elegante y simple para Python\n",
    "- [time](https://docs.python.org/es/3/library/time.html) : Este módulo proporciona varias funciones relacionadas con el tiempo\n",
    "- [csv](https://docs.python.org/es/3/library/csv.html) : El tan llamado CSV (Valores Separados por Comas) es el formato más común de importación y exportación de hojas de cálculo y bases de datos.\n",
    "- [re](https://docs.python.org/es/3/library/re.html) : Este módulo proporciona operaciones de coincidencia de expresiones regulares similares a las encontradas en Perl.\n",
    "- [bs4](https://www.crummy.com/software/BeautifulSoup/) : Beautiful Soup analiza cualquier cosa que le des y hace el recorrido del árbol por ti. Puede decirle \\\"Encuentre todos los enlaces\n",
    "- [pandas](https://bioinf.comav.upv.es/courses/linux/python/pandas.html) : Pandas es un paquete de Python que proporciona estructuras de datos similares a los dataframes de R.\n",
    "- [termcolor](https://pypi.org/project/termcolor/) : Importación de colores\""
   ]
  },
  {
   "cell_type": "markdown",
   "id": "7509c480",
   "metadata": {},
   "source": [
    "Luego de haber enlazado cada una de las librerías, procedimos a importarlas para que los comandos respondan adecuadamente."
   ]
  },
  {
   "cell_type": "code",
   "execution_count": 2,
   "id": "c2ae488c",
   "metadata": {},
   "outputs": [],
   "source": [
    "import requests\n",
    "import time\n",
    "import csv\n",
    "import re\n",
    "from bs4 import BeautifulSoup\n",
    "import os\n",
    "import pandas as pd\n",
    "from termcolor import colored "
   ]
  },
  {
   "cell_type": "markdown",
   "id": "c853ba63",
   "metadata": {},
   "source": [
    "### Objetos/variables\n",
    "    Vamos a crear una serie de objetos o variables:"
   ]
  },
  {
   "cell_type": "code",
   "execution_count": 3,
   "id": "3f5a5bf6",
   "metadata": {},
   "outputs": [],
   "source": [
    "resultados = []"
   ]
  },
  {
   "cell_type": "markdown",
   "id": "7826a576",
   "metadata": {},
   "source": [
    "Si le paso la función type() veremos que se trata de un objeto tipo 'list' o \\\"lista\\\" de Python."
   ]
  },
  {
   "cell_type": "code",
   "execution_count": 4,
   "id": "5e954778",
   "metadata": {},
   "outputs": [
    {
     "data": {
      "text/plain": [
       "list"
      ]
     },
     "execution_count": 4,
     "metadata": {},
     "output_type": "execute_result"
    }
   ],
   "source": [
    "type (resultados)"
   ]
  },
  {
   "cell_type": "markdown",
   "id": "00e8e1ba",
   "metadata": {},
   "source": [
    "#### Web scrpping para dividir los códigos"
   ]
  },
  {
   "cell_type": "markdown",
   "id": "61f364d1",
   "metadata": {},
   "source": [
    "Luego de haber creado los objetivo o variables que trabajeremos, procedemos a la impresión del código fuente, en este caso detallaremos algunas secciones del diario El País.\n",
    "Para ello seccioné cada uno de los códigos, les añadí un **type** para que devuelva el mediante el request lo que se está pidiendo en la url.\n",
    "Posteriormente mediante un soup, hacemos la impresión del texto que hemos destacado en el request.\n",
    "Este proceso es realizado en los códigos a continuación:"
   ]
  },
  {
   "cell_type": "markdown",
   "id": "61304587",
   "metadata": {},
   "source": [
    "##### Impresión de titulares principales de El País"
   ]
  },
  {
   "cell_type": "code",
   "execution_count": 5,
   "id": "8800cf1c",
   "metadata": {},
   "outputs": [],
   "source": [
    "req = requests.get(\"https://resultados.elpais.com\")"
   ]
  },
  {
   "cell_type": "code",
   "execution_count": 6,
   "id": "d782d82e",
   "metadata": {},
   "outputs": [
    {
     "data": {
      "text/plain": [
       "requests.models.Response"
      ]
     },
     "execution_count": 6,
     "metadata": {},
     "output_type": "execute_result"
    }
   ],
   "source": [
    "type (req)"
   ]
  },
  {
   "cell_type": "code",
   "execution_count": 7,
   "id": "672e11b7",
   "metadata": {},
   "outputs": [],
   "source": [
    "# Si el estatus code no es 200 no se puede leer la página\n",
    "if (req.status_code != 200):\n",
    " raise Exception(\"No se puede hacer Web Scraping en\"+ URL)\n",
    "soup = BeautifulSoup(req.text, 'html.parser')"
   ]
  },
  {
   "cell_type": "code",
   "execution_count": 8,
   "id": "00260161",
   "metadata": {},
   "outputs": [
    {
     "name": "stdout",
     "output_type": "stream",
     "text": [
      "López Obrador pide a Biden “audacia” con la inmigración\n",
      "Estados Unidos mata al líder del ISIS en Siria en un ataque con dron\n",
      "Las carreteras de Colombia, Bolivia y Ecuador, entre las más lentas del mundo\n",
      "Pragmatismo en Argentina\n",
      "Una mejor manera de entender la relación México-Estados Unidos\n",
      "El sueño de San Martín y Bolívar y la profecía papal\n",
      "Educación híbrida: de la emergencia al cambio\n",
      "Las nuevas imágenes del telescopio ‘James Webb’ muestran planetas gigantes y galaxias chocando a altísima velocidad\n",
      "Óscar Marín: “Variando pequeñas piezas de la corteza cerebral se generan capacidades de superhéroe”\n",
      "La ingeniera que enseña a nuestro cuerpo a autorrepararse: “Hemos regenerado piel, cartílagos y vasos sanguíneos”\n",
      "Juan Carlos Blanco: “Ahora es casi imposible encontrar un cuento sobre un lobo malo”\n",
      "Boric anuncia una ayuda de 120 dólares para 7,5 millones de personas en medio de la crisis inflacionaria\n",
      "Twitter califica de “inválida” la renuncia de Elon Musk a comprarla\n",
      "El dólar alcanza la paridad con el euro por primera vez en 20 años\n",
      "Una nueva era recesiva parece inevitable\n",
      "Miles de japoneses despiden a Shinzo Abe tras un funeral privado con aires solemnes \n",
      "La política boliviana se “narcotiza” con acusaciones en todas las direcciones\n",
      "‘Succession’ y ‘Ted Lasso’ lideran las nominaciones a los Emmy 2022\n",
      "Polyforum Siqueiros: el sueño imposible de un empresario español y un pintor comunista\n",
      "Pedro Sánchez anuncia impuestos a eléctricas y bancos y medidas sociales ante el golpe de la inflación en España\n",
      "El padre de una víctima de un tiroteo interrumpe a un Biden en sus horas más bajas\n",
      "Estados Unidos extiende el estatus de protección a los migrantes venezolanos\n",
      "Boris Johnson bloquea la moción de censura presentada por la oposición laborista \n",
      "Kiev y Jersón, dos errores que marcan el curso de la guerra en Ucrania\n",
      "Un nuevo triángulo de la muerte en Michoacán: una fosa masiva resucita el horror en México\n",
      "Uber intentó recaudar impuestos de sus conductores mientras desviaba millones a sociedades opacas\n",
      "El informante de ‘Uber Files’: “La empresa estaba dispuesta a romper todas las normas”\n",
      "Documentos secretos desvelan las estrategias de Uber para implantarse en decenas de países\n",
      "“Somos esclavos de Uber”: el coste para los conductores de un modelo de negocio imposible\n",
      "Las infinitas posibilidades de un tablero de ajedrez\n",
      "“No hay pensamiento sin tiempo para pensar”\n",
      "“En el hospital, la enseñanza es una medicina más”\n",
      "“Lo dieron todo y no tuvieron a nadie”: el filme que desvela la cara más oscura de ‘Kids’\n",
      "Cómo el cine transformó a las diosas mitológicas en superheroínas\n",
      "Perder el tiempo, ganar la vida: un elogio de la distracción\n",
      "El ‘Indiana Jones del arte’ encuentra en la puerta de su casa un relicario medieval robado \n",
      "Marilyn Monroe hizo ricos a muchos hombres mientras se empobrecía: “No tuvo ni para un funeral decente”\n",
      "La respuesta de Florence Pugh a las feroces críticas a su pecho: “Respeten los cuerpos. Maduren”\n",
      "Cómo organizar un viaje al Amazonas, el destino de los grandes exploradores\n",
      "La máxima responsable del fútbol femenino en la UEFA: “El negocio no puede ser un copiar y pegar del masculino”\n",
      "Luis León ataca, pero la etapa del Tour de Francia la gana Cort y Pogacar no suelta el amarillo\n",
      "El campeón olímpico Mo Farah revela que fue víctima de tráfico ilegal y explotación en Reino Unido\n",
      "Las tribulaciones de Cristiano Ronaldo pasan por Qatar\n",
      "Jamie Dimon, el banquero más poderoso: “Las cosas pueden ir mucho peor”\n",
      "Los 50 años de Sofia Vergara, la mujer que permitió que la encasillasen para convertirse en la actriz mejor pagada de la televisión\n",
      "La vida de Rodrigo Londoño tras el final del guerrillero Timochenko\n",
      "EL PAÍS América gana el Premio de la Asociación Mundial de Editores al mejor sitio de noticias de Latinoamérica\n",
      "Jamie Dimon, the world’s most powerful banker: ‘Things can get much worse. We are facing very problems’\n",
      "Father of shooting victim interrupts Biden’s gun safety speech \n",
      "US extends protected status to Venezuelan migrants\n",
      "Uber forged deals with top Putin allies in failed bid to break into Russian market\n",
      "James Webb space telescope: A guide to the first full-color image\n",
      "The taboo of menopause: ‘You worry you’ll be labeled as old or incapable’\n",
      "Mar Castellanos, neurologist: ‘Stroke increasingly affects working-age people’\n",
      "Letras Americanas: la actualidad literaria de un continente vista por el escritor Emiliano Monge\n",
      "Americanas: Reportajes y noticias sobre feminismo e historias con enfoque de género de la región\n",
      "Toda la actualidad científica en el boletín de Materia\n",
      "Ideas: reportajes y entrevistas para entender el mundo\n",
      "El padre de una víctima de un tiroteo interrumpe a un Biden en sus horas más bajas\n",
      "La oposición francesa exige investigar los lazos de Macron con Uber\n",
      "El Partido Conservador endurece las normas de las primarias para acelerar la sustitución de Boris Johnson\n",
      "El dólar alcanza la paridad con el euro por primera vez en 20 años\n",
      "El aeropuerto londinense de Heathrow restringe el número de vuelos hasta septiembre \n",
      "Uber intentó recaudar impuestos de sus conductores mientras desviaba millones de euros a sociedades opacas\n",
      "Mônica Benício: “Quiero que Lula sea presidente, pero quiero que haga políticas feministas y para la población LGTBI”\n",
      "‘Antes de que lleguen las nubes’: una novela negra nórdica con flamenco y ‘pescaíto’ frito\n",
      "El noble y valiente jefe shawnee Tecumseh lidera la nueva incursión de libros sobre los indios norteamericanos\n",
      "Beethoven veranea por fin en Noruega\n",
      "El tabú de la menopausia: “Hay vergüenza, preocupa ser identificadas como viejas o incapaces”\n",
      "Óvulos que se agotan y declive del esperma: todo lo que ignoramos sobre fertilidad hasta el momento de querer hijos\n",
      "Rosaly Lopes, la persona que más volcanes ha descubierto: “Puede haber vida en Titán” \n",
      "España lo tiene todo en el Mundial de hockey hierba\n",
      "Nadine Kessler, máxima responsable del fútbol femenino en la UEFA: “El negocio no puede ser un copiar y pegar del masculino”\n",
      "La Superliga, a los países contrarios a una competición cerrada: “Creen que la UEFA es solidaria, pero solo les da limosna”\n",
      "Si convence a un tercio de sus vecinos puede poner placas solares en la azotea: “El autoconsumo colectivo es imparable”\n",
      "En la lancha de los vigilantes del pulmón del Mediterráneo: “Está usted sobre una pradera de posidonia” \n",
      "El Papa urge a los jóvenes a comer menos carne “para salvar el medio ambiente”\n",
      "La inteligencia artificial de Google es capaz de aprender como un bebé\n",
      "Las activistas que dejaron sin anuncios a la web de Steve Bannon van ahora a por Fox News\n",
      "Jorge Stolfi: “Soy catedrático de informática. Como mis colegas, sé que la tecnología de bitcoin es basura”\n",
      "El Constitucional avala que los acusados del ‘procés’ no pudieran delegar su voto parlamentario\n",
      "Los delitos de tráfico aumentan pese al descenso de la movilidad y de los muertos en carretera\n",
      "El juez ordena buscar ADN en la ropa interior de las tres niñas de Alcàsser\n",
      "Sonsoles Ónega ficha por Atresmedia \n",
      "‘Disculpen a Almeida, quizá estaba viendo el Orgullo por la tele’, por Paloma Rando\n",
      "‘Un gran poder conlleva una gran corrupción’, por Jimina Sabadú\n",
      "Jennifer Lopez sufrió bloqueos y ataques de pánico por agotamiento que le hicieron cambiar sus hábitos de vida\n",
      "La DJ B Jones, de las noches en la carretera al olimpo de la música electrónica: “Ahora somos el centro de la fiesta” \n",
      "El espectáculo (teatral) debe continuar en la alta costura de París\n",
      "El Panamá indígena busca empoderar a sus mujeres\n",
      "Volver a la escuela tras dos años de pandemia\n",
      "El restaurante madrileño en el que la cocina gaditana y la francesa se enamoraron\n",
      "¿Dónde está exactamente el origen del mal?\n",
      "Alemanes, no tomar partido por Ucrania es ser parte. La respuesta del historiador Timothy Snyder a Jürgen Habermas\n",
      "Maneras de vivir después de muerto\n",
      "Los artesanos del coche del futuro son españoles\n",
      "Primas más altas para asegurar un mundo enloquecido\n",
      "Tristes, drogados, periféricos: la nueva literatura que refleja el dolor de los polígonos\n",
      "La ‘Safo’ de Christina Rosenvinge no convence\n",
      "Arte NFT para sacar de la cárcel a mujeres insolventes en Egipto\n",
      "Atrapados en la encrucijada migratoria de Agadez\n",
      "Cómo organizar un viaje al Amazonas, el destino de los grandes exploradores\n",
      "‘La casa de papel’ y ‘Valeria’, guías perfectas por la ciudad de Madrid\n",
      "Infidelidad financiera, cuando lo que se oculta es el extracto bancario\n",
      "De Olivia de Havilland a Raquel Welch: el biquini estuvo solo permitido a las grandes divas\n",
      "Róisín Murphy: “Los gays entienden la opresión de las mujeres. No se detienen ante nada”\n",
      "Rebecca Makkai: “Solo los extremistas creen que no se puede escribir desde otros puntos de vista”\n",
      "Ensalada de albaricoques, queso y lechuga\n",
      "Boquerones ‘amoragaos’: la receta de Granada en la que menos es más\n",
      "El Gobierno podrá vetar la compra de inmuebles por fondos extranjeros\n",
      "Iglesias, tras los audios de Villarejo: “No es grave porque me haya hecho daño a mí, sino a uno de los pilares de la democracia”\n",
      "Ponte a prueba con nuestros crucigramas, sopas de letras, sudokus y juegos arcade\n",
      "Momentazo en el Congreso: Feijóo saluda a Garzón y ojo a lo que hace Irene Montero\n",
      "Pablo Torre convence a Xavi\n",
      "‘Uber, el capitalismo salvaje de los que parten la pana’, por Sergio C. Fanjul\n"
     ]
    }
   ],
   "source": [
    "tags = soup.findAll(\"h2\")\n",
    "\n",
    "for h2 in tags:\n",
    "    print(h2.text)\n",
    "    resultados.append(h2.text)"
   ]
  },
  {
   "cell_type": "markdown",
   "id": "42774bf1",
   "metadata": {},
   "source": [
    "### Impresión de los titulares internacionales "
   ]
  },
  {
   "cell_type": "code",
   "execution_count": 9,
   "id": "3e76335a",
   "metadata": {},
   "outputs": [],
   "source": [
    "req2 = requests.get(\"https://elpais.com/internacional\")"
   ]
  },
  {
   "cell_type": "code",
   "execution_count": 10,
   "id": "a7d148e2",
   "metadata": {},
   "outputs": [
    {
     "data": {
      "text/plain": [
       "requests.models.Response"
      ]
     },
     "execution_count": 10,
     "metadata": {},
     "output_type": "execute_result"
    }
   ],
   "source": [
    "type (req2)"
   ]
  },
  {
   "cell_type": "code",
   "execution_count": 11,
   "id": "6214f856",
   "metadata": {},
   "outputs": [],
   "source": [
    "# Si el estatus code no es 200 no se puede leer la página\n",
    "if (req.status_code != 200):\n",
    " raise Exception(\"No se puede hacer Web Scraping en\"+ URL)\n",
    "soup2 = BeautifulSoup(req2.text, 'html.parser')"
   ]
  },
  {
   "cell_type": "code",
   "execution_count": 12,
   "id": "c27f0cbe",
   "metadata": {},
   "outputs": [
    {
     "name": "stdout",
     "output_type": "stream",
     "text": [
      "Boris Johnson bloquea la moción de censura presentada por la oposición laborista \n",
      "López Obrador pide a Biden “audacia” con la inmigración\n",
      "Kiev y Jersón, dos errores que marcan el curso de la guerra en Ucrania\n",
      "La guerra de Ucrania durará\n",
      "Goodbye, Boris?\n",
      "Shinzo Abe transformó y transformará Japón\n",
      "Un magnicidio inusual que hace sentir a los japoneses vulnerables \n",
      "Populistas occidentales por el desagüe de la historia\n",
      "EE UU mata al líder del ISIS en Siria en un ataque con dron\n",
      "La oposición francesa exige investigar los lazos de Macron con Uber\n",
      "Miles de japoneses despiden a Shinzo Abe tras un funeral privado con aires solemnes \n",
      "El preso político más famoso de Egipto cumple 100 días en huelga de hambre\n",
      "Alemania teme que el corte del gas ruso por mantenimiento del Nord Stream 1 se convierta en definitivo\n",
      "Los manifestantes se atrincheran en el palacio presidencial de Sri Lanka\n",
      "El Gobierno de Macron supera con facilidad la moción de censura de la izquierda\n",
      "López Obrador se reúne con Kamala Harris para tratar la migración en Centroamérica\n",
      "El Partido Conservador endurece las normas de las primarias para acelerar la sustitución de Boris Johnson\n",
      "La economía de Ucrania, la otra gran víctima de la guerra\n",
      "El padre de una víctima de un tiroteo interrumpe a un Biden en sus horas más bajas\n",
      "Boric anuncia una ayuda de 120 dólares para 7,5 millones de personas en medio de la crisis inflacionaria\n",
      "Estados Unidos extiende el estatus de protección a los migrantes venezolanos\n",
      "Biden y López Obrador negociarán el refuerzo de las fronteras \n",
      "La política boliviana se “narcotiza” con acusaciones en todas las direcciones\n",
      "El padre de una víctima de un tiroteo interrumpe a un Biden en sus horas más bajas\n"
     ]
    }
   ],
   "source": [
    "tags = soup2.findAll(\"h2\")\n",
    "\n",
    "for h2 in tags:\n",
    "    print(h2.text)\n",
    "    resultados.append(h2.text)"
   ]
  },
  {
   "cell_type": "markdown",
   "id": "983520cd",
   "metadata": {},
   "source": [
    "###  Impresión de artículos de opinión"
   ]
  },
  {
   "cell_type": "code",
   "execution_count": 13,
   "id": "6fc228ff",
   "metadata": {},
   "outputs": [],
   "source": [
    "req3 = requests.get(\"https://elpais.com/opinion\")"
   ]
  },
  {
   "cell_type": "code",
   "execution_count": 14,
   "id": "ffb882b2",
   "metadata": {},
   "outputs": [
    {
     "data": {
      "text/plain": [
       "requests.models.Response"
      ]
     },
     "execution_count": 14,
     "metadata": {},
     "output_type": "execute_result"
    }
   ],
   "source": [
    "type (req3)"
   ]
  },
  {
   "cell_type": "code",
   "execution_count": 15,
   "id": "83f8f4ad",
   "metadata": {},
   "outputs": [],
   "source": [
    "# Si el estatus code no es 200 no se puede leer la página\n",
    "if (req.status_code != 200):\n",
    " raise Exception(\"No se puede hacer Web Scraping en\"+ URL)\n",
    "soup3 = BeautifulSoup(req3.text, 'html.parser')"
   ]
  },
  {
   "cell_type": "code",
   "execution_count": 16,
   "id": "e19598c5",
   "metadata": {},
   "outputs": [
    {
     "name": "stdout",
     "output_type": "stream",
     "text": [
      "Multa a las constructoras\n",
      "Pragmatismo en Argentina\n",
      "La buena muerte\n",
      "¿El PSOE de antes?\n",
      "Entre líneas\n",
      "Hacerse cargo\n",
      "Preservar la cohesión social, prioridad económica\n",
      "A por todas… y a por todo\n",
      "Miguel Ángel\n",
      "Fausto en Downing Street\n",
      "Putin y el mar\n",
      "El don de la curiosidad\n",
      "Becas Ayuso: y ahora también un Ingreso Máximo Vital\n",
      "El Roto\n",
      "Peridis\n",
      "Flavita Banana\n",
      "Riki Blanco\n",
      "Sciammarella\n",
      "Planeta de Plástico, por Malagón\n",
      "Envía tu carta\n",
      "Si no hay castigo, se repetirá la jugada \n",
      "La empresa es el nuevo dogma\n",
      "Izquierdas, derechas y la casa sin barrer\n",
      "En la calle circulan rumores\n",
      "Opinar sin insultar\n",
      "Contra el conflicto de intereses, transparencia\n",
      "El defensor del lector contesta\n"
     ]
    }
   ],
   "source": [
    "tags = soup3.findAll(\"h2\")\n",
    "\n",
    "for h2 in tags:\n",
    "    print(h2.text)\n",
    "    resultados.append(h2.text)"
   ]
  },
  {
   "cell_type": "markdown",
   "id": "f0b7653a",
   "metadata": {},
   "source": [
    "### Impresión de El País de España"
   ]
  },
  {
   "cell_type": "code",
   "execution_count": 17,
   "id": "1484fc9f",
   "metadata": {},
   "outputs": [],
   "source": [
    "req4 = requests.get(\"https://elpais.com/espana/\")"
   ]
  },
  {
   "cell_type": "code",
   "execution_count": 18,
   "id": "7e3ef914",
   "metadata": {},
   "outputs": [
    {
     "data": {
      "text/plain": [
       "requests.models.Response"
      ]
     },
     "execution_count": 18,
     "metadata": {},
     "output_type": "execute_result"
    }
   ],
   "source": [
    "type(req4)"
   ]
  },
  {
   "cell_type": "code",
   "execution_count": 19,
   "id": "1e5050ea",
   "metadata": {},
   "outputs": [],
   "source": [
    "# Si el estatus code no es 200 no se puede leer la página\n",
    "if (req.status_code != 200):\n",
    " raise Exception(\"No se puede hacer Web Scraping en\"+ URL)\n",
    "soup4 = BeautifulSoup(req4.text, 'html.parser')"
   ]
  },
  {
   "cell_type": "code",
   "execution_count": 20,
   "id": "e30e059f",
   "metadata": {},
   "outputs": [
    {
     "name": "stdout",
     "output_type": "stream",
     "text": [
      "Sánchez anuncia impuestos a eléctricas y bancos y medidas sociales ante el golpe de la inflación\n",
      "Inflación, paro, precio de la energía: guía para entender el estado de la nación antes del debate \n",
      "El ‘caso Esther López’, tras las huellas de un atropello mortal\n",
      "Ante la crisis, ¿gestionas o lideras?\n",
      "El almirante Cervera y el honor de España\n",
      "El Gran Retroceso\n",
      "Santa Bárbara y la cultura de la defensa\n",
      "¿Es posible disentir de esta retórica belicista?\n",
      "El vocabulario del presidente, mirado con lupa  \n",
      "Gamarra desviste a Feijóo con el estilo Casado\n",
      "Gamarra equipara el espíritu de Ermua tras el asesinato de Miguel Ángel Blanco a la oposición al Gobierno de Sánchez\n",
      "El incendio en la comarca cacereña de Las Hurdes avanza sin control y obliga a desalojar a 400 personas\n",
      "La ola de calor entra en su fase crítica con un aviso rojo en Galicia por máximas de 42° \n",
      "Los delitos de tráfico aumentan pese al descenso de la movilidad y de los muertos en carretera\n",
      "La policía recupera el cadáver de una mujer con signos de violencia en una alcantarilla de Málaga\n",
      "Los socios usarán el debate para exigir a Sánchez una reforma fiscal de izquierdas\n",
      "El PP de Feijóo eludió dar la batalla parlamentaria para que su líder participara \n",
      "Sánchez anunciará medidas de protección para las clases medias\n",
      "El Gobierno y el PP cierran sin acuerdo la negociación para desbloquear el Poder Judicial \n",
      "Un paraíso en el que avistar más de 20 especies de cetáceos\n",
      "El secreto de Fuerteventura se hace viral: la ‘playa de las palomitas’\n",
      "Un vino para triunfar entre los mileniales\n",
      "Artesanía y cultura que conquista a las ‘influencers’\n",
      "Más allá de la capital. El triunfo de la vida rural madrileña\n"
     ]
    }
   ],
   "source": [
    "tags = soup4.findAll(\"h2\")\n",
    "\n",
    "for h2 in tags:\n",
    "    print(h2.text)\n",
    "    resultados.append(h2.text)"
   ]
  },
  {
   "cell_type": "markdown",
   "id": "963ffda7",
   "metadata": {},
   "source": [
    "### Importar la sección de economía"
   ]
  },
  {
   "cell_type": "code",
   "execution_count": 21,
   "id": "5f8c2dcd",
   "metadata": {},
   "outputs": [],
   "source": [
    "req5 = requests.get(\"https://elpais.com/economia/\")"
   ]
  },
  {
   "cell_type": "code",
   "execution_count": 22,
   "id": "d59e1a88",
   "metadata": {},
   "outputs": [
    {
     "data": {
      "text/plain": [
       "requests.models.Response"
      ]
     },
     "execution_count": 22,
     "metadata": {},
     "output_type": "execute_result"
    }
   ],
   "source": [
    "type(req5)"
   ]
  },
  {
   "cell_type": "code",
   "execution_count": 23,
   "id": "1c9eb1e2",
   "metadata": {},
   "outputs": [],
   "source": [
    "# Si el estatus code no es 200 no se puede leer la página\n",
    "if (req.status_code != 200):\n",
    " raise Exception(\"No se puede hacer Web Scraping en\"+ URL)\n",
    "soup5 = BeautifulSoup(req5.text, 'html.parser')"
   ]
  },
  {
   "cell_type": "code",
   "execution_count": 24,
   "id": "e7f98868",
   "metadata": {},
   "outputs": [
    {
     "name": "stdout",
     "output_type": "stream",
     "text": [
      "El dólar alcanza la paridad con el euro por primera vez en 20 años\n",
      "La banca cierra en Bolsa con una caída cercana al 5% tras el nuevo impuesto anunciado por Sánchez \n",
      "Estas son las medidas anunciadas por Sánchez: impuesto a bancos y energéticas; abonos de Renfe gratis y complemento a las becas\n",
      "Marta Ortega en su primera junta como presidenta: “Inditex tiene aciertos y errores, pero nunca se detiene”\n",
      "Paridad inquietante\n",
      "El Supremo, contra los consumidores\n",
      "Las Bolsas y la ‘Quinta’ de Chaikovski\n",
      "Empresas grandes y sueldos diferentes\n",
      "Riesgos de recesión (y alguna luz)\n",
      "Cuatro de cada 10 municipios españoles no tienen acceso a servicios bancarios\n",
      "El aeropuerto londinense de Heathrow restringe el número de vuelos hasta septiembre \n",
      "Los aeropuertos españoles recuperaron el 82% de los viajeros en el primer semestre\n",
      "Enagás invertirá casi 4.800 millones hasta 2030 para capear la crisis energética\n",
      "Twitter califica de “inválida e injusta” la renuncia de Elon Musk a comprarla \n",
      "Los trabajadores siguen perdiendo poder adquisitivo: en junio su salario creció ocho puntos menos que la inflación \n",
      "Los trabajadores de Paradores cobrarán un plus de dos millones por estar en su casa durante el confinamiento\n",
      "El préstamo pedido por un matrimonio sólo lo paga el cónyuge que lo utilizó\n",
      "Los artesanos del coche del futuro son españoles\n",
      "Primas más altas para asegurar un mundo enloquecido\n",
      "Uber intentó recaudar impuestos de sus conductores mientras desviaba millones de euros a sociedades opacas\n",
      "Jamie Dimon, el banquero más poderoso del mundo: “Los problemas económicos no son pasajeros. Las cosas pueden ir mucho peor”\n",
      "Ezentis se asoma al precipicio\n",
      "Vecinos al borde de un ataque de nervios: morosos que usan la piscina, trasteros que son despensas y ruidos diarios\n",
      "Caso Laso: ¿Me pueden echar tras sufrir un infarto?\n",
      "Remite el riesgo de estanflación\n",
      "El Ejecutivo acortará a tres meses el plazo para autorizar inversiones extranjeras\n",
      "Enagas confía en que España puede afrontar un corte total del suministro ruso\n",
      "Los caseros estudian fórmulas para reclamar al Estado 1.700 millones por el tope al IPC\n",
      "Cada 32 horas un nuevo municipio se queda sin oficina bancaria\n",
      "El préstamo pedido por un matrimonio sólo lo paga el cónyuge que lo utilizó\n",
      "No se puede desheredar a un familiar con el que no se tiene relación, según el Supremo\n",
      "Líos en la piscina comunitaria: normas y sentencias para un chapuzón seguro\n",
      "Música que transforma vidas y esboza futuros\n",
      "El futuro probable de una sociedad insostenible\n",
      "Francisco Javier Blasco: “Llevamos años sin mejorar la eficacia de las políticas activas de empleo”\n",
      "La hora del bienestar corporativo\n",
      "Cancerberos del bienestar de la empresa\n",
      "Cómo garantizar la seguridad en un mundo de amenazas híbridas\n",
      "¿Cuáles son los dilemas éticos del uso de la inteligencia artificial?\n",
      "Las aventuras de un par de calcetines que dan empleo a todo un pueblo\n",
      "Cultura financiera como punto de partida para volver a empezar\n",
      "¿Puede convertirse España en una de las potencias logísticas del futuro?\n",
      "Por qué digitalizar una pyme aporta más empleo\n",
      "‘Coopetir’: la actitud DFactory\n",
      "Así serán las ciudades de la (nueva) última milla\n",
      "Cinco errores habituales al digitalizar un negocio \n",
      "PERTE Agroalimentario: ¿cómo acceder a los fondos europeos?\n",
      "Fondos soberanos: ¿Cómo funcionan las cajas fuertes de los estados más ricos?\n",
      "¿Crisis de deuda mundial a la vista?\n",
      "El método Muñoz para triunfar en cada reto que se propone\n",
      "Gloria Ramos, cuando el afán de superación acaba en la alfombra roja \n",
      "Ocho ‘startups’ innovadoras con nombre propio\n",
      "Hotmart y su plataforma 360 para creadores de contenidos\n"
     ]
    }
   ],
   "source": [
    "tags = soup5.findAll(\"h2\")\n",
    "\n",
    "for h2 in tags:\n",
    "    print(h2.text)\n",
    "    resultados.append(h2.text)"
   ]
  },
  {
   "cell_type": "markdown",
   "id": "bcde837f",
   "metadata": {},
   "source": [
    "### Imprimir sección de sociedad"
   ]
  },
  {
   "cell_type": "code",
   "execution_count": 25,
   "id": "d22b5277",
   "metadata": {},
   "outputs": [],
   "source": [
    "req6 = requests.get(\"https://elpais.com/sociedad/\")"
   ]
  },
  {
   "cell_type": "code",
   "execution_count": 26,
   "id": "d61e8561",
   "metadata": {},
   "outputs": [
    {
     "data": {
      "text/plain": [
       "requests.models.Response"
      ]
     },
     "execution_count": 26,
     "metadata": {},
     "output_type": "execute_result"
    }
   ],
   "source": [
    "type(req6)"
   ]
  },
  {
   "cell_type": "code",
   "execution_count": 27,
   "id": "b3c9c2e1",
   "metadata": {},
   "outputs": [],
   "source": [
    "# Si el estatus code no es 200 no se puede leer la página\n",
    "if (req.status_code != 200):\n",
    " raise Exception(\"No se puede hacer Web Scraping en\"+ URL)\n",
    "soup6 = BeautifulSoup(req6.text, 'html.parser')"
   ]
  },
  {
   "cell_type": "code",
   "execution_count": 28,
   "id": "0d1ab589",
   "metadata": {},
   "outputs": [
    {
     "name": "stdout",
     "output_type": "stream",
     "text": [
      "Absuelto un conductor que se dio a la fuga tras arrollar a un ciclista: “Te sientes atropellado por el coche y la justicia”\n",
      "Europa amplía la vacunación contra la viruela del mono a las personas con prácticas sexuales de riesgo ante el alza de casos\n",
      "El deporte ya no es solo deporte: el sector atrae todo tipo de perfiles profesionales\n",
      "Educación híbrida: de la emergencia a la transformación \n",
      "Jóvenes atrapados en el efecto cicatriz\n",
      "La libertad guiando (dicen) a la escuela\n",
      "El control del cuerpo de las mujeres\n",
      "El Tribunal Supremo avala el indulto parcial de Juana Rivas\n",
      "Los sanfermines de este año registran su primera denuncia por violación\n",
      "Juan Carlos Blanco: “Ahora es casi imposible encontrar un cuento sobre un lobo malo”\n",
      "Si convence a un tercio de sus vecinos puede poner placas solares en la azotea: “El autoconsumo colectivo es imparable”\n",
      "Rusia perseguirá la difusión pública de manifestaciones de afecto entre homosexuales y de apoyo al colectivo LGTBI\n",
      "Gabriela Ossenbach, experta en manuales escolares: “Con los libros de texto se puede crear fácilmente alarma social, pero no está justificada”\n",
      "El Papa urge a los jóvenes a comer menos carne “para salvar el medio ambiente”\n",
      "Madres solas con menos de mil euros al mes: cuando las vacaciones no son una opción\n",
      "Mônica Benício: “Quiero que Lula sea presidente, pero quiero que haga políticas feministas y para la población LGTBI”\n",
      "Un paso atrás, dos adelante: el avance de los derechos LGTBI en la antigua Yugoslavia\n",
      "La escalada vertiginosa de notas en Bachillerato: los sobresalientes de los que llegan a Selectividad se doblan en seis años\n",
      "Residuos para mover el mundo\n",
      "Se buscan profesionales en economía circular\n",
      "¿Por qué hablar de VIH en el Orgullo y no en los sanfermines?\n",
      "Mitos, falsedades, bulos y realidades sobre el VIH 40 años después\n",
      "Qué son las evidencias científicas y por qué están revolucionando la educación\n",
      "Munic, el joven redimido por el trap\n",
      "El tremendo peso de la obesidad en España\n",
      "Interactivo | Los 14 cambios en los aeropuertos españoles que no ves y que ya están ocurriendo\n",
      "Encontrar empleo pese a los obstáculos. Por dónde empezar la búsqueda\n",
      "La fórmula de Carboneros para evitar el éxodo rural: trabajar cuidando a los vecinos \n",
      "Consejos y cuidados para el primer verano con un gatito o un perrito\n",
      "¿Qué tienen en común perros y gatos cuando son cachorros?\n",
      "La guía definitiva para alimentarnos mejor (y cuidar nuestra salud y la del planeta)\n",
      "El metro como refugio. De los andenes de Madrid en 1936 a los de Kiev en 2022\n",
      "La salud mental de los refugiados: cómo abrirse para cerrar las heridas\n",
      "Yogures con menos azúcar, paso firme hacia la alimentación infantil del futuro\n",
      "Conectada con el mercado laboral y tecnológica: así es la universidad del presente\n",
      "Así es la formación más abierta y flexible, a prueba de crisis\n"
     ]
    }
   ],
   "source": [
    "tags = soup6.findAll(\"h2\")\n",
    "\n",
    "for h2 in tags:\n",
    "    print(h2.text)\n",
    "    resultados.append(h2.text)"
   ]
  },
  {
   "cell_type": "markdown",
   "id": "1952a267",
   "metadata": {},
   "source": [
    "### Imprimir sección de educación"
   ]
  },
  {
   "cell_type": "code",
   "execution_count": 29,
   "id": "da86d092",
   "metadata": {},
   "outputs": [],
   "source": [
    "req7 = requests.get(\"https://elpais.com/educacion/\")"
   ]
  },
  {
   "cell_type": "code",
   "execution_count": 30,
   "id": "59b39ac8",
   "metadata": {},
   "outputs": [
    {
     "data": {
      "text/plain": [
       "requests.models.Response"
      ]
     },
     "execution_count": 30,
     "metadata": {},
     "output_type": "execute_result"
    }
   ],
   "source": [
    "type (req7)"
   ]
  },
  {
   "cell_type": "code",
   "execution_count": 31,
   "id": "7ab92b4d",
   "metadata": {},
   "outputs": [],
   "source": [
    "# Si el estatus code no es 200 no se puede leer la página\n",
    "if (req.status_code != 200):\n",
    " raise Exception(\"No se puede hacer Web Scraping en\"+ URL)\n",
    "soup7 = BeautifulSoup(req7.text, 'html.parser')\n"
   ]
  },
  {
   "cell_type": "code",
   "execution_count": 32,
   "id": "6815ecc5",
   "metadata": {},
   "outputs": [
    {
     "name": "stdout",
     "output_type": "stream",
     "text": [
      "Educación híbrida: de la emergencia a la transformación \n",
      "El deporte ya no es solo deporte: el sector atrae todo tipo de perfiles profesionales\n",
      "Gabriela Ossenbach, experta en manuales escolares: “Con los libros de texto se puede crear fácilmente alarma social, pero no está justificada”\n",
      "La libertad guiando (dicen) a la escuela\n",
      "Intento de rebelión de los directores de primaria de Cataluña por los nuevos horarios de septiembre\n",
      "La escalada vertiginosa de notas en Bachillerato: los sobresalientes de los que llegan a Selectividad se doblan en seis años\n",
      "El 60% del dinero destinado a becas educativas en Madrid será para los centros privados\n",
      "El 60% de los universitarios no se ve preparado para un mercado laboral que no encuentra los perfiles necesarios  \n",
      "¿Cómo se cierra un colegio público?\n",
      "¿Hay que obligar a los niños a hacer deberes en verano? Los expertos recomiendan actividades que no se parezcan a las tareas escolares\n",
      "Los sindicatos educativos catalanes convocan huelga el 7 de septiembre, primer día de curso en los institutos, y el 28\n",
      "Sin currículos\n",
      "La escuela concertada ante las desigualdades: el debate pendiente\n",
      "La equidad frente a las políticas educativas de privatización en Andalucía\n",
      "No hay lunes al sol en la Universidad\n",
      "El nuevo sistema para evaluar los conocimientos digitales de los profesores valdrá en toda España\n",
      "Ofrecer comedor gratis en todos los colegios públicos es “alcanzable y urgente”: costaría 1.664 millones al año, según la ONG Educo  \n",
      "Una fórmula para que la escuela pública compita mejor con la concertada\n",
      "La pérdida de alumnos por el descenso de la natalidad está afectando con más fuerza a la escuela pública que a la concertada\n",
      "La escalada vertiginosa de notas en Bachillerato: los sobresalientes de los que llegan a Selectividad se doblan en seis años\n",
      "El caso de Georgia, en EE UU: becar sin importar la renta agranda la desigualdad\n",
      "El techo de cristal del grado medio de FP: candidatos demasiado preparados se quedan con los puestos\n",
      "La implantación del nuevo Bachillerato general fracasa pese a su demanda potencial: “Creímos que lo pedirían seis alumnos y lo han hecho 27”\n",
      "Toni Solano, director de instituto: “Veo mal a los niños, necesitan muchísima ayuda”\n",
      "Una historia en la que caben Alaska, García Lorca, Suárez y Popper: la Universidad Internacional Menéndez Pelayo cumple 90 años \n",
      "Subirats reinterpreta la ley de Universidades: freno a la precariedad, facilidades para los alumnos extranjeros y ciencia abierta\n",
      "Las universitarias desertan del grado de Matemáticas ahora que tiene pleno empleo. ¿Por qué?\n",
      "Golpe a la temporalidad en las universidades: 25.000 profesores asociados serán indefinidos a tiempo parcial\n",
      "Las infinitas posibilidades de un tablero de ajedrez\n",
      "“No hay pensamiento sin tiempo para pensar”\n",
      "“En el hospital, la enseñanza es una medicina más”\n"
     ]
    }
   ],
   "source": [
    "tags = soup7.findAll(\"h2\")\n",
    "\n",
    "for h2 in tags:\n",
    "    print(h2.text)\n",
    "    resultados.append(h2.text)"
   ]
  },
  {
   "cell_type": "markdown",
   "id": "d5689168",
   "metadata": {},
   "source": [
    "### Imprimir sección de clima y medio ambiente"
   ]
  },
  {
   "cell_type": "code",
   "execution_count": 33,
   "id": "6ed5b1d2",
   "metadata": {},
   "outputs": [],
   "source": [
    "req8 = requests.get(\"https://elpais.com/clima-y-medio-ambiente/\")"
   ]
  },
  {
   "cell_type": "code",
   "execution_count": 34,
   "id": "23b796e5",
   "metadata": {},
   "outputs": [
    {
     "data": {
      "text/plain": [
       "requests.models.Response"
      ]
     },
     "execution_count": 34,
     "metadata": {},
     "output_type": "execute_result"
    }
   ],
   "source": [
    "type (req8)"
   ]
  },
  {
   "cell_type": "code",
   "execution_count": 35,
   "id": "aa80d0ec",
   "metadata": {},
   "outputs": [],
   "source": [
    "# Si el estatus code no es 200 no se puede leer la página\n",
    "if (req.status_code != 200):\n",
    " raise Exception(\"No se puede hacer Web Scraping en\"+ URL)\n",
    "soup8 = BeautifulSoup(req8.text, 'html.parser')"
   ]
  },
  {
   "cell_type": "code",
   "execution_count": 36,
   "id": "d4c2a1b7",
   "metadata": {},
   "outputs": [
    {
     "name": "stdout",
     "output_type": "stream",
     "text": [
      "Las claves de una ola de calor que desafía todos los récords de intensidad, extensión y duración\n",
      "Absuelto un conductor que se dio a la fuga tras arrollar a un ciclista: “Te sientes atropellado por el coche y la justicia”\n",
      "El incendio en la comarca cacereña de Las Hurdes avanza sin control y obliga a desalojar a 400 personas\n",
      "Juan Carlos Blanco: “Ahora es casi imposible encontrar un cuento sobre un lobo malo”\n",
      "Si convence a un tercio de sus vecinos puede poner placas solares en la azotea: “El autoconsumo colectivo es imparable”\n",
      "El Papa urge a los jóvenes a comer menos carne “para salvar el medio ambiente”\n",
      "Segunda ola calor del verano: al menos cuatro días con máximas de hasta 46° y noches tórridas a más de 25°\n",
      "Europa baraja eliminar el biodiésel de soja y palma para frenar la deforestación tropical\n",
      "Portugal se enfrenta a una oleada de incendios que han afectado ya a 6.400 hectáreas\n",
      "En la lancha de los vigilantes del pulmón del Mediterráneo: “Está usted sobre una pradera de posidonia” \n",
      "La sobrexplotación amenaza a las especies silvestres de las que dependen miles de millones de personas en el mundo\n",
      "Un plan de retirada  \n",
      "Crisis energética y precios del carbono\n",
      "La lección del martín pescador para afrontar la crisis ecológica\n",
      "Estocolmo+50: mirar atrás para tomar impulso\n",
      "Ríos imposibles: las 171.000 barreras que rompen el curso de agua en España\n",
      "La UE abraza las renovables para romper la dependencia de Rusia\n",
      "La lucha en un pueblo de Teruel para salvar su última montaña\n",
      "¿Qué aire respiran los niños de Madrid y Barcelona? En el 46% de los colegios se supera la contaminación permitida\n",
      "Las infinitas posibilidades de un tablero de ajedrez\n",
      "“No hay pensamiento sin tiempo para pensar”\n",
      "“En el hospital, la enseñanza es una medicina más”\n"
     ]
    }
   ],
   "source": [
    "tags = soup8.findAll(\"h2\")\n",
    "\n",
    "for h2 in tags:\n",
    "    print(h2.text)\n",
    "    resultados.append(h2.text)"
   ]
  },
  {
   "cell_type": "markdown",
   "id": "0b8dcf14",
   "metadata": {},
   "source": [
    "### Imprimir la sección de ciencia"
   ]
  },
  {
   "cell_type": "code",
   "execution_count": 37,
   "id": "0a088116",
   "metadata": {},
   "outputs": [],
   "source": [
    "req9 = requests.get(\"https://elpais.com/ciencia/\")"
   ]
  },
  {
   "cell_type": "code",
   "execution_count": 38,
   "id": "b504264a",
   "metadata": {},
   "outputs": [
    {
     "data": {
      "text/plain": [
       "requests.models.Response"
      ]
     },
     "execution_count": 38,
     "metadata": {},
     "output_type": "execute_result"
    }
   ],
   "source": [
    "type(req9)"
   ]
  },
  {
   "cell_type": "code",
   "execution_count": 39,
   "id": "f87fda95",
   "metadata": {},
   "outputs": [],
   "source": [
    "# Si el estatus code no es 200 no se puede leer la página\n",
    "if (req.status_code != 200):\n",
    " raise Exception(\"No se puede hacer Web Scraping en\"+ URL)\n",
    "soup9 = BeautifulSoup(req9.text, 'html.parser')\n"
   ]
  },
  {
   "cell_type": "code",
   "execution_count": 40,
   "id": "83003bd3",
   "metadata": {},
   "outputs": [
    {
     "name": "stdout",
     "output_type": "stream",
     "text": [
      "Las nuevas imágenes del telescopio ‘James Webb’ muestran planetas gigantes, estrellas agonizantes y galaxias chocando a altísima velocidad\n",
      "No son estrellas sino galaxias: guía rápida de la primera foto del telescopio ‘James Webb’\n",
      "El telescopio ‘James Webb’ desvela miles de galaxias en el universo profundo, en su primera imagen a todo color\n",
      "Óscar Marín, neurocientífico: “Variando pequeñas piezas de la corteza cerebral se generan capacidades de superhéroe”\n",
      "La ingeniera que enseña a nuestro cuerpo a autorrepararse: “Hemos regenerado piel, cartílagos y vasos sanguíneos, pero todavía tenemos que hacer más”\n",
      "El ‘James Webb’ se prepara para su gran hito: las primeras imágenes\n",
      "El tabú de la menopausia: “Hay vergüenza, preocupa ser identificadas como viejas o incapaces”\n",
      "Mar Castellanos, neuróloga: “El ictus afecta cada vez más a personas en edad laboral. Las enfermedades cardiovasculares son una epidemia”\n",
      "¿Es la consciencia una ilusión intrascendente?\n",
      "Óvulos que se agotan y declive del esperma: todo lo que ignoramos sobre fertilidad hasta el momento de querer hijos\n",
      "Hallada en Atapuerca la cara del humano más antiguo de Europa\n",
      "El humano más antiguo de Europa: prehistoria que hace historia\n",
      "Rosaly Lopes, la persona que más volcanes ha descubierto: “Puede haber vida en Titán” \n",
      "Una cena conflictiva\n",
      "‘Meraxes gigas’: descubierta en la Patagonia argentina una nueva especie de dinosaurio carnívoro gigante\n",
      "La cola vestigial, el apéndice oculto del hombre que venció a Napoleón en Waterloo\n",
      "¿Dónde hay civilizaciones extraterrestres?\n",
      "Las mentes humanas detrás de las mentes artificiales\n",
      "Matemáticas para describir los remolinos, los taxis del océano\n",
      "Reaparece la tesis de María Wonenburger, la pionera matemática española que permaneció décadas en el olvido\n",
      "Técnicas criptográficas que se fundamentan en lo impredecible\n",
      "Alrededor de la mesa\n",
      "Fracciones egipcias\n",
      "El problema del huerto\n",
      "La cola vestigial, el apéndice oculto del hombre que venció a Napoleón en Waterloo\n",
      "Molinos y gigantes, adelantos tecnológicos y el síndrome bicicleta\n",
      "El síndrome del hombre lobo y la realidad lógica de su fábula\n",
      "La locura como juego; más allá del Quijote y de las novelas de Pérez Galdós\n",
      "El andar del borracho, las huellas del azar y el juego de dados en algunos libros malditos\n",
      "¿Son mejores las hormonas bioidénticas?\n",
      "¿Qué surgió antes, el ARN o el ADN?\n",
      "¿Por qué se sabe que los núcleos de la Tierra rotan?\n",
      "¿Qué son los mini reactores nucleares?\n",
      "Invitados indeseables por Navidad: el muérdago y otras plagas que evitar durante las fiestas\n",
      "Las ‘apps’ nutricionales o cómo comer bien no debería depender de uno mismo\n",
      "Malnutrición invisible: el impacto de la pobreza en la salud infantil\n",
      "El óxido de etileno, la sustancia cancerígena que ha obligado a retirar miles de alimentos en la UE\n",
      "Que no te líen con los ingredientes: aceites y grasas de mala calidad nutricional\n"
     ]
    }
   ],
   "source": [
    "tags = soup9.findAll(\"h2\")\n",
    "\n",
    "for h2 in tags:\n",
    "    print(h2.text)\n",
    "    resultados.append(h2.text)"
   ]
  },
  {
   "cell_type": "markdown",
   "id": "36183caf",
   "metadata": {},
   "source": [
    "### Imprimir la sección de cultura"
   ]
  },
  {
   "cell_type": "code",
   "execution_count": 41,
   "id": "275e9b70",
   "metadata": {},
   "outputs": [],
   "source": [
    "req10 = requests.get(\"https://elpais.com/cultura/\")"
   ]
  },
  {
   "cell_type": "code",
   "execution_count": 42,
   "id": "92d6dd28",
   "metadata": {},
   "outputs": [
    {
     "data": {
      "text/plain": [
       "requests.models.Response"
      ]
     },
     "execution_count": 42,
     "metadata": {},
     "output_type": "execute_result"
    }
   ],
   "source": [
    "type(req10)"
   ]
  },
  {
   "cell_type": "code",
   "execution_count": 43,
   "id": "f01486e2",
   "metadata": {},
   "outputs": [],
   "source": [
    "# Si el estatus code no es 200 no se puede leer la página\n",
    "if (req.status_code != 200):\n",
    " raise Exception(\"No se puede hacer Web Scraping en\"+ URL)\n",
    "soup10 = BeautifulSoup(req10.text, 'html.parser')"
   ]
  },
  {
   "cell_type": "code",
   "execution_count": 44,
   "id": "8b526c3e",
   "metadata": {},
   "outputs": [
    {
     "name": "stdout",
     "output_type": "stream",
     "text": [
      "‘Antes de que lleguen las nubes’: una novela negra nórdica con flamenco y ‘pescaíto’ frito\n",
      "El ‘Indiana Jones del arte’ encuentra en la puerta de su casa un relicario medieval robado \n",
      "Muere el exministro José Guirao, referente de la gestión cultural en España\n",
      "Fallecimiento de José Guirao: Con las alas de la cultura\n",
      "El libro que vendrá\n",
      "Muerte de José Guirao: Poner nombre a los árboles \t\t \n",
      "Fallecimiento de José Guirao: A tu sonrisa, Pepe\n",
      "Los límites del cine estallan en Tabakalera\n",
      "El Prado se inventa un paseo entre las estrellas\n",
      "Nuevo urbanismo cívico y digital\n",
      "El Gobierno pone en marcha la creación de la Oficina de Derechos de Autor\n",
      "Un homenaje a Ucrania, una pianista legendaria y un ‘tour de force’ violinístico culminan el Festival de Música y Danza \n",
      "El noble y valiente jefe shawnee Tecumseh lidera la nueva incursión de libros sobre los indios norteamericanos\n",
      "Beethoven veranea por fin en Noruega\n",
      "Descubierta una desconocida ciudad romana con “edificios de proporciones monumentales” al pie de los Pirineos\n",
      "Huracán Nathy Peluso cierra a lo grande el Mad Cool de la tortuosa vuelta a casa\n",
      "Blanca Berlín: “Hay más divismo entre los fotógrafos que empiezan”\n",
      "‘Outlander’, la historia de amor de 200 años, prepara en España su recta final\n",
      "J Balvin y su buena “vibra” llegan para quedarse al Bilbao BBK Live\n",
      "Florence Welch ejerce de suma sacerdotisa del amor en una comparecencia efectista y apoteósica en Mad Cool \n",
      "Cuándo un gallego te dice que sí, aunque esté pensando que no. La retranca gallega y otros misterios que descubrir en el Camino Inglés\n",
      "El último atardecer de Europa se ve solo desde este lugar. Un viaje hacia el infinito por el Camino de Fisterra-Muxía\n",
      "Lorca, en la ciudad al margen\n",
      "El Pirineo oscense, para entrar a vivir\n",
      "Toda la lectura del verano, en el bolsillo\n",
      "Longsellers: los libros más vendidos a lo largo de la historia\n",
      "Libros para descubrir el mundo recomendados por Benjamín Prado\n",
      "El exilio republicano en el Museo Reina Sofía\n",
      "'La fotógrafa de Monte Veritá'\n",
      "'KLIMT. La experiencia inmersiva'\n",
      "'Nabucco' desde un palco del Teatro Real\n",
      "El sexto encierro de San Fermín 2022, en imágenes\n",
      "Cinco heridos, uno de ellos por asta, en el rápido y emocionante sexto encierro de San Fermín \n",
      "Un torero de Pamplona\n",
      "Muy peligroso y emocionante quinto encierro de San Fermín con los toros de Cebada Gago\n"
     ]
    }
   ],
   "source": [
    "tags = soup10.findAll(\"h2\")\n",
    "\n",
    "for h2 in tags:\n",
    "    print(h2.text)\n",
    "    resultados.append(h2.text)"
   ]
  },
  {
   "cell_type": "markdown",
   "id": "0b8bf88f",
   "metadata": {},
   "source": [
    "### Imprimir sección de babelia"
   ]
  },
  {
   "cell_type": "code",
   "execution_count": 45,
   "id": "7dbcda7e",
   "metadata": {},
   "outputs": [],
   "source": [
    "req11 = requests.get(\"https://elpais.com/babelia/\")"
   ]
  },
  {
   "cell_type": "code",
   "execution_count": 46,
   "id": "40ac9cbd",
   "metadata": {},
   "outputs": [
    {
     "data": {
      "text/plain": [
       "requests.models.Response"
      ]
     },
     "execution_count": 46,
     "metadata": {},
     "output_type": "execute_result"
    }
   ],
   "source": [
    "type(req11)"
   ]
  },
  {
   "cell_type": "code",
   "execution_count": 47,
   "id": "4956e997",
   "metadata": {},
   "outputs": [],
   "source": [
    "# Si el estatus code no es 200 no se puede leer la página\n",
    "if (req.status_code != 200):\n",
    " raise Exception(\"No se puede hacer Web Scraping en\"+ URL)\n",
    "soup11 = BeautifulSoup(req11.text, 'html.parser')"
   ]
  },
  {
   "cell_type": "code",
   "execution_count": 59,
   "id": "87650f09",
   "metadata": {},
   "outputs": [
    {
     "name": "stdout",
     "output_type": "stream",
     "text": [
      "Cómo el cine transformó a las diosas mitológicas en superheroínas\n",
      "Tristes, drogados, periféricos: la nueva literatura que refleja el dolor de los polígonos\n",
      "La fuga de Siberia de Trotsky, la revelación de Marta D. Riezu y otros libros de la semana\n",
      "El desvío experimental de Perfume Genius, los salmos de Nick Cave y otros discos del mes\n",
      "Jardines secretos en la jungla de asfalto: cómo resistir a la especulación plantando un árbol\n",
      "Los nuevos diaristas son vendedores de vidas\n",
      "La ‘Safo’ de Christina Rosenvinge no convence\n",
      "La gran música eleva a una compañía de danza inmadura\n",
      "Trampantojo: De veraneo\n",
      "‘Agua y jabón’: más que un libro, una constelación de genialidades\n",
      "Ayn Rand, ‘rednecks’ e inclusividad forzada: el mundo virtual como escenario político\n",
      "Un clavo quita otro, quizás\n",
      "Músicas ocultas\n",
      "Lo que siento (no se olviden de Ucrania) \n",
      "No eran marcianos, eran humanos\n",
      "‘La máquina de proyectar sueños’, un retorno a la infancia delicioso y temible\n",
      "‘Veinte años de Sol’ o cómo olvidar el pasado con un implante en el cerebro\n",
      "‘La fuga de Siberia en un trineo de renos’, de Trotsky: aventuras de un comunista en plena huida \n",
      "‘Magallanes & Co.’, los preparativos y aventuras de la primera vuelta al mundo\n",
      "Silvia Agüero: “De no ser escritora habría sido vendedora ambulante”\n",
      "Antoni Muntadas: “Supe que me dedicaría al arte cuando dejé de pintar”\n",
      "Manuel Estrada: “Me agrada que una portada guste más después de leer el libro”\n",
      "Óscar Esquivias: “No hace falta ser creyente para leer la Biblia”\n",
      "Amelia Castilla: “Los ritos nos ayudan a hacer viable el trance de la muerte”\n"
     ]
    }
   ],
   "source": [
    "tags = soup11.findAll(\"h2\")\n",
    "\n",
    "for h2 in tags:\n",
    "    print(h2.text)\n",
    "    resultados.append(h2.text)"
   ]
  },
  {
   "cell_type": "markdown",
   "id": "c75c981c",
   "metadata": {},
   "source": [
    "### Imprimir sección de deportes"
   ]
  },
  {
   "cell_type": "code",
   "execution_count": 60,
   "id": "f55a5cd9",
   "metadata": {},
   "outputs": [],
   "source": [
    "req12 = requests.get(\"https://elpais.com/deportes/\")"
   ]
  },
  {
   "cell_type": "code",
   "execution_count": 61,
   "id": "1f837f99",
   "metadata": {},
   "outputs": [
    {
     "data": {
      "text/plain": [
       "requests.models.Response"
      ]
     },
     "execution_count": 61,
     "metadata": {},
     "output_type": "execute_result"
    }
   ],
   "source": [
    "type(req12)"
   ]
  },
  {
   "cell_type": "code",
   "execution_count": 64,
   "id": "1aaadb17",
   "metadata": {},
   "outputs": [],
   "source": [
    "# Si el estatus code no es 200 no se puede leer la página\n",
    "if (req.status_code != 200):\n",
    " raise Exception(\"No se puede hacer Web Scraping en\"+ URL)\n",
    "soup12 = BeautifulSoup(req12.text, 'html.parser')"
   ]
  },
  {
   "cell_type": "code",
   "execution_count": 65,
   "id": "4bbfd9d3",
   "metadata": {},
   "outputs": [
    {
     "name": "stdout",
     "output_type": "stream",
     "text": [
      "Luis León ataca, pero la etapa del Tour de Francia la gana Cort y Pogacar no suelta el amarillo\n",
      "El campeón olímpico Mo Farah revela que fue víctima de tráfico ilegal y explotación en Reino Unido\n",
      "Alemania mide a España en la Eurocopa \n",
      "Las tribulaciones de Cristiano Ronaldo pasan por Qatar  \n",
      "Cuánto tarda en hervir un Tour\n",
      "El tenis es, ante todo, repetición\n",
      "El desorden es la baza de Kyrgios\n",
      "El viaje de Jon Rahm a Saint Andrews: de la furgoneta a Seve\n",
      "La Superliga, a los países contrarios a una competición cerrada: “Creen que la UEFA es solidaria, pero solo les da limosna”\n",
      "Nadine Kessler, máxima responsable del fútbol femenino en la UEFA: “El negocio no puede ser un copiar y pegar del masculino”\n",
      "El Tour de Francia 2022 es el más rápido de la historia gracias a la aerodinámica\n",
      "España lo tiene todo en el Mundial de hockey hierba\n",
      "Inglaterra tritura (8-0) a Noruega en una jornada triunfal en Brighton\n",
      "Gareth Bale, tras su llegada al LAFC: “Mi objetivo es ganar un campeonato”\n",
      "Londres reestimula a Sir Novak Djokovic\n",
      "Djokovic: “Solo necesitaba tiempo para despejar la tormenta”\n",
      "El pelotón está sano: todas las PCR del Tour de Francia han dado resultado negativo\n",
      "El granítico Djokovic detiene a Kyrgios y eleva en Wimbledon su 21º grande\n",
      "El equilibrio de Jordi Cruyff\n",
      "Severiano Ballesteros, el inglés\n",
      "“Si no tenemos en quién mirarnos es muy difícil saber qué queremos ser”\n",
      "“Nunca acepto un no por respuesta”\n",
      "La nadadora que dejó de competir para hacer campeones de básquet\n",
      "Crónica de dos ciudades moldeadas por la misma pasión \n",
      "Guélfand reina en León por 2º año seguido, a los 54, tras más de cuatro horas trepidantes\n",
      "El tenis es, ante todo, repetición\n",
      "El granítico Djokovic detiene a Kyrgios y eleva en Wimbledon su 21º grande\n",
      "Cuando la memoria se enreda\n",
      "Reacciones de la final de Wimbledon | Djokovic, tras igualar los siete títulos de Sampras: “Siempre soñé con jugar aquí. Ganarlo es un orgullo”\n",
      "La final de Wimbledon 2022 entre Djokovic y Kyrgios, en imágenes\n",
      "Bob Jungels saca provecho de la fuga y gana la novena etapa del Tour de Francia\n",
      "Leclerc gana sobrado y Sainz sale quemado en el Gran Premio de Austria\n"
     ]
    }
   ],
   "source": [
    "tags = soup12.findAll(\"h2\")\n",
    "for h2 in tags:\n",
    "    print(h2.text)\n",
    "    resultados.append(h2.text)"
   ]
  },
  {
   "cell_type": "markdown",
   "id": "b0dbba10",
   "metadata": {},
   "source": [
    "### Imprimir sección de tecnología"
   ]
  },
  {
   "cell_type": "code",
   "execution_count": 66,
   "id": "c0afeb1f",
   "metadata": {},
   "outputs": [],
   "source": [
    "req13 = requests.get(\"https://elpais.com/tecnologia/\")"
   ]
  },
  {
   "cell_type": "code",
   "execution_count": 67,
   "id": "4e22ad83",
   "metadata": {},
   "outputs": [
    {
     "data": {
      "text/plain": [
       "requests.models.Response"
      ]
     },
     "execution_count": 67,
     "metadata": {},
     "output_type": "execute_result"
    }
   ],
   "source": [
    "type(req13)"
   ]
  },
  {
   "cell_type": "code",
   "execution_count": 68,
   "id": "3bc3d14f",
   "metadata": {},
   "outputs": [],
   "source": [
    "# Si el estatus code no es 200 no se puede leer la página\n",
    "if (req.status_code != 200):\n",
    " raise Exception(\"No se puede hacer Web Scraping en\"+ URL)\n",
    "soup13 = BeautifulSoup(req13.text, 'html.parser')"
   ]
  },
  {
   "cell_type": "code",
   "execution_count": 69,
   "id": "4115f48f",
   "metadata": {},
   "outputs": [
    {
     "name": "stdout",
     "output_type": "stream",
     "text": [
      "Google News está de vuelta en España: qué es y cómo exprimirlo al máximo\n",
      "Dialexis (‘mater ex machina’)\n",
      "La ingeniera que enseña a nuestro cuerpo a autorrepararse: “Hemos regenerado piel, cartílagos y vasos sanguíneos, pero todavía tenemos que hacer más”\n",
      "La inteligencia artificial de Google es capaz de aprender como un bebé\n",
      "Las activistas que dejaron sin anuncios a la web de Steve Bannon van ahora a por Fox News\n",
      "“¿Quieres cobrar tu salario en streaming?” Por qué los proyectos cripto son tan difíciles de entender\n",
      "El misterio de la carta del soldado alemán\n",
      "El porqué de los desafíos criptográficos: conocerte a ti mismo, conocer a tu enemigo\n",
      "Con el relax del verano se acentúan los peligros cibernéticos: así puede protegerse durante las vacaciones\n",
      "Meta presenta un traductor capaz de operar en tiempo real con 200 idiomas\n",
      "“Soy catedrático de informática. Como mis colegas, sé que la tecnología de bitcoin es basura”\n",
      "El sector biotecnológico supera las cifras de 2020 y capta 180 millones de euros de inversión privada\n",
      "Las mentes humanas detrás de las mentes artificiales\n",
      "El juego de la técnica\n",
      "Daniel Innerarity: “Los algoritmos son conservadores y nuestra libertad depende de que nos dejen ser imprevisibles”\n",
      "En defensa de la procrastinación. Elogio del tiempo perdido (frente al que las redes te roban)\n",
      "Instagram, el mejor de los mundos posibles\n",
      "Del terrorismo youtuber al influencer rabioso: el odio inunda la red\n",
      "Cronodiversidad. ¿Por qué el tiempo cada vez va más rápido?\n",
      "El impacto de la tecnología en la hostelería: de la comanda digital al pago con código QR\n",
      "Herramientas que ayudan a crecer a las empresas (más allá de los pagos)\n",
      "Cinco razones por las que este ‘smartphone’ es sencillamente tentador\n",
      "La cámara de este ‘smartphone’ es pura magia\n",
      "Por qué los nuevos coches ya no los diseñarán las personas\n",
      "Un campus de programación para adquirir todas las habilidades ‘tech’\n"
     ]
    }
   ],
   "source": [
    "tags = soup13.findAll(\"h2\")\n",
    "\n",
    "for h2 in tags:\n",
    "    print(h2.text)\n",
    "    resultados.append(h2.text)"
   ]
  },
  {
   "cell_type": "markdown",
   "id": "9e2b1fd6",
   "metadata": {},
   "source": [
    "### Imprimir la sección de gente"
   ]
  },
  {
   "cell_type": "code",
   "execution_count": 70,
   "id": "364250b5",
   "metadata": {},
   "outputs": [],
   "source": [
    "req15 = requests.get(\"https://elpais.com/gente/\")"
   ]
  },
  {
   "cell_type": "code",
   "execution_count": 71,
   "id": "1be21bdc",
   "metadata": {},
   "outputs": [
    {
     "data": {
      "text/plain": [
       "requests.models.Response"
      ]
     },
     "execution_count": 71,
     "metadata": {},
     "output_type": "execute_result"
    }
   ],
   "source": [
    "type(req15)"
   ]
  },
  {
   "cell_type": "code",
   "execution_count": 72,
   "id": "8f46732a",
   "metadata": {},
   "outputs": [],
   "source": [
    "# Si el estatus code no es 200 no se puede leer la página\n",
    "if (req.status_code != 200):\n",
    " raise Exception(\"No se puede hacer Web Scraping en\"+ URL)\n",
    "soup15 = BeautifulSoup(req15.text, 'html.parser')"
   ]
  },
  {
   "cell_type": "code",
   "execution_count": 73,
   "id": "ab88c776",
   "metadata": {},
   "outputs": [
    {
     "name": "stdout",
     "output_type": "stream",
     "text": [
      "La DJ B Jones, de las noches en la carretera al olimpo de la música electrónica: “Ahora somos el centro de la fiesta” \n",
      "Marilyn Monroe hizo ricos a muchos hombres mientras se empobrecía: “No tuvo ni para un funeral decente”\n",
      "Pippa Middleton da a luz a su tercer hijo, una niña\n",
      "Huertos urbanos: siete errores de principiante y cómo evitarlos \n",
      "Jennifer Lopez sufrió bloqueos y ataques de pánico por agotamiento que le hicieron cambiar sus hábitos de vida\n",
      "10 accesorios de piscina para no salir de su perímetro 24/7\n",
      "De Kate Middleton a Tom Cruise: los famosos llenan las gradas de Wimbledon, en imágenes\n",
      "Espectáculo, lujo y fantasía: la Alta Moda de Dolce & Gabbana lo apuesta todo al escapismo\n",
      "Los 50 años de Sofia Vergara, la mujer que permitió que la encasillasen para convertirse en la actriz mejor pagada de la televisión\n",
      "La guerra no estropea las vacaciones de los superricos rusos: vetados en la Costa Azul, pero bienvenidos en Dubái y Turquía\n",
      "Teresa Helbig: “Hubiera matado por vestir a Lola Flores”\n",
      "Hotel Piet Hein Eek: arte, buen gusto y pasión por el detalle en Eindhoven \n",
      "El Baile de la Rosa vuelve a llenar Mónaco de glamur y famosos tras dos años de parón\n",
      "El espectáculo (teatral) debe continuar en la alta costura de París\n",
      "Realismo, entretenimiento y democracia: la alta costura se deshace por fin de sus estereotipos en París\n",
      "Nostalgia ‘retro’, punto multicolor y otras pistas para vestir este verano\n",
      "La dictadura de la perfección, misoginia y Jeffrey Epstein: los ángeles y demonios de Victoria’s Secret\n",
      "Dios y diamantes: lo que Kendrick Lamar nos quiso decir a través de su corona de espinas\n",
      "La cocinera que trasladó las flores del jarrón al plato\n",
      "En verano, el mejor queso del mundo se hace helado\n",
      "El placer de lo rancio y otros gustos y aromas que recuerdan la niñez\n",
      "Trece aperitivos\n"
     ]
    }
   ],
   "source": [
    "tags = soup15.findAll(\"h2\")\n",
    "\n",
    "for h2 in tags:\n",
    "    print(h2.text)\n",
    "    resultados.append(h2.text)"
   ]
  },
  {
   "cell_type": "markdown",
   "id": "1136bb80",
   "metadata": {},
   "source": [
    "### Imprimir sección de televisión"
   ]
  },
  {
   "cell_type": "code",
   "execution_count": 74,
   "id": "c59c3e7b",
   "metadata": {},
   "outputs": [],
   "source": [
    "req16 = requests.get(\"https://elpais.com/television/\")"
   ]
  },
  {
   "cell_type": "code",
   "execution_count": 75,
   "id": "23a40705",
   "metadata": {},
   "outputs": [
    {
     "data": {
      "text/plain": [
       "requests.models.Response"
      ]
     },
     "execution_count": 75,
     "metadata": {},
     "output_type": "execute_result"
    }
   ],
   "source": [
    "type(req16)"
   ]
  },
  {
   "cell_type": "code",
   "execution_count": 76,
   "id": "af4851cd",
   "metadata": {},
   "outputs": [],
   "source": [
    "# Si el estatus code no es 200 no se puede leer la página\n",
    "if (req.status_code != 200):\n",
    " raise Exception(\"No se puede hacer Web Scraping en\"+ URL)\n",
    "soup16 = BeautifulSoup(req16.text, 'html.parser')\n"
   ]
  },
  {
   "cell_type": "code",
   "execution_count": 77,
   "id": "b0856c86",
   "metadata": {},
   "outputs": [
    {
     "name": "stdout",
     "output_type": "stream",
     "text": [
      "‘Succession’ y ‘Ted Lasso’ lideran las nominaciones a los Emmy 2022\n",
      "El secreto de ‘Atrápame si puedes’, el concurso de Aragón TV que tiene más éxito que ‘Pasapalabra’\n",
      "Sonsoles Ónega ficha por Atresmedia \n",
      "Disculpen a Almeida, quizá estaba viendo el Orgullo por la tele\n",
      "Un gran poder conlleva una gran corrupción\n",
      "La guerra de los selfis\n",
      "Menos mal que quedan los libros\n",
      "Cine y series: los datos prueban que no son universos tan conectados como parece\n",
      "‘The Janes’: la red clandestina de mujeres que practicaba abortos ilegales en el Estados Unidos de los años sesenta\n",
      "Carlos Fernández: “Netflix quiere ser de mayor una televisión en abierto, pero de pago” \n",
      "Muere a los 79 años Tony Sirico, Paulie en ‘Los Soprano’\n",
      "‘Encerrado con el diablo’: Dennis Lehane busca en el fondo del alma humana\n",
      "‘La noche más larga’ y ‘La lista final’: palomitas sin sabor para el verano\n",
      "Los dilemas de ‘La firma de Dios’: ¿y si el virus detrás de una pandemia tuviera conciencia y voluntad propia?\n",
      "Arturo Valls pasa de presentador a recluso por rebasar los límites del humor en ‘Dos años y un día’\n",
      "Entre novedades y apuestas de bajo riesgo: así es el verano en la televisión en abierto\n",
      "EGM 2022: La SER cierra temporada de nuevo como la radio más escuchada\n",
      "¿Qué ver hoy en TV? Martes 12 de julio de 2022\n",
      "Nueve capítulos para recordar ‘The Wire’ en su 20º aniversario\n",
      "Harry Palmer: el tercer vértice del mágico triángulo de espías británicos\n",
      "Las series de junio de 2022: ‘The Boys’ en Amazon Prime Video; ‘Peaky Blinders’ en Netflix y otras\n",
      "La fuerza acompaña a ‘Obi-Wan Kenobi’, una serie deslumbrante\n"
     ]
    }
   ],
   "source": [
    "tags = soup16.findAll(\"h2\")\n",
    "\n",
    "for h2 in tags:\n",
    "    print(h2.text)\n",
    "    resultados.append(h2.text)"
   ]
  },
  {
   "cell_type": "markdown",
   "id": "bf19fea0",
   "metadata": {},
   "source": [
    "### Impresión de sección eps"
   ]
  },
  {
   "cell_type": "code",
   "execution_count": 78,
   "id": "82eed633",
   "metadata": {},
   "outputs": [],
   "source": [
    "req17 = requests.get(\"https://elpais.com/eps/\")"
   ]
  },
  {
   "cell_type": "code",
   "execution_count": 79,
   "id": "f0ae08aa",
   "metadata": {},
   "outputs": [
    {
     "data": {
      "text/plain": [
       "requests.models.Response"
      ]
     },
     "execution_count": 79,
     "metadata": {},
     "output_type": "execute_result"
    }
   ],
   "source": [
    "type(req17)"
   ]
  },
  {
   "cell_type": "code",
   "execution_count": 80,
   "id": "73695301",
   "metadata": {},
   "outputs": [],
   "source": [
    "# Si el estatus code no es 200 no se puede leer la página\n",
    "if (req.status_code != 200):\n",
    " raise Exception(\"No se puede hacer Web Scraping en\"+ URL)\n",
    "soup17 = BeautifulSoup(req17.text, 'html.parser')"
   ]
  },
  {
   "cell_type": "code",
   "execution_count": 81,
   "id": "4f74fe25",
   "metadata": {},
   "outputs": [
    {
     "name": "stdout",
     "output_type": "stream",
     "text": [
      "Andaluz no: ‘Andalûh’\n",
      "Carme Elías: “Me siento más ligera que nunca, como si la vida me hubiera preparado para este momento”\n",
      "El resurgir del turismo\n",
      "Orgullo con todas las letras\n",
      "El restaurante madrileño en el que la cocina gaditana y la francesa se enamoraron\n",
      "¿Dónde está exactamente el origen del mal?\n",
      "Las heridas abiertas de la infancia en Irak\n",
      "Pietro Beccari: “El desfile de Sevilla es uno de los mejores, si no el mejor, que ha hecho Maria Grazia Chiuri en Dior”\n",
      "La cocinera que trasladó las flores del jarrón al plato\n",
      "El hombre que persigue la gaita más antigua del mundo\n",
      "La uva más denostada de  Castilla-La Mancha resurge de sus cenizas\n",
      "La rebelión de las cocineras de España: “Hay mujeres, falta reconocimiento”\n",
      "En busca de la huella de Camarón de la Isla, leyenda viva del flamenco\n",
      "Kia Niro: cambio de imagen y tecnología a la carta\n",
      "El engaño a los ojos\n",
      "Reír a lágrima viva\n",
      "Las fiestas de la sangre\n",
      "Libros sin Feria\n",
      "Harina enriquecida para acabar con el “hambre oculta”\n",
      "Lugares de esperanza para salvar los océanos\n",
      "Los guardianes del clima que llevan medio siglo leyendo las advertencias de los glaciares\n",
      "Epidemia de violencia: claves del negocio de las armas en Estados Unidos\n",
      "Los ejecutivos voladores y la ética medioambiental\n",
      "Ibiza, entre la noche desenfrenada y el turismo tranquilo \n",
      "Luz Casal: “Tengo el alma rockera. Nada ha doblegado mi rebeldía”\n",
      "Rashid Johnson: “Los pensadores y creadores negros estamos cansados de que nos nieguen un espacio autónomo”\n",
      "Sergio Hernández: “En el mundo, la gente ya no quiere verdades, quiere mentiras”\n",
      "Elvira Sastre: “No hay que perdonarlo todo”\n",
      "La trinidad del taco perfecto: “Buena tortilla, delicioso relleno y una salsa sabrosa”\n",
      "La casa de Nina Urgell Cloquell, un piso en el que las paredes hablan\n",
      "Garbanzos verdes y puchero\n",
      "Bikôkô y Julio Peña, dos estrellas en ebullición  \n",
      "Cuando Chufy encontró a Rossy: dos amigas, una isla y una colección de moda\n",
      "República Dominicana, donde la vida fluye por el río infinito\n",
      "Retrato Robot \n",
      "Ilusiones hipnóticas\n",
      "El poder del hormigón\n",
      "‘Fantasías en el Prado’, por Alberto García-Alix\n"
     ]
    }
   ],
   "source": [
    "tags = soup17.findAll(\"h2\")\n",
    "\n",
    "for h2 in tags:\n",
    "    print(h2.text)\n",
    "    resultados.append(h2.text)"
   ]
  },
  {
   "cell_type": "markdown",
   "id": "91a46bb6",
   "metadata": {},
   "source": [
    "#### Impresión de titulares con palabras más buscadas en El País"
   ]
  },
  {
   "cell_type": "code",
   "execution_count": 82,
   "id": "3741e196",
   "metadata": {},
   "outputs": [
    {
     "data": {
      "text/plain": [
       "1"
      ]
     },
     "execution_count": 82,
     "metadata": {},
     "output_type": "execute_result"
    }
   ],
   "source": [
    "os.system(\"clear\")"
   ]
  },
  {
   "cell_type": "code",
   "execution_count": 85,
   "id": "a2d092fe",
   "metadata": {},
   "outputs": [
    {
     "name": "stdout",
     "output_type": "stream",
     "text": [
      "\u001b[1m\u001b[34mA continuación se muestran los titulares de las páginas principales del diario El País que contienen las siguientes palabras:\u001b[0m\n",
      "\u001b[1m\u001b[32mFeminismo\u001b[0m\n",
      "Americanas: Reportajes y noticias sobre feminismo e historias con enfoque de género de la región\n",
      "\u001b[1m\u001b[32mIgualdad\u001b[0m\n",
      "La escuela concertada ante las desigualdades: el debate pendiente\n",
      "El caso de Georgia, en EE UU: becar sin importar la renta agranda la desigualdad\n",
      "\u001b[1m\u001b[32mMujeres\u001b[0m\n",
      "El Panamá indígena busca empoderar a sus mujeres\n",
      "Arte NFT para sacar de la cárcel a mujeres insolventes en Egipto\n",
      "Róisín Murphy: “Los gays entienden la opresión de las mujeres. No se detienen ante nada”\n",
      "El control del cuerpo de las mujeres\n",
      "‘The Janes’: la red clandestina de mujeres que practicaba abortos ilegales en el Estados Unidos de los años sesenta\n",
      "La rebelión de las cocineras de España: “Hay mujeres, falta reconocimiento”\n",
      "\u001b[1m\u001b[32mMujer\u001b[0m\n",
      "Los 50 años de Sofia Vergara, la mujer que permitió que la encasillasen para convertirse en la actriz mejor pagada de la televisión\n",
      "El Panamá indígena busca empoderar a sus mujeres\n",
      "Arte NFT para sacar de la cárcel a mujeres insolventes en Egipto\n",
      "Róisín Murphy: “Los gays entienden la opresión de las mujeres. No se detienen ante nada”\n",
      "La policía recupera el cadáver de una mujer con signos de violencia en una alcantarilla de Málaga\n",
      "El control del cuerpo de las mujeres\n",
      "Los 50 años de Sofia Vergara, la mujer que permitió que la encasillasen para convertirse en la actriz mejor pagada de la televisión\n",
      "‘The Janes’: la red clandestina de mujeres que practicaba abortos ilegales en el Estados Unidos de los años sesenta\n",
      "La rebelión de las cocineras de España: “Hay mujeres, falta reconocimiento”\n",
      "\u001b[1m\u001b[32mBrecha salarial\u001b[0m\n",
      "\n",
      "\u001b[1m\u001b[32mMachismo\u001b[0m\n",
      "\n",
      "\u001b[1m\u001b[32mViolencia\u001b[0m\n",
      "La policía recupera el cadáver de una mujer con signos de violencia en una alcantarilla de Málaga\n",
      "Epidemia de violencia: claves del negocio de las armas en Estados Unidos\n",
      "\u001b[1m\u001b[32mMaltrato\u001b[0m\n",
      "\n",
      "\u001b[1m\u001b[32mHomicidio\u001b[0m\n",
      "\n",
      "\u001b[1m\u001b[32mGénero\u001b[0m\n",
      "Americanas: Reportajes y noticias sobre feminismo e historias con enfoque de género de la región\n",
      "\u001b[1m\u001b[32mAsesinato\u001b[0m\n",
      "Gamarra equipara el espíritu de Ermua tras el asesinato de Miguel Ángel Blanco a la oposición al Gobierno de Sánchez\n",
      "\u001b[1m\u001b[32mSexo\u001b[0m\n",
      "\n"
     ]
    }
   ],
   "source": [
    "print(colored(\"A continuación se muestran los titulares de las páginas principales del diario El País que contienen las siguientes palabras:\", 'blue', attrs=['bold']))\n",
    "print(colored(\"Feminismo\", 'green', attrs=['bold']))\n",
    "\n",
    "str_match = [s for s in resultados if \"feminismo\" in s]\n",
    "print(\"\\n\".join(str_match))\n",
    "\n",
    "print(colored(\"Igualdad\", 'green', attrs=['bold']))\n",
    "\n",
    "str_match = [s for s in resultados if \"igualdad\" in s]\n",
    "print(\"\\n\".join(str_match))\n",
    "\n",
    "print(colored(\"Mujeres\", 'green', attrs=['bold']))\n",
    "\n",
    "str_match = [s for s in resultados if \"mujeres\" in s]\n",
    "print(\"\\n\".join(str_match))\n",
    "\n",
    "print(colored(\"Mujer\", 'green', attrs=['bold']))\n",
    "\n",
    "str_match = [s for s in resultados if \"mujer\" in s]\n",
    "print(\"\\n\".join(str_match))\n",
    "\n",
    "print(colored(\"Brecha salarial\", 'green', attrs=['bold']))\n",
    "\n",
    "str_match = [s for s in resultados if \"brecha salarial\" in s]\n",
    "print(\"\\n\".join(str_match))\n",
    "\n",
    "print(colored(\"Machismo\", 'green', attrs=['bold']))\n",
    "\n",
    "str_match = [s for s in resultados if \"machismo\" in s]\n",
    "print(\"\\n\".join(str_match))\n",
    "\n",
    "print(colored(\"Violencia\", 'green', attrs=['bold']))\n",
    "\n",
    "str_match = [s for s in resultados if \"violencia\" in s]\n",
    "print(\"\\n\".join(str_match))\n",
    "\n",
    "print(colored(\"Maltrato\", 'green', attrs=['bold']))\n",
    "\n",
    "str_match = [s for s in resultados if \"maltrato\" in s]\n",
    "print(\"\\n\".join(str_match))\n",
    "\n",
    "print(colored(\"Homicidio\", 'green', attrs=['bold']))\n",
    "\n",
    "str_match = [s for s in resultados if \"homicidio\" in s]\n",
    "print(\"\\n\".join(str_match))\n",
    "\n",
    "print(colored(\"Género\", 'green', attrs=['bold']))\n",
    "\n",
    "str_match = [s for s in resultados if \"género\" in s]\n",
    "print(\"\\n\".join(str_match))\n",
    "\n",
    "print(colored(\"Asesinato\", 'green', attrs=['bold']))\n",
    "\n",
    "str_match = [s for s in resultados if \"asesinato\" in s]\n",
    "print(\"\\n\".join(str_match))\n",
    "\n",
    "print(colored(\"Sexo\", 'green', attrs=['bold']))\n",
    "\n",
    "str_match = [s for s in resultados if \"sexo\" in s]\n",
    "print(\"\\n\".join(str_match))"
   ]
  },
  {
   "cell_type": "markdown",
   "id": "4dc9596e",
   "metadata": {},
   "source": [
    "## Código fuente"
   ]
  },
  {
   "cell_type": "code",
   "execution_count": null,
   "id": "ce955512",
   "metadata": {},
   "outputs": [],
   "source": [
    "import requests\n",
    "import time\n",
    "import csv\n",
    "import re\n",
    "from bs4 import BeautifulSoup\n",
    "import os\n",
    "import pandas as pd\n",
    "from termcolor import colored\n",
    "\n",
    "resultados = []\n",
    "\n",
    "req = requests.get(\"https://resultados.elpais.com\")\n",
    "# Si el estatus code no es 200 no se puede leer la página\n",
    "if (req.status_code != 200):\n",
    " raise Exception(\"No se puede hacer Web Scraping en\"+ URL)\n",
    "soup = BeautifulSoup(req.text, 'html.parser')\n",
    "\n",
    "tags = soup.findAll(\"h2\")\n",
    "\n",
    "for h2 in tags:\n",
    "    print(h2.text)\n",
    "    resultados.append(h2.text)\n",
    "\n",
    "req2 = requests.get(\"https://elpais.com/internacional\")\n",
    "# Si el estatus code no es 200 no se puede leer la página\n",
    "if (req.status_code != 200):\n",
    " raise Exception(\"No se puede hacer Web Scraping en\"+ URL)\n",
    "soup2 = BeautifulSoup(req2.text, 'html.parser')\n",
    "\n",
    "tags = soup2.findAll(\"h2\")\n",
    "\n",
    "for h2 in tags:\n",
    "    print(h2.text)\n",
    "    resultados.append(h2.text)\n",
    "\n",
    "req3 = requests.get(\"https://elpais.com/opinion\")\n",
    "# Si el estatus code no es 200 no se puede leer la página\n",
    "if (req.status_code != 200):\n",
    " raise Exception(\"No se puede hacer Web Scraping en\"+ URL)\n",
    "soup3 = BeautifulSoup(req3.text, 'html.parser')\n",
    "\n",
    "tags = soup3.findAll(\"h2\")\n",
    "\n",
    "for h2 in tags:\n",
    "    print(h2.text)\n",
    "    resultados.append(h2.text)\n",
    "\n",
    "req4 = requests.get(\"https://elpais.com/espana/\")\n",
    "# Si el estatus code no es 200 no se puede leer la página\n",
    "if (req.status_code != 200):\n",
    " raise Exception(\"No se puede hacer Web Scraping en\"+ URL)\n",
    "soup4 = BeautifulSoup(req4.text, 'html.parser')\n",
    "\n",
    "tags = soup4.findAll(\"h2\")\n",
    "\n",
    "for h2 in tags:\n",
    "    print(h2.text)\n",
    "    resultados.append(h2.text)\n",
    "\n",
    "req5 = requests.get(\"https://elpais.com/economia/\")\n",
    "# Si el estatus code no es 200 no se puede leer la página\n",
    "if (req.status_code != 200):\n",
    " raise Exception(\"No se puede hacer Web Scraping en\"+ URL)\n",
    "soup5 = BeautifulSoup(req5.text, 'html.parser')\n",
    "\n",
    "tags = soup5.findAll(\"h2\")\n",
    "\n",
    "for h2 in tags:\n",
    "    print(h2.text)\n",
    "    resultados.append(h2.text)\n",
    "\n",
    "req6 = requests.get(\"https://elpais.com/sociedad/\")\n",
    "# Si el estatus code no es 200 no se puede leer la página\n",
    "if (req.status_code != 200):\n",
    " raise Exception(\"No se puede hacer Web Scraping en\"+ URL)\n",
    "soup6 = BeautifulSoup(req6.text, 'html.parser')\n",
    "\n",
    "tags = soup6.findAll(\"h2\")\n",
    "\n",
    "for h2 in tags:\n",
    "    print(h2.text)\n",
    "    resultados.append(h2.text)\n",
    "\n",
    "req7 = requests.get(\"https://elpais.com/educacion/\")\n",
    "# Si el estatus code no es 200 no se puede leer la página\n",
    "if (req.status_code != 200):\n",
    " raise Exception(\"No se puede hacer Web Scraping en\"+ URL)\n",
    "soup7 = BeautifulSoup(req7.text, 'html.parser')\n",
    "\n",
    "tags = soup7.findAll(\"h2\")\n",
    "\n",
    "for h2 in tags:\n",
    "    print(h2.text)\n",
    "    resultados.append(h2.text)\n",
    "\n",
    "req8 = requests.get(\"https://elpais.com/clima-y-medio-ambiente/\")\n",
    "# Si el estatus code no es 200 no se puede leer la página\n",
    "if (req.status_code != 200):\n",
    " raise Exception(\"No se puede hacer Web Scraping en\"+ URL)\n",
    "soup8 = BeautifulSoup(req8.text, 'html.parser')\n",
    "\n",
    "tags = soup8.findAll(\"h2\")\n",
    "\n",
    "for h2 in tags:\n",
    "    print(h2.text)\n",
    "    resultados.append(h2.text)\n",
    "\n",
    "req9 = requests.get(\"https://elpais.com/ciencia/\")\n",
    "# Si el estatus code no es 200 no se puede leer la página\n",
    "if (req.status_code != 200):\n",
    " raise Exception(\"No se puede hacer Web Scraping en\"+ URL)\n",
    "soup9 = BeautifulSoup(req9.text, 'html.parser')\n",
    "\n",
    "tags = soup9.findAll(\"h2\")\n",
    "\n",
    "for h2 in tags:\n",
    "    print(h2.text)\n",
    "    resultados.append(h2.text)\n",
    "\n",
    "req10 = requests.get(\"https://elpais.com/cultura/\")\n",
    "# Si el estatus code no es 200 no se puede leer la página\n",
    "if (req.status_code != 200):\n",
    " raise Exception(\"No se puede hacer Web Scraping en\"+ URL)\n",
    "soup10 = BeautifulSoup(req10.text, 'html.parser')\n",
    "\n",
    "tags = soup10.findAll(\"h2\")\n",
    "\n",
    "for h2 in tags:\n",
    "    print(h2.text)\n",
    "    resultados.append(h2.text)\n",
    "\n",
    "req11 = requests.get(\"https://elpais.com/babelia/\")\n",
    "# Si el estatus code no es 200 no se puede leer la página\n",
    "if (req.status_code != 200):\n",
    " raise Exception(\"No se puede hacer Web Scraping en\"+ URL)\n",
    "soup11 = BeautifulSoup(req11.text, 'html.parser')\n",
    "\n",
    "tags = soup11.findAll(\"h2\")\n",
    "\n",
    "for h2 in tags:\n",
    "    print(h2.text)\n",
    "    resultados.append(h2.text)\n",
    "\n",
    "req12 = requests.get(\"https://elpais.com/deportes/\")\n",
    "# Si el estatus code no es 200 no se puede leer la página\n",
    "if (req.status_code != 200):\n",
    " raise Exception(\"No se puede hacer Web Scraping en\"+ URL)\n",
    "soup12 = BeautifulSoup(req12.text, 'html.parser')\n",
    "\n",
    "tags = soup12.findAll(\"h2\")\n",
    "\n",
    "for h2 in tags:\n",
    "    print(h2.text)\n",
    "    resultados.append(h2.text)\n",
    "\n",
    "req13 = requests.get(\"https://elpais.com/tecnologia/\")\n",
    "# Si el estatus code no es 200 no se puede leer la página\n",
    "if (req.status_code != 200):\n",
    " raise Exception(\"No se puede hacer Web Scraping en\"+ URL)\n",
    "soup13 = BeautifulSoup(req13.text, 'html.parser')\n",
    "\n",
    "tags = soup13.findAll(\"h2\")\n",
    "\n",
    "for h2 in tags:\n",
    "    print(h2.text)\n",
    "    resultados.append(h2.text)\n",
    "\n",
    "req14 = requests.get(\"https://elpais.com/tecnologia/\")\n",
    "# Si el estatus code no es 200 no se puede leer la página\n",
    "if (req.status_code != 200):\n",
    " raise Exception(\"No se puede hacer Web Scraping en\"+ URL)\n",
    "soup14 = BeautifulSoup(req14.text, 'html.parser')\n",
    "\n",
    "tags = soup14.findAll(\"h2\")\n",
    "\n",
    "for h2 in tags:\n",
    "    print(h2.text)\n",
    "    resultados.append(h2.text)\n",
    "\n",
    "req15 = requests.get(\"https://elpais.com/gente/\")\n",
    "# Si el estatus code no es 200 no se puede leer la página\n",
    "if (req.status_code != 200):\n",
    " raise Exception(\"No se puede hacer Web Scraping en\"+ URL)\n",
    "soup15 = BeautifulSoup(req15.text, 'html.parser')\n",
    "\n",
    "tags = soup15.findAll(\"h2\")\n",
    "\n",
    "for h2 in tags:\n",
    "    print(h2.text)\n",
    "    resultados.append(h2.text)\n",
    "\n",
    "req16 = requests.get(\"https://elpais.com/television/\")\n",
    "# Si el estatus code no es 200 no se puede leer la página\n",
    "if (req.status_code != 200):\n",
    " raise Exception(\"No se puede hacer Web Scraping en\"+ URL)\n",
    "soup16 = BeautifulSoup(req16.text, 'html.parser')\n",
    "\n",
    "tags = soup16.findAll(\"h2\")\n",
    "\n",
    "for h2 in tags:\n",
    "    print(h2.text)\n",
    "    resultados.append(h2.text)\n",
    "\n",
    "req17 = requests.get(\"https://elpais.com/eps/\")\n",
    "# Si el estatus code no es 200 no se puede leer la página\n",
    "if (req.status_code != 200):\n",
    " raise Exception(\"No se puede hacer Web Scraping en\"+ URL)\n",
    "soup17 = BeautifulSoup(req17.text, 'html.parser')\n",
    "\n",
    "tags = soup17.findAll(\"h2\")\n",
    "\n",
    "for h2 in tags:\n",
    "    print(h2.text)\n",
    "    resultados.append(h2.text)\n",
    "\n",
    "\n",
    "os.system(\"clear\")\n",
    "\n",
    "print(colored(\"A continuación se muestran los titulares de las páginas principales del diario El País que contienen las siguientes palabras:\", 'blue', attrs=['bold']))\n",
    "print(colored(\"Feminismo\", 'green', attrs=['bold']))\n",
    "\n",
    "str_match = [s for s in resultados if \"feminismo\" in s]\n",
    "print(\"\\n\".join(str_match))\n",
    "\n",
    "print(colored(\"Igualdad\", 'green', attrs=['bold']))\n",
    "\n",
    "str_match = [s for s in resultados if \"igualdad\" in s]\n",
    "print(\"\\n\".join(str_match))\n",
    "\n",
    "print(colored(\"Mujeres\", 'green', attrs=['bold']))\n",
    "\n",
    "str_match = [s for s in resultados if \"mujeres\" in s]\n",
    "print(\"\\n\".join(str_match))\n",
    "\n",
    "print(colored(\"Mujer\", 'green', attrs=['bold']))\n",
    "\n",
    "str_match = [s for s in resultados if \"mujer\" in s]\n",
    "print(\"\\n\".join(str_match))\n",
    "\n",
    "print(colored(\"Brecha salarial\", 'green', attrs=['bold']))\n",
    "\n",
    "str_match = [s for s in resultados if \"brecha salarial\" in s]\n",
    "print(\"\\n\".join(str_match))\n",
    "\n",
    "print(colored(\"Machismo\", 'green', attrs=['bold']))\n",
    "\n",
    "str_match = [s for s in resultados if \"machismo\" in s]\n",
    "print(\"\\n\".join(str_match))\n",
    "\n",
    "print(colored(\"Violencia\", 'green', attrs=['bold']))\n",
    "\n",
    "str_match = [s for s in resultados if \"violencia\" in s]\n",
    "print(\"\\n\".join(str_match))\n",
    "\n",
    "print(colored(\"Maltrato\", 'green', attrs=['bold']))\n",
    "\n",
    "str_match = [s for s in resultados if \"maltrato\" in s]\n",
    "print(\"\\n\".join(str_match))\n",
    "\n",
    "print(colored(\"Homicidio\", 'green', attrs=['bold']))\n",
    "\n",
    "str_match = [s for s in resultados if \"homicidio\" in s]\n",
    "print(\"\\n\".join(str_match))\n",
    "\n",
    "print(colored(\"Género\", 'green', attrs=['bold']))\n",
    "\n",
    "str_match = [s for s in resultados if \"género\" in s]\n",
    "print(\"\\n\".join(str_match))\n",
    "\n",
    "print(colored(\"Asesinato\", 'green', attrs=['bold']))\n",
    "\n",
    "str_match = [s for s in resultados if \"asesinato\" in s]\n",
    "print(\"\\n\".join(str_match))\n",
    "\n",
    "print(colored(\"Sexo\", 'green', attrs=['bold']))\n",
    "\n",
    "str_match = [s for s in resultados if \"sexo\" in s]\n",
    "print(\"\\n\".join(str_match))"
   ]
  }
 ],
 "metadata": {
  "kernelspec": {
   "display_name": "Python 3 (ipykernel)",
   "language": "python",
   "name": "python3"
  },
  "language_info": {
   "codemirror_mode": {
    "name": "ipython",
    "version": 3
   },
   "file_extension": ".py",
   "mimetype": "text/x-python",
   "name": "python",
   "nbconvert_exporter": "python",
   "pygments_lexer": "ipython3",
   "version": "3.9.12"
  }
 },
 "nbformat": 4,
 "nbformat_minor": 5
}
