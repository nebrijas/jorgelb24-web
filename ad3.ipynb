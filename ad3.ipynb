{
 "cells": [
  {
   "cell_type": "markdown",
   "id": "e6ad1946",
   "metadata": {},
   "source": [
    "# Actividad dirigida 3"
   ]
  },
  {
   "cell_type": "markdown",
   "id": "44209296",
   "metadata": {},
   "source": [
    "Esta actividad consite en hacer un ejercicio de programación literaria aprovechando un código que hemos usado en programación con python, donde realizameros *web scrapping*\n",
    "    \"A continuación pongo el código fuente\""
   ]
  },
  {
   "cell_type": "markdown",
   "id": "559e14df",
   "metadata": {},
   "source": [
    "## Instalar librerías"
   ]
  },
  {
   "cell_type": "markdown",
   "id": "44dc719c",
   "metadata": {},
   "source": [
    "Para iniciar el web scraping, procedimos a instalar las librerías que nos ayudarían a todo el proceso."
   ]
  },
  {
   "cell_type": "code",
   "execution_count": 1,
   "id": "e54ee934",
   "metadata": {},
   "outputs": [
    {
     "name": "stdout",
     "output_type": "stream",
     "text": [
      "Defaulting to user installation because normal site-packages is not writeable\n",
      "Requirement already satisfied: requests in c:\\programdata\\anaconda3\\lib\\site-packages (2.27.1)\n",
      "Requirement already satisfied: bs4 in c:\\users\\marliege barría\\appdata\\roaming\\python\\python39\\site-packages (0.0.1)\n",
      "Requirement already satisfied: pandas in c:\\programdata\\anaconda3\\lib\\site-packages (1.4.2)\n",
      "Requirement already satisfied: termcolor in c:\\users\\marliege barría\\appdata\\roaming\\python\\python39\\site-packages (1.1.0)\n",
      "Requirement already satisfied: charset-normalizer~=2.0.0 in c:\\programdata\\anaconda3\\lib\\site-packages (from requests) (2.0.4)\n",
      "Requirement already satisfied: idna<4,>=2.5 in c:\\programdata\\anaconda3\\lib\\site-packages (from requests) (3.3)\n",
      "Requirement already satisfied: certifi>=2017.4.17 in c:\\programdata\\anaconda3\\lib\\site-packages (from requests) (2021.10.8)\n",
      "Requirement already satisfied: urllib3<1.27,>=1.21.1 in c:\\programdata\\anaconda3\\lib\\site-packages (from requests) (1.26.9)\n",
      "Requirement already satisfied: beautifulsoup4 in c:\\programdata\\anaconda3\\lib\\site-packages (from bs4) (4.11.1)\n",
      "Requirement already satisfied: pytz>=2020.1 in c:\\programdata\\anaconda3\\lib\\site-packages (from pandas) (2021.3)\n",
      "Requirement already satisfied: numpy>=1.18.5 in c:\\programdata\\anaconda3\\lib\\site-packages (from pandas) (1.21.5)\n",
      "Requirement already satisfied: python-dateutil>=2.8.1 in c:\\programdata\\anaconda3\\lib\\site-packages (from pandas) (2.8.2)\n",
      "Requirement already satisfied: six>=1.5 in c:\\programdata\\anaconda3\\lib\\site-packages (from python-dateutil>=2.8.1->pandas) (1.16.0)\n",
      "Requirement already satisfied: soupsieve>1.2 in c:\\programdata\\anaconda3\\lib\\site-packages (from beautifulsoup4->bs4) (2.3.1)\n",
      "Note: you may need to restart the kernel to use updated packages.\n"
     ]
    }
   ],
   "source": [
    "pip install requests bs4 pandas termcolor"
   ]
  },
  {
   "cell_type": "markdown",
   "id": "b9353315",
   "metadata": {},
   "source": [
    "## Librerías\n",
    "Vamos a instalar las siguientes librerías:"
   ]
  },
  {
   "cell_type": "markdown",
   "id": "4f1eb358",
   "metadata": {},
   "source": [
    " ### Librerías del Sistema\n",
    "    \n",
    "    - 'time'\n",
    "    - 'csv'\n",
    "    - 're'\n",
    "    - 'os'\n",
    "\n",
    "### Librerías externas\n",
    "\n",
    "    - 'requests'\n",
    "    - 'bs4'\n",
    "    - 'pandas'\n",
    "    - 'termcolor'"
   ]
  },
  {
   "cell_type": "markdown",
   "id": "7f9a74e2",
   "metadata": {},
   "source": [
    "### Importar librerías\n",
    "    Las librerías que vienen con Python no hay que instalarlas pero las otras sí\n",
    "- [requests](https://requests.readthedocs.io/en/latest/) : Es una biblioteca HTTP elegante y simple para Python\n",
    "- [time](https://docs.python.org/es/3/library/time.html) : Este módulo proporciona varias funciones relacionadas con el tiempo\n",
    "- [csv](https://docs.python.org/es/3/library/csv.html) : El tan llamado CSV (Valores Separados por Comas) es el formato más común de importación y exportación de hojas de cálculo y bases de datos.\n",
    "- [re](https://docs.python.org/es/3/library/re.html) : Este módulo proporciona operaciones de coincidencia de expresiones regulares similares a las encontradas en Perl.\n",
    "- [bs4](https://www.crummy.com/software/BeautifulSoup/) : Beautiful Soup analiza cualquier cosa que le des y hace el recorrido del árbol por ti. Puede decirle \\\"Encuentre todos los enlaces\n",
    "- [pandas](https://bioinf.comav.upv.es/courses/linux/python/pandas.html) : Pandas es un paquete de Python que proporciona estructuras de datos similares a los dataframes de R.\n",
    "- [termcolor](https://pypi.org/project/termcolor/) : Importación de colores\""
   ]
  },
  {
   "cell_type": "markdown",
   "id": "7509c480",
   "metadata": {},
   "source": [
    "Luego de haber enlazado cada una de las librerías, procedimos a importarlas para que los comandos respondan adecuadamente."
   ]
  },
  {
   "cell_type": "code",
   "execution_count": 2,
   "id": "c2ae488c",
   "metadata": {},
   "outputs": [],
   "source": [
    "import requests\n",
    "import time\n",
    "import csv\n",
    "import re\n",
    "from bs4 import BeautifulSoup\n",
    "import os\n",
    "import pandas as pd\n",
    "from termcolor import colored "
   ]
  },
  {
   "cell_type": "markdown",
   "id": "c853ba63",
   "metadata": {},
   "source": [
    "### Objetos/variables\n",
    "    Vamos a crear una serie de objetos o variables:"
   ]
  },
  {
   "cell_type": "code",
   "execution_count": 3,
   "id": "3f5a5bf6",
   "metadata": {},
   "outputs": [],
   "source": [
    "resultados = []"
   ]
  },
  {
   "cell_type": "markdown",
   "id": "7826a576",
   "metadata": {},
   "source": [
    "Si le paso la función type() veremos que se trata de un objeto tipo 'list' o \\\"lista\\\" de Python."
   ]
  },
  {
   "cell_type": "code",
   "execution_count": 5,
   "id": "5e954778",
   "metadata": {},
   "outputs": [
    {
     "data": {
      "text/plain": [
       "list"
      ]
     },
     "execution_count": 5,
     "metadata": {},
     "output_type": "execute_result"
    }
   ],
   "source": [
    "type (resultados)"
   ]
  },
  {
   "cell_type": "markdown",
   "id": "00e8e1ba",
   "metadata": {},
   "source": [
    "#### Web scrpping para dividir los códigos"
   ]
  },
  {
   "cell_type": "markdown",
   "id": "61f364d1",
   "metadata": {},
   "source": [
    "Luego de haber creado los objetivo o variables que trabajeremos, procedemos a la impresión del código fuente, en este caso detallaremos algunas secciones del diario El País.\n",
    "Para ello seccioné cada uno de los códigos, les añadí un **type** para que devuelva el mediante el request lo que se está pidiendo en la url.\n",
    "Posteriormente mediante un soup, hacemos la impresión del texto que hemos destacado en el request.\n",
    "Este proceso es realizado en los códigos a continuación:"
   ]
  },
  {
   "cell_type": "markdown",
   "id": "61304587",
   "metadata": {},
   "source": [
    "##### Impresión de titulares principales de El País"
   ]
  },
  {
   "cell_type": "code",
   "execution_count": 6,
   "id": "8800cf1c",
   "metadata": {},
   "outputs": [],
   "source": [
    "req = requests.get(\"https://resultados.elpais.com\")"
   ]
  },
  {
   "cell_type": "code",
   "execution_count": 9,
   "id": "d782d82e",
   "metadata": {},
   "outputs": [
    {
     "data": {
      "text/plain": [
       "requests.models.Response"
      ]
     },
     "execution_count": 9,
     "metadata": {},
     "output_type": "execute_result"
    }
   ],
   "source": [
    "type (req)"
   ]
  },
  {
   "cell_type": "code",
   "execution_count": 10,
   "id": "672e11b7",
   "metadata": {},
   "outputs": [],
   "source": [
    "# Si el estatus code no es 200 no se puede leer la página\n",
    "if (req.status_code != 200):\n",
    " raise Exception(\"No se puede hacer Web Scraping en\"+ URL)\n",
    "soup = BeautifulSoup(req.text, 'html.parser')"
   ]
  },
  {
   "cell_type": "code",
   "execution_count": 11,
   "id": "00260161",
   "metadata": {},
   "outputs": [
    {
     "name": "stdout",
     "output_type": "stream",
     "text": [
      "Boris Johnson dimite\n",
      "Johnson reúne al nuevo gabinete tras anunciar su dimisión\n",
      "¿Cómo se elige un nuevo líder conservador?\n",
      "Populistas por el desagüe de la historia\n",
      "Vargas Llosa, el equivocado eres tú\n",
      "La baloncestista Brittney Griner se declara culpable de posesión de drogas en Rusia\n",
      "Deriva reaccionaria en Estados Unidos\n",
      "El eterno retorno de lo mismo\n",
      "Dios y la carne\n",
      "Deja quieta la comida\n",
      "‘Meraxes gigas’: descubierta en Argentina una nueva especie de dinosaurio carnívoro gigante\n",
      "Vladimir Padrino, el eterno ministro chavista aliado de Rusia\n",
      "La posibilidad de un cambio de Gobierno en Brasil dispara la depredación en la Amazonia\n",
      "El enorme desafío que lastra a la economía Argentina\n",
      "El abogado del expresidente mexicano Peña Nieto compró un piso de megalujo mientras estaba siendo investigado por blanqueo\n",
      "Marcos López Hoyos, inmunólogo: “Deberíamos usar mascarillas en interiores y comer en terrazas”\n",
      "La frontera sur de Estaados Unidos se calienta días antes de la visita de López Obrador a Biden\n",
      "Apple asegura que el software espía Pegasus ya no podrá entrar en sus teléfonos\n",
      "La cola vestigial, el apéndice oculto del hombre que venció a Napoleón\n",
      "Haití, sin presidente y sin Estado a un año del asesinato de Jovenel Moïse\n",
      "La guerra de los drones se vuelve contra Hezbolá\n",
      "La agenda de la NASA para volver a la Luna (y quedarse)\n",
      "La guerra en Ucrania impulsa el perfil de Polonia\n",
      "EL PAÍS América gana el Premio de la Asociación Mundial de Editores al mejor sitio de noticias de Latinoamérica\n",
      "“No hay pensamiento sin tiempo para pensar”\n",
      "“En el hospital, la enseñanza es una medicina más”\n",
      "Un alegato por la paz y la cultura\n",
      "Muere el actor James Caan, célebre por encarnar a Sonny Corleone en ‘El padrino’, a los 82 años\n",
      "Qué une a Leonardo da Vinci y a Susan Sontag: una enciclopedia de genios\n",
      "La tragedia de la redada masiva de judíos en París, a través de la mirada de Cabu\n",
      "El golazo literario de Roberto Santiago con ‘Los futbolísimos’\n",
      "Con R de Reinona y A de Apoteósico: Rosalía inicia su gira mundial\n",
      "Qué tiene Harry Styles que no tuvieron los demás para terminar con la maldición de la ‘boy band’\n",
      "Elon Musk tuvo gemelos en secreto con una ejecutiva de una de sus empresas\n",
      "Por qué es importante conocer tu personalidad erótica\n",
      "Qué ver en Washington, la ciudad donde casi todo es gratis\n",
      "Aló Comidista: “¿Tomar gazpacho es un pecado nutricional?”\n",
      "Nadal confirma que jugará contra Kyrgios en Wimbledon\n",
      "Las jugadoras de Inglaterra piden a Nike cambiar el color del pantalón por la regla\n",
      "El Barcelona espera por Lewandowski mientras presenta a Christensen\n",
      "La entrega de la nueva Constitución sella el inicio de una nueva era en Chile\n",
      "Francisco de Roux: “Si no se acaba con el narco, Colombia no tendrá paz”\n",
      "La economía mundial se desinfla: así es la crisis que viene\n",
      "Gilda Love, la transformista de 97 años que sobrevivió a todo\n",
      "UK Prime Minister Boris Johnson agrees to step down\n",
      "Highland Park gunman had threatened to kill his own family\n",
      "‘Republicans aren’t going to stop: they’ll try to criminalize abortion throughout the US’\n",
      "Jorge Stolfi: ‘Bitcoin and blockchain technology is garbage’\n",
      "CERN’s Large Hadron Collider, the biggest experiment on Earth, is back in action\n",
      "EL PAÍS America wins World Association of News Publishers award for best news site in Latin America\n",
      "Letras Americanas: la actualidad literaria de un continente vista por el escritor Emiliano Monge\n",
      "Americanas: Reportajes y noticias sobre feminismo e historias con enfoque de género de la región\n",
      "Toda la actualidad científica en el boletín de Materia\n",
      "Ideas: reportajes y entrevistas para entender el mundo\n",
      "Ucrania presenta en Suiza un ambicioso plan de reconstrucción de 720.000 millones \n",
      "López Obrador pide “desmontar la estatua de la libertad” si EE UU condena a Julian Assange\n",
      "La investigación de EE UU sobre la muerte de la periodista palestina se cierra en falso por el mal estado de la bala \n",
      "Silvina Batakis, una economista de bajo perfil para aplacar la guerra de poder en Argentina\n",
      "Muere a los 63 años el secretario general de la OPEP, Mohammad Barkindo\n",
      "El Parlamento Europeo respalda el sello verde de la UE al gas y energía nuclear\n",
      "La ola de violencia en México abre una brecha entre la Iglesia católica y el Gobierno\n",
      "Chile presenta la primera Constitución paritaria y con perspectiva de género\n",
      "Ese cuerpo\n",
      "El hallazgo de la tumba de Tutankamón, convertido en novela criminal a lo Agatha Christie\n",
      "La verdad de por qué los Oscar se llaman así\n",
      "Nikki Lane: forajida de botas vaqueras y calidad \n",
      "La agenda de la NASA para volver a la Luna (y quedarse)\n",
      "¿Qué es la incompatibilidad de Rh madre/hijo?\n",
      "Un novedoso estudio sobre estrés adolescente propone un nuevo método para afrontarlo: optimizarlo en lugar de evitarlo\n",
      "Kyrgios - Nadal y Djokovic - Norrie: dónde ver las semifinales de Wimbledon 2022\n",
      "La fiesta en el estreno de la Eurocopa femenina la pone el público con un récord de asistencia en el torneo\n",
      "El fútbol moderno reduce el mercado de Cristiano Ronaldo\n",
      "Empresas, expertos, políticos y científicos reclaman compromiso ante la emergencia climática: “Lo fundamental es cumplir”\n",
      "Vídeo | Las primeras imágenes del año de una osa parda y sus dos crías en el Valle de Arán\n",
      "Las emisiones de efecto invernadero volvieron a crecer en 2021 en España aunque sin sobrepasar los niveles previos a la pandemia\n",
      "Con el relax del verano se acentúan los peligros cibernéticos: así puede protegerse durante las vacaciones\n",
      "Meta presenta un traductor capaz de operar en tiempo real con 200 idiomas\n",
      "Jorge Stolfi: “Soy catedrático de informática. Como mis colegas, sé que la tecnología de bitcoin es basura”\n",
      "La Puerta de Alcalá pasa por el ‘quirófano’: una lona gigante tapará el monumento más icónico de Madrid\n",
      "El comité de crisis de la coalición de Gobierno: cinco encuentros entre la formalidad y el enfrentamiento\n",
      "Los socios piden al Gobierno un giro “decisivo” a la izquierda en el debate de la nación\n",
      "Los dilemas de ‘La firma de Dios’: ¿y si el virus detrás de una pandemia tuviera conciencia y voluntad propia?\n",
      "‘Sanfermines: maltrato animal en riguroso directo’, por Eva Güimil\n",
      "‘La ciudad es nuestra’ o la corrupción policial’, por Ángel Sánchez-Harguindey\n",
      "Realismo, entretenimiento y democracia: la alta costura se deshace por fin de sus estereotipos en París\n",
      "‘Foodificación’ o cómo un chuletón a la brasa puede transformar por completo la identidad de una ciudad\n",
      "Matthew Bronfman, el ‘príncipe’ de Wall Street y heredero de un imperio licorero que se ha reunido con el rey Felipe VI\n",
      "Volver a la escuela tras dos años de pandemia\n",
      "La discriminación contra las minorías sexuales limita el desarrollo de Latinoamérica\n",
      "El hombre que persigue la gaita más antigua del mundo\n",
      "'La palabra médico', por Martín Caparrós \n",
      "Ecosofía: la filosofía de tratar el entorno natural como algo divino \n",
      "Marta Segarra: “Quien diga que el hombre es el único animal que viola se equivoca”\n",
      "Manual para sobrevivir al calentón del euríbor\n",
      "La carrera por las oposiciones ha empezado: en juego hay 45.000 trabajos para toda la vida\n",
      "Max Aub, el escritor español que mejor contó la experiencia de la guerra y los refugiados \n",
      "La Bienal del Whitney habla mucho y dice poco\n",
      "Qué nos enseña ‘El Quijote’ sobre la nueva ley contra el desperdicio de alimentos\n",
      "Un argentino en medio de la crisis humanitaria en Mozambique: “He intentado salir de esto y no he podido”\n",
      "Qué ver en Washington, la ciudad donde casi todo es gratis\n",
      "24 horas en Tánger: entre la ‘kasbah’, la medina y las huellas de la generación Beat\n",
      "Nicole Kidman aparece como modelo sorpresa en el chocante desfile de Balenciaga\n",
      "El ‘influencer’ más varguardista del momento crea parodias de la moda desde una de las islas más pobres del mundo\n",
      "A-ha: cómo tres tipos que no se soportan sobrevivieron a la canción pop más grande de los ochenta \n",
      "Una granja llena de armas y dos denuncias por secuestro: ¿cómo ha llegado Ezra Miller hasta aquí?\n",
      "¿Cuál es la mejor marca de tónica?\n",
      "Las quejas de los lectores: alud de maicena para un pollo frito\n",
      "Apple asegura que el software espía Pegasus ya no podrá entrar en sus teléfonos\n",
      "“Por Dios, haz lo que quieras pero tengo que jugar”: Xabi Alonso se abrió la rodilla dos horas antes de la semifinal del Mundial \n",
      "Ponte a prueba con nuestros crucigramas, sopas de letras, sudokus y juegos arcade\n",
      "Feijóo dijo que Irene Montero fue a EE.UU de turismo y la réplica de la ministra es abrumadora\n",
      "“Tchouameni trabaja como nadie; seguro que se ganará su sitio”\n",
      "Los Planetas contra la ley de TikTok\n"
     ]
    }
   ],
   "source": [
    "tags = soup.findAll(\"h2\")\n",
    "\n",
    "for h2 in tags:\n",
    "    print(h2.text)\n",
    "    resultados.append(h2.text)"
   ]
  },
  {
   "cell_type": "markdown",
   "id": "42774bf1",
   "metadata": {},
   "source": [
    "### Impresión de los titulares internacionales "
   ]
  },
  {
   "cell_type": "code",
   "execution_count": 12,
   "id": "3e76335a",
   "metadata": {},
   "outputs": [],
   "source": [
    "req2 = requests.get(\"https://elpais.com/internacional\")"
   ]
  },
  {
   "cell_type": "code",
   "execution_count": 13,
   "id": "a7d148e2",
   "metadata": {},
   "outputs": [
    {
     "data": {
      "text/plain": [
       "requests.models.Response"
      ]
     },
     "execution_count": 13,
     "metadata": {},
     "output_type": "execute_result"
    }
   ],
   "source": [
    "type (req2)"
   ]
  },
  {
   "cell_type": "code",
   "execution_count": 14,
   "id": "6214f856",
   "metadata": {},
   "outputs": [],
   "source": [
    "# Si el estatus code no es 200 no se puede leer la página\n",
    "if (req.status_code != 200):\n",
    " raise Exception(\"No se puede hacer Web Scraping en\"+ URL)\n",
    "soup2 = BeautifulSoup(req2.text, 'html.parser')"
   ]
  },
  {
   "cell_type": "code",
   "execution_count": 15,
   "id": "c27f0cbe",
   "metadata": {},
   "outputs": [
    {
     "name": "stdout",
     "output_type": "stream",
     "text": [
      "Boris Johnson dimite\n",
      "Boris Johnson: el final de la escapada del mago del Brexit\n",
      "Populistas occidentales por el desagüe de la historia\n",
      "Populistas occidentales por el desagüe de la historia\n",
      "Boris Johnson dimite\n",
      "La ultraderecha mundial y el control de los cuerpos\n",
      "Las otras fronteras de Rusia: entre el miedo (al imperio) y los intereses nacionales\n",
      "El lenguaje que Putin entiende\n",
      "¿Cómo se elige un nuevo líder conservador?\n",
      "La Fiscalía investiga al expresidente Enrique Peña Nieto por recibir 26 millones de pesos en transferencias irregulares en el extranjero\n",
      "Cientos de yihadistas liberan a más de 800 presos en el asalto a una cárcel en la capital de Nigeria\n",
      "La guerra de los drones se vuelve contra Hezbolá \n",
      "Turquía libera el barco ruso con trigo presuntamente robado de Ucrania\n",
      "La guerra en Ucrania impulsa el perfil internacional de Polonia\n",
      "El asesino de Highland Park había amenazado con matar a su familia y planeó otro ataque durante su huida\n",
      "El Gobierno alemán impulsa la regularización de más de 100.000 extranjeros sin permiso de residencia\n",
      "La primera ministra francesa pide “compromisos” a la oposición parlamentaria para sacar adelante las reformas\n",
      "Europol desmantela una red de tráfico de migrantes transportados en botes hinchables al Reino Unido\n",
      "El hambre en Colombia, el reto mayúsculo de Petro\n",
      "Vladimir Padrino, el eterno ministro chavista aliado de Rusia\n",
      "Haití, sin presidente y sin Estado un año después del asesinato de Jovenel Moïse\n",
      "Argentina salda con diez cadenas perpetuas los delitos cometidos en Campo de Mayo, el mayor centro clandestino del Ejército en la dictadura\n",
      "‘Mi bebito fiu fiu’, el fenómeno mundial que viralizó uno de los mil escándalos de la política peruana\n",
      "Dimiten tres ministros y un alto cargo en Ecuador tras el acuerdo para poner fin a las protestas indígenas \n"
     ]
    }
   ],
   "source": [
    "tags = soup2.findAll(\"h2\")\n",
    "\n",
    "for h2 in tags:\n",
    "    print(h2.text)\n",
    "    resultados.append(h2.text)"
   ]
  },
  {
   "cell_type": "markdown",
   "id": "983520cd",
   "metadata": {},
   "source": [
    "###  Impresión de artículos de opinión"
   ]
  },
  {
   "cell_type": "code",
   "execution_count": 16,
   "id": "6fc228ff",
   "metadata": {},
   "outputs": [],
   "source": [
    "req3 = requests.get(\"https://elpais.com/opinion\")"
   ]
  },
  {
   "cell_type": "code",
   "execution_count": 17,
   "id": "ffb882b2",
   "metadata": {},
   "outputs": [
    {
     "data": {
      "text/plain": [
       "requests.models.Response"
      ]
     },
     "execution_count": 17,
     "metadata": {},
     "output_type": "execute_result"
    }
   ],
   "source": [
    "type (req3)"
   ]
  },
  {
   "cell_type": "code",
   "execution_count": 18,
   "id": "83f8f4ad",
   "metadata": {},
   "outputs": [],
   "source": [
    "# Si el estatus code no es 200 no se puede leer la página\n",
    "if (req.status_code != 200):\n",
    " raise Exception(\"No se puede hacer Web Scraping en\"+ URL)\n",
    "soup3 = BeautifulSoup(req3.text, 'html.parser')"
   ]
  },
  {
   "cell_type": "code",
   "execution_count": 19,
   "id": "e19598c5",
   "metadata": {},
   "outputs": [
    {
     "name": "stdout",
     "output_type": "stream",
     "text": [
      "Vendaval inflacionista\n",
      "Deriva reaccionaria en Estados Unidos\n",
      "Nuestro invierno del descontento\n",
      "El eterno retorno de lo mismo\n",
      "‘Mi casa, mi árbol’\n",
      "Ley de desmemoria democrática\n",
      "Ante la crisis, ¿gestionas o lideras?\n",
      "Acusación en el espejo\n",
      "Deja quieta la comida\n",
      "Dios y la carne\n",
      "La fortaleza del empleo \n",
      "Colombia necesita la paz \n",
      "De guerreros y comerciantes\n",
      "El Roto\n",
      "Peridis\n",
      "Flavita Banana\n",
      "Riki Blanco\n",
      "Sciammarella\n",
      "Planeta de Plástico, por Malagón\n",
      "Envía tu carta\n",
      "Defender lo público\n",
      "Los excesos de Telmo Martín\n",
      "El culo y las témporas \n",
      "En la calle circulan rumores\n",
      "Opinar sin insultar\n",
      "Contra el conflicto de intereses, transparencia\n",
      "El defensor del lector contesta\n"
     ]
    }
   ],
   "source": [
    "tags = soup3.findAll(\"h2\")\n",
    "\n",
    "for h2 in tags:\n",
    "    print(h2.text)\n",
    "    resultados.append(h2.text)"
   ]
  },
  {
   "cell_type": "markdown",
   "id": "f0b7653a",
   "metadata": {},
   "source": [
    "### Impresión de El País de España"
   ]
  },
  {
   "cell_type": "code",
   "execution_count": 22,
   "id": "1484fc9f",
   "metadata": {},
   "outputs": [],
   "source": [
    "req4 = requests.get(\"https://elpais.com/espana/\")"
   ]
  },
  {
   "cell_type": "code",
   "execution_count": 23,
   "id": "7e3ef914",
   "metadata": {},
   "outputs": [
    {
     "data": {
      "text/plain": [
       "requests.models.Response"
      ]
     },
     "execution_count": 23,
     "metadata": {},
     "output_type": "execute_result"
    }
   ],
   "source": [
    "type(req4)"
   ]
  },
  {
   "cell_type": "code",
   "execution_count": 24,
   "id": "1e5050ea",
   "metadata": {},
   "outputs": [],
   "source": [
    "# Si el estatus code no es 200 no se puede leer la página\n",
    "if (req.status_code != 200):\n",
    " raise Exception(\"No se puede hacer Web Scraping en\"+ URL)\n",
    "soup4 = BeautifulSoup(req4.text, 'html.parser')"
   ]
  },
  {
   "cell_type": "code",
   "execution_count": 25,
   "id": "e30e059f",
   "metadata": {},
   "outputs": [
    {
     "name": "stdout",
     "output_type": "stream",
     "text": [
      "Los socios piden al Gobierno un giro “decisivo” a la izquierda en el debate de la nación\n",
      "El comité de crisis de la coalición de Gobierno: cinco encuentros entre la formalidad y el enfrentamiento\n",
      "Villarejo: “Tengo un tema de la hostia contra Podemos”. Cospedal: “Es una bomba. Yo eso sí lo quiero”\n",
      "Ante la crisis, ¿gestionas o lideras?\n",
      "El almirante Cervera y el honor de España\n",
      "El Gran Retroceso\n",
      "Santa Bárbara y la cultura de la defensa\n",
      "¿Es posible disentir de esta retórica belicista?\n",
      "Feijóo evita condenar la cacería a Podemos: “Estas cosas salen cuando al PP le va bien en las encuestas”\n",
      "Belarra denuncia una “alianza antidemocrática” contra Podemos tras conocer los audios de la conversación entre Villarejo y Cospedal\n",
      "La Audiencia Nacional rechaza suspender el juicio a Villarejo hasta septiembre\n",
      "Los sudaneses que fueron devueltos en caliente a Marruecos: “Unos guardias civiles me pegaron en los pies y me echaron gas”\n",
      "Un conductor octogenario recorre 35 kilómetros en sentido contrario por la A-7 al volver a su casa en la costa desde Valencia\n",
      "Heridos tres policías en Pamplona en una protesta al final durante la procesión de San Fermín\n",
      "Las becas de Ayuso para rentas altas, un debate más ideológico que jurídico \n",
      "La doctrina del Constitucional no es concluyente sobre las becas con dinero público para estudiantes de centros privados\n",
      "Yolanda Díaz: “El presidente y yo llegaremos a un punto de encuentro” \n",
      "El Gobierno recupera a sus socios para la reforma exprés con la que pretende renovar el Tribunal Constitucional\n",
      "Rajoy defiende al rey emérito y dice que no se le trata “como se merece”\n",
      "Un paraíso en el que avistar más de 20 especies de cetáceos\n",
      "El secreto de Fuerteventura se hace viral: la ‘playa de las palomitas’\n",
      "Un vino para triunfar entre los mileniales\n",
      "Artesanía y cultura que conquista a las ‘influencers’\n",
      "Más allá de la capital. El triunfo de la vida rural madrileña\n"
     ]
    }
   ],
   "source": [
    "tags = soup4.findAll(\"h2\")\n",
    "\n",
    "for h2 in tags:\n",
    "    print(h2.text)\n",
    "    resultados.append(h2.text)"
   ]
  },
  {
   "cell_type": "markdown",
   "id": "963ffda7",
   "metadata": {},
   "source": [
    "### Importar la sección de economía"
   ]
  },
  {
   "cell_type": "code",
   "execution_count": 26,
   "id": "5f8c2dcd",
   "metadata": {},
   "outputs": [],
   "source": [
    "req5 = requests.get(\"https://elpais.com/economia/\")"
   ]
  },
  {
   "cell_type": "code",
   "execution_count": 27,
   "id": "d59e1a88",
   "metadata": {},
   "outputs": [
    {
     "data": {
      "text/plain": [
       "requests.models.Response"
      ]
     },
     "execution_count": 27,
     "metadata": {},
     "output_type": "execute_result"
    }
   ],
   "source": [
    "type(req5)"
   ]
  },
  {
   "cell_type": "code",
   "execution_count": 28,
   "id": "1c9eb1e2",
   "metadata": {},
   "outputs": [],
   "source": [
    "# Si el estatus code no es 200 no se puede leer la página\n",
    "if (req.status_code != 200):\n",
    " raise Exception(\"No se puede hacer Web Scraping en\"+ URL)\n",
    "soup5 = BeautifulSoup(req5.text, 'html.parser')"
   ]
  },
  {
   "cell_type": "code",
   "execution_count": 29,
   "id": "e7f98868",
   "metadata": {},
   "outputs": [
    {
     "name": "stdout",
     "output_type": "stream",
     "text": [
      "La CNMC multa con 204 millones a las seis mayores constructoras por pactar contratos públicos durante 25 años\n",
      "Claves sobre la multa histórica de la CNMC al cartel de constructoras\n",
      "Un incendio obliga a suspender la circulación de los trenes de alta velocidad entre Madrid y Andalucía\n",
      "La Fiscalía de Portugal investiga al rey del turismo náutico por fraude en la compra-venta de un ferry\n",
      "Bancos centrales, entre líneas\n",
      "Estado autonómico: Sobre las reformas pendientes\n",
      "Carlos Jiménez Villarejo: un hombre contra la desesperanza\n",
      "IPC: de la negación al riesgo de sobrerreacción\n",
      "A Unilever se le indigesta el helado \n",
      "Aena lanza el mayor contrato del ‘handling’ de aeropuertos del mundo\n",
      "El pacto de rentas sigue en el limbo tras la última reunión del diálogo social \n",
      "La CNMC asegura que las gasolineras no se aprovechan del descuento de 20 céntimos\n",
      "Lidl España pacta una subida salarial del 7% este año para 15.500 empleados\n",
      "Las gasolineras de bajo coste son las que más han subido los precios tras la bonificación del Ejecutivo\n",
      "Los hoteleros auguran un verano casi récord, pero las cancelaciones suben un 19% respecto a 2019\n",
      "Requena y Almendralejo rompen el monopolio catalán y colocan un vocal en el Consejo Regulador del cava\n",
      "Francia anuncia su intención de nacionalizar por completo la eléctrica EDF\n",
      "Indra convocará una junta extraordinaria para designar a los nuevos consejeros independientes\n",
      "El AVE no llegará a Galicia este verano por el retraso de Talgo\n",
      "Renfe bate récord de transporte de viajeros con su AVE a La Meca\n",
      "La carrera por las oposiciones ha empezado: en juego hay 45.000 trabajos para toda la vida\n",
      "Los jueces se ponen de parte de las víctimas de ‘phishing’ bancario\n",
      "Texas es la nueva China para  Elon Musk\n",
      "IPC: de la negación al riesgo de sobrerreacción\n",
      "A Unilever se le indigesta el helado \n",
      "Telefónica y Repsol lanzan su negocio de energía fotovoltaica y crean la estructura operativa\n",
      "Los neobancos suben la apuesta por los depósitos\n",
      "\n",
      "¿En qué valores invierten los fondos más rentables del semestre?\n",
      "Altum Faith, el fondo que triunfa con la doctrina del Vaticano\n",
      "No se puede desheredar a un familiar con el que no se tiene relación, según el Supremo\n",
      "Líos en la piscina comunitaria: normas y sentencias para un chapuzón seguro\n",
      "Parir en casa, educarlo por mi cuenta… ¿Qué puedo decidir sobre mi hijo y qué no?\n",
      "Música que transforma vidas y esboza futuros\n",
      "El futuro probable de una sociedad insostenible\n",
      "Francisco Javier Blasco: “Llevamos años sin mejorar la eficacia de las políticas activas de empleo”\n",
      "La hora del bienestar corporativo\n",
      "Cancerberos del bienestar de la empresa\n",
      "Cómo garantizar la seguridad en un mundo de amenazas híbridas\n",
      "¿Cuáles son los dilemas éticos del uso de la inteligencia artificial?\n",
      "Las aventuras de un par de calcetines que dan empleo a todo un pueblo\n",
      "Cultura financiera como punto de partida para volver a empezar\n",
      "¿Puede convertirse España en una de las potencias logísticas del futuro?\n",
      "Por qué digitalizar una pyme aporta más empleo\n",
      "‘Coopetir’: la actitud DFactory\n",
      "Así serán las ciudades de la (nueva) última milla\n",
      "Cinco errores habituales al digitalizar un negocio \n",
      "PERTE Agroalimentario: ¿cómo acceder a los fondos europeos?\n",
      "Fondos soberanos: ¿Cómo funcionan las cajas fuertes de los estados más ricos?\n",
      "¿Crisis de deuda mundial a la vista?\n",
      "El método Muñoz para triunfar en cada reto que se propone\n",
      "Gloria Ramos, cuando el afán de superación acaba en la alfombra roja \n",
      "Ocho ‘startups’ innovadoras con nombre propio\n",
      "Hotmart y su plataforma 360 para creadores de contenidos\n"
     ]
    }
   ],
   "source": [
    "tags = soup5.findAll(\"h2\")\n",
    "\n",
    "for h2 in tags:\n",
    "    print(h2.text)\n",
    "    resultados.append(h2.text)"
   ]
  },
  {
   "cell_type": "markdown",
   "id": "bcde837f",
   "metadata": {},
   "source": [
    "### Imprimir sección de sociedad"
   ]
  },
  {
   "cell_type": "code",
   "execution_count": 30,
   "id": "d22b5277",
   "metadata": {},
   "outputs": [],
   "source": [
    "req6 = requests.get(\"https://elpais.com/sociedad/\")"
   ]
  },
  {
   "cell_type": "code",
   "execution_count": 31,
   "id": "d61e8561",
   "metadata": {},
   "outputs": [
    {
     "data": {
      "text/plain": [
       "requests.models.Response"
      ]
     },
     "execution_count": 31,
     "metadata": {},
     "output_type": "execute_result"
    }
   ],
   "source": [
    "type(req6)"
   ]
  },
  {
   "cell_type": "code",
   "execution_count": 32,
   "id": "b3c9c2e1",
   "metadata": {},
   "outputs": [],
   "source": [
    "# Si el estatus code no es 200 no se puede leer la página\n",
    "if (req.status_code != 200):\n",
    " raise Exception(\"No se puede hacer Web Scraping en\"+ URL)\n",
    "soup6 = BeautifulSoup(req6.text, 'html.parser')"
   ]
  },
  {
   "cell_type": "code",
   "execution_count": 33,
   "id": "0d1ab589",
   "metadata": {},
   "outputs": [
    {
     "name": "stdout",
     "output_type": "stream",
     "text": [
      "Las emisiones de efecto invernadero volvieron a crecer en 2021 en España aunque sin sobrepasar los niveles previos a la pandemia\n",
      "¿Existe brecha generacional en el colectivo LGTBI? De la lucha por los derechos al debate identitario\n",
      "Marcos López Hoyos, inmunólogo: “Deberíamos usar mascarillas en interiores y comer en terrazas”\n",
      "El control del cuerpo de las mujeres\n",
      "No se gobierna con el catecismo romano\n",
      "Un día muy triste para todas las mujeres\n",
      "El Supremo de Estados Unidos destruye un derecho fundamental de las mujeres\n",
      "¿Hay que obligar a los niños a hacer deberes en verano? Los expertos recomiendan actividades que no se parezcan a las tareas escolares\n",
      "Un alud letal y una histórica sequía: el cambio climático castiga al norte de Italia\n",
      "‘Ley trans’: El Consejo de Estado plantea informes médicos para cambiar de sexo en el registro y aval judicial para los menores\n",
      "El Supremo confirma la condena para el encargado de un banco de alimentos por abusar de una mujer a cambio de comida\n",
      "El caso de Georgia, en EE UU: becar sin importar la renta agranda la desigualdad\n",
      "Un estudio de la Universidad de Oxford relaciona la privatización sanitaria con el aumento de la mortalidad evitable en Inglaterra\n",
      "Condenado el Ayuntamiento de Écija por discriminación salarial a las mujeres: “Éramos malas por reivindicar. Nos decían: ‘Portaos bien”\n",
      "La eterna provisionalidad de los sanitarios: “Llevo 19 años en urgencias y no ha salido ni una oposición para hacerme fija”\n",
      "La sanidad privada entra en cinco cárceles por la falta de médicos penitenciarios\n",
      "Los hospitalizados con covid crecen un 13% desde la semana pasada\n",
      "“Los republicanos no van a parar: tratarán de criminalizar el aborto en todo EE UU” \n",
      "Se buscan profesionales en economía circular\n",
      "La economía circular llega a la ciudad. Te contamos dónde se encuentra \n",
      "¿Por qué hablar de VIH en el Orgullo y no en los sanfermines?\n",
      "Mitos, falsedades, bulos y realidades sobre el VIH 40 años después\n",
      "Qué son las evidencias científicas y por qué están revolucionando la educación\n",
      "Munic, el joven redimido por el trap\n",
      "El tremendo peso de la obesidad en España\n",
      "Interactivo | Los 14 cambios en los aeropuertos españoles que no ves y que ya están ocurriendo\n",
      "Encontrar empleo pese a los obstáculos. Por dónde empezar la búsqueda\n",
      "La fórmula de Carboneros para evitar el éxodo rural: trabajar cuidando a los vecinos \n",
      "Consejos y cuidados para el primer verano con un gatito o un perrito\n",
      "¿Qué tienen en común perros y gatos cuando son cachorros?\n",
      "La guía definitiva para alimentarnos mejor (y cuidar nuestra salud y la del planeta)\n",
      "El metro como refugio. De los andenes de Madrid en 1936 a los de Kiev en 2022\n",
      "La salud mental de los refugiados: cómo abrirse para cerrar las heridas\n",
      "Yogures con menos azúcar, paso firme hacia la alimentación infantil del futuro\n",
      "Conectada con el mercado laboral y tecnológica: así es la universidad del presente\n",
      "Así es la formación más abierta y flexible, a prueba de crisis\n"
     ]
    }
   ],
   "source": [
    "tags = soup6.findAll(\"h2\")\n",
    "\n",
    "for h2 in tags:\n",
    "    print(h2.text)\n",
    "    resultados.append(h2.text)"
   ]
  },
  {
   "cell_type": "markdown",
   "id": "1952a267",
   "metadata": {},
   "source": [
    "### Imprimir sección de educación"
   ]
  },
  {
   "cell_type": "code",
   "execution_count": 34,
   "id": "da86d092",
   "metadata": {},
   "outputs": [],
   "source": [
    "req7 = requests.get(\"https://elpais.com/educacion/\")"
   ]
  },
  {
   "cell_type": "code",
   "execution_count": 35,
   "id": "59b39ac8",
   "metadata": {},
   "outputs": [
    {
     "data": {
      "text/plain": [
       "requests.models.Response"
      ]
     },
     "execution_count": 35,
     "metadata": {},
     "output_type": "execute_result"
    }
   ],
   "source": [
    "type (req7)"
   ]
  },
  {
   "cell_type": "code",
   "execution_count": 36,
   "id": "7ab92b4d",
   "metadata": {},
   "outputs": [],
   "source": [
    "# Si el estatus code no es 200 no se puede leer la página\n",
    "if (req.status_code != 200):\n",
    " raise Exception(\"No se puede hacer Web Scraping en\"+ URL)\n",
    "soup7 = BeautifulSoup(req7.text, 'html.parser')\n"
   ]
  },
  {
   "cell_type": "code",
   "execution_count": 37,
   "id": "6815ecc5",
   "metadata": {},
   "outputs": [
    {
     "name": "stdout",
     "output_type": "stream",
     "text": [
      "¿Cómo se cierra un colegio público?\n",
      "Los sindicatos educativos catalanes convocan huelga el 7 de septiembre, primer día de curso en los institutos, y el 28\n",
      "¿Hay que obligar a los niños a hacer deberes en verano? Los expertos recomiendan actividades que no se parezcan a las tareas escolares\n",
      "El caso de Georgia, en EE UU: becar sin importar la renta agranda la desigualdad\n",
      "Madrid, el paraíso de la educación privada: en la capital son minoría los alumnos de la pública\n",
      "Trabajar en el ‘big data’: “Nunca he tenido que echar currículum, las ofertas me han llegado solas”\n",
      "El Gobierno lanza una ofensiva contra las becas para rentas altas de Ayuso que Feijóo respalda\n",
      "José Manuel Bar, secretario de Estado de Educación: “Los docentes de secundaria deben empezar a estudiar pedagogía en su carrera”\n",
      "Ayuso se apunta ahora el tanto de la bajada de tasas universitarias, pese a que las llevó a los tribunales para no reducirlas\n",
      "Notas de Selectividad 2022 por comunidades: los aprobados rozan el 96%\n",
      "Becas públicas en centros privados de Madrid para familias que ganan más de 100.000 euros\n",
      "Sin currículos\n",
      "La escuela concertada ante las desigualdades: el debate pendiente\n",
      "La equidad frente a las políticas educativas de privatización en Andalucía\n",
      "No hay lunes al sol en la Universidad\n",
      "Ofrecer comedor gratis en todos los colegios públicos es “alcanzable y urgente”: costaría 1.664 millones al año, según la ONG Educo  \n",
      "Una fórmula para que la escuela pública compita mejor con la concertada\n",
      "La pérdida de alumnos por el descenso de la natalidad está afectando con más fuerza a la escuela pública que a la concertada\n",
      "El Ayuntamiento de Madrid guarda en un cajón una herramienta ya pagada para ver los datos de contaminación al detalle \n",
      "El caso de Georgia, en EE UU: becar sin importar la renta agranda la desigualdad\n",
      "La implantación del nuevo Bachillerato general fracasa pese a su demanda potencial: “Creímos que lo pedirían seis alumnos y lo han hecho 27”\n",
      "Toni Solano, director de instituto: “Veo mal a los niños, necesitan muchísima ayuda”\n",
      "Niños, Administraciones y redes sociales: prohibir su uso con una mano y enseñar a crear contenidos con la otra\n",
      "El Gobierno aprueba el decreto de bachillerato: los alumnos podrán terminar con un suspenso y desembocará en una nueva Selectividad\n",
      "Las universitarias desertan del grado de Matemáticas ahora que tiene pleno empleo. ¿Por qué?\n",
      "Golpe a la temporalidad en las universidades: 25.000 profesores asociados serán indefinidos a tiempo parcial\n",
      "Antonio Abril: “Yo le decía a Castells: ‘Tienes que aguantar la presión, tienes que hacer la reforma universitaria”\n",
      "Los universitarios extranjeros podrán quedarse un año en España automáticamente al terminar la carrera\n",
      "“No hay pensamiento sin tiempo para pensar”\n",
      "“En el hospital, la enseñanza es una medicina más”\n",
      "Un alegato por la paz y la cultura\n"
     ]
    }
   ],
   "source": [
    "tags = soup7.findAll(\"h2\")\n",
    "\n",
    "for h2 in tags:\n",
    "    print(h2.text)\n",
    "    resultados.append(h2.text)"
   ]
  },
  {
   "cell_type": "markdown",
   "id": "d5689168",
   "metadata": {},
   "source": [
    "### Imprimir sección de clima y medio ambiente"
   ]
  },
  {
   "cell_type": "code",
   "execution_count": 38,
   "id": "6ed5b1d2",
   "metadata": {},
   "outputs": [],
   "source": [
    "req8 = requests.get(\"https://elpais.com/clima-y-medio-ambiente/\")"
   ]
  },
  {
   "cell_type": "code",
   "execution_count": 39,
   "id": "23b796e5",
   "metadata": {},
   "outputs": [
    {
     "data": {
      "text/plain": [
       "requests.models.Response"
      ]
     },
     "execution_count": 39,
     "metadata": {},
     "output_type": "execute_result"
    }
   ],
   "source": [
    "type (req8)"
   ]
  },
  {
   "cell_type": "code",
   "execution_count": 40,
   "id": "aa80d0ec",
   "metadata": {},
   "outputs": [],
   "source": [
    "# Si el estatus code no es 200 no se puede leer la página\n",
    "if (req.status_code != 200):\n",
    " raise Exception(\"No se puede hacer Web Scraping en\"+ URL)\n",
    "soup8 = BeautifulSoup(req8.text, 'html.parser')"
   ]
  },
  {
   "cell_type": "code",
   "execution_count": 41,
   "id": "d4c2a1b7",
   "metadata": {},
   "outputs": [
    {
     "name": "stdout",
     "output_type": "stream",
     "text": [
      "Las emisiones de efecto invernadero volvieron a crecer en 2021 en España aunque sin sobrepasar los niveles previos a la pandemia\n",
      "El relato de un viaje sostenible: desde las finanzas verdes a la digitalización de la industria\n",
      "Los rinocerontes regresan a Mozambique 40 años después de su desaparición\n",
      "Carlos Nobre: “La Amazonia  ya muestra síntomas  de muerte”\n",
      "El Parlamento Europeo respalda el sello verde de la UE al gas y energía nuclear\n",
      "Un alud letal y una histórica sequía: el cambio climático castiga al norte de Italia\n",
      "Un año de espera por la bicicleta: el estallido de la demanda coincide con la escasez de suministro\n",
      "El anticiclón de las Azores se está expandiendo e intensificando\n",
      "Los peores incendios forestales de España: cómo se están intensificando los monstruos de fuego\n",
      "Las bicicletas son para el verano... o no \n",
      "La última milla en el futuro del desarrollo urbano\n",
      "Un plan de retirada  \n",
      "Crisis energética y precios del carbono\n",
      "La lección del martín pescador para afrontar la crisis ecológica\n",
      "Estocolmo+50: mirar atrás para tomar impulso\n",
      "Ríos imposibles: las 171.000 barreras que rompen el curso de agua en España\n",
      "La UE abraza las renovables para romper la dependencia de Rusia\n",
      "La lucha en un pueblo de Teruel para salvar su última montaña\n",
      "¿Qué aire respiran los niños de Madrid y Barcelona? En el 46% de los colegios se supera la contaminación permitida\n",
      "“No hay pensamiento sin tiempo para pensar”\n",
      "“En el hospital, la enseñanza es una medicina más”\n",
      "Un alegato por la paz y la cultura\n"
     ]
    }
   ],
   "source": [
    "tags = soup8.findAll(\"h2\")\n",
    "\n",
    "for h2 in tags:\n",
    "    print(h2.text)\n",
    "    resultados.append(h2.text)"
   ]
  },
  {
   "cell_type": "markdown",
   "id": "0b8dcf14",
   "metadata": {},
   "source": [
    "### Imprimir la sección de ciencia"
   ]
  },
  {
   "cell_type": "code",
   "execution_count": 42,
   "id": "0a088116",
   "metadata": {},
   "outputs": [],
   "source": [
    "req9 = requests.get(\"https://elpais.com/ciencia/\")"
   ]
  },
  {
   "cell_type": "code",
   "execution_count": 48,
   "id": "b504264a",
   "metadata": {},
   "outputs": [
    {
     "data": {
      "text/plain": [
       "requests.models.Response"
      ]
     },
     "execution_count": 48,
     "metadata": {},
     "output_type": "execute_result"
    }
   ],
   "source": [
    "type(req9)"
   ]
  },
  {
   "cell_type": "code",
   "execution_count": 43,
   "id": "f87fda95",
   "metadata": {},
   "outputs": [],
   "source": [
    "# Si el estatus code no es 200 no se puede leer la página\n",
    "if (req.status_code != 200):\n",
    " raise Exception(\"No se puede hacer Web Scraping en\"+ URL)\n",
    "soup9 = BeautifulSoup(req9.text, 'html.parser')\n"
   ]
  },
  {
   "cell_type": "code",
   "execution_count": 44,
   "id": "83003bd3",
   "metadata": {},
   "outputs": [
    {
     "name": "stdout",
     "output_type": "stream",
     "text": [
      "‘Meraxes gigas’: descubierta en la Patagonia argentina una nueva especie de dinosaurio carnívoro gigante\n",
      "La cola vestigial, el apéndice oculto del hombre que venció a Napoleón en Waterloo\n",
      "La agenda de la NASA para volver a la Luna (y quedarse)\n",
      "El sector biotecnológico supera las cifras de 2020 y capta 180 millones de euros de inversión privada\n",
      "“La identidad de género no se elige, como prueba el fracaso de las terapias de conversión”\n",
      "Un novedoso estudio sobre estrés adolescente propone un nuevo método para afrontarlo: optimizarlo en lugar de evitarlo\n",
      "Las mentes humanas detrás de las mentes artificiales\n",
      "El cerebro está más caliente de lo que se pensaba \n",
      "Cangrejos ermitaños: el arte de seleccionar la mejor concha\n",
      "Las temperaturas extremas también matan en América Latina\n",
      "Vuelve el LHC, el mayor experimento sobre la Tierra \n",
      "La matemática Maryna Viazovska gana la medalla Fields tras descubrir la mejor forma de apilar naranjas en 24 dimensiones\n",
      "Cuánto pesa el estrés laboral en la salud mental: del ‘burnout’ a la depresión \n",
      "Katalin Karikó, madre de la vacuna contra la covid: “Conoces a los jugadores de fútbol, pero no a quienes te salvan la vida” \n",
      "Esta imagen no se mueve pero puede provocar cambios en tu pupila\n",
      "El anticiclón de las Azores se está expandiendo e intensificando\n",
      "¿Dónde hay civilizaciones extraterrestres?\n",
      "Las mentes humanas detrás de las mentes artificiales\n",
      "Matemáticas para describir los remolinos, los taxis del océano\n",
      "Reaparece la tesis de María Wonenburger, la pionera matemática española que permaneció décadas en el olvido\n",
      "Técnicas criptográficas que se fundamentan en lo impredecible\n",
      "Fracciones egipcias\n",
      "El problema del huerto\n",
      "Números McNugget\n",
      "La cola vestigial, el apéndice oculto del hombre que venció a Napoleón en Waterloo\n",
      "Molinos y gigantes, adelantos tecnológicos y el síndrome bicicleta\n",
      "El síndrome del hombre lobo y la realidad lógica de su fábula\n",
      "La locura como juego; más allá del Quijote y de las novelas de Pérez Galdós\n",
      "El andar del borracho, las huellas del azar y el juego de dados en algunos libros malditos\n",
      "¿Son mejores las hormonas bioidénticas?\n",
      "¿Qué surgió antes, el ARN o el ADN?\n",
      "¿Por qué se sabe que los núcleos de la Tierra rotan?\n",
      "¿Qué son los mini reactores nucleares?\n",
      "Invitados indeseables por Navidad: el muérdago y otras plagas que evitar durante las fiestas\n",
      "Las ‘apps’ nutricionales o cómo comer bien no debería depender de uno mismo\n",
      "Malnutrición invisible: el impacto de la pobreza en la salud infantil\n",
      "El óxido de etileno, la sustancia cancerígena que ha obligado a retirar miles de alimentos en la UE\n",
      "Que no te líen con los ingredientes: aceites y grasas de mala calidad nutricional\n"
     ]
    }
   ],
   "source": [
    "tags = soup9.findAll(\"h2\")\n",
    "\n",
    "for h2 in tags:\n",
    "    print(h2.text)\n",
    "    resultados.append(h2.text)"
   ]
  },
  {
   "cell_type": "markdown",
   "id": "36183caf",
   "metadata": {},
   "source": [
    "### Imprimir la sección de cultura"
   ]
  },
  {
   "cell_type": "code",
   "execution_count": 45,
   "id": "275e9b70",
   "metadata": {},
   "outputs": [],
   "source": [
    "req10 = requests.get(\"https://elpais.com/cultura/\")"
   ]
  },
  {
   "cell_type": "code",
   "execution_count": 47,
   "id": "92d6dd28",
   "metadata": {},
   "outputs": [
    {
     "data": {
      "text/plain": [
       "requests.models.Response"
      ]
     },
     "execution_count": 47,
     "metadata": {},
     "output_type": "execute_result"
    }
   ],
   "source": [
    "type(req10)"
   ]
  },
  {
   "cell_type": "code",
   "execution_count": 46,
   "id": "f01486e2",
   "metadata": {},
   "outputs": [],
   "source": [
    "# Si el estatus code no es 200 no se puede leer la página\n",
    "if (req.status_code != 200):\n",
    " raise Exception(\"No se puede hacer Web Scraping en\"+ URL)\n",
    "soup10 = BeautifulSoup(req10.text, 'html.parser')"
   ]
  },
  {
   "cell_type": "code",
   "execution_count": 49,
   "id": "8b526c3e",
   "metadata": {},
   "outputs": [
    {
     "name": "stdout",
     "output_type": "stream",
     "text": [
      "Rosalía en Almería, con R de reinona y A de apoteósico\n",
      "Metallica triunfa a base de oficio en un Mad Cool repleto\n",
      "Queen se aferra a su corona en el concierto del WiZink\n",
      "Lo que debemos a Patxo Unzueta\n",
      "La huida\n",
      "Un siglo de canciones, 1.500 artistas\n",
      "Peter Brook, el gran árbol del teatro\n",
      "Norma lleva al cómic a obtener por primera vez el Premio Nacional a la Mejor Labor Editorial\n",
      "Qué une a Leonardo da Vinci y a Susan Sontag: un ensayo recopila a los genios de la erudición\n",
      "Muere Kazuki Takahashi, creador del manga ‘Yu-Gi-Oh!’, a los 60 años\n",
      "Soria resucita su pasado judío en una ruta cultural: iluminadores de Biblias, poetas, amuletos y platos sin cerdo\n",
      "La tragedia de la redada masiva de judíos en París en 1942, a través de la mirada de Cabu\n",
      "La novela póstuma de Almudena Grandes, ‘Todo va a mejorar’ llegará en otoño\n",
      "Cinco minutos de aplausos y un bis de coro: el Teatro Real vive una noche histórica con el ‘Nabucco’\n",
      "Safo, una estrella del rock de la Grecia antigua reencarnada en Christina Rosenvinge\n",
      "El guitarrista Carlos Santana se desmaya durante un concierto en Estados Unidos\n",
      "Taika Waititi, director de ‘Thor: Love and Thunder’: “Las religiones solo provocan problemas”\n",
      "El festival Grec da voz a los vigilantes de salas de los museos en un espectáculo espléndido \n",
      "Una ‘Salome’ descafeinada y descolorida enfría Aix-en-Provence\n",
      "La actriz trans Daniela Vega: “Para que tú y yo estemos aquí sentadas, hubo gente que peleó y murió”  \n",
      "El último atardecer de Europa se ve solo desde este lugar. Un viaje hacia el infinito por el Camino de Fisterra-Muxía\n",
      "Un paseo fluvial con museos y otro lleno de piscinas termales. Las sorpresas de la Vía de la Plata\n",
      "Lorca, en la ciudad al margen\n",
      "El Pirineo oscense, para entrar a vivir\n",
      "Toda la lectura del verano, en el bolsillo\n",
      "Longsellers: los libros más vendidos a lo largo de la historia\n",
      "Libros para descubrir el mundo recomendados por Benjamín Prado\n",
      "Encuentro virtual con la cantante Carla Morrison\n",
      "'Safo' en el Teatre Romea de Barcelona\n",
      "Preestreno de  'Entre dos amaneceres'\n",
      "'Padre no hay más que uno 3'\n",
      "El primer encierro de San Fermín 2022, en imágenes\n",
      "Un primer encierro rápido y limpio abre San Fermín 2022\n",
      "Desvaído rejoneo\n",
      "El chupinazo de San Fermín 2022, en imágenes\n"
     ]
    }
   ],
   "source": [
    "tags = soup10.findAll(\"h2\")\n",
    "\n",
    "for h2 in tags:\n",
    "    print(h2.text)\n",
    "    resultados.append(h2.text)"
   ]
  },
  {
   "cell_type": "markdown",
   "id": "0b8bf88f",
   "metadata": {},
   "source": [
    "### Imprimir sección de babelia"
   ]
  },
  {
   "cell_type": "code",
   "execution_count": 50,
   "id": "7dbcda7e",
   "metadata": {},
   "outputs": [],
   "source": [
    "req11 = requests.get(\"https://elpais.com/babelia/\")"
   ]
  },
  {
   "cell_type": "code",
   "execution_count": 51,
   "id": "40ac9cbd",
   "metadata": {},
   "outputs": [
    {
     "data": {
      "text/plain": [
       "requests.models.Response"
      ]
     },
     "execution_count": 51,
     "metadata": {},
     "output_type": "execute_result"
    }
   ],
   "source": [
    "type(req11)"
   ]
  },
  {
   "cell_type": "code",
   "execution_count": 52,
   "id": "4956e997",
   "metadata": {},
   "outputs": [],
   "source": [
    "# Si el estatus code no es 200 no se puede leer la página\n",
    "if (req.status_code != 200):\n",
    " raise Exception(\"No se puede hacer Web Scraping en\"+ URL)\n",
    "soup11 = BeautifulSoup(req11.text, 'html.parser')"
   ]
  },
  {
   "cell_type": "code",
   "execution_count": 53,
   "id": "87650f09",
   "metadata": {},
   "outputs": [
    {
     "name": "stdout",
     "output_type": "stream",
     "text": [
      "Hay un río de oro negro bajo A Coruña\n",
      "Max Aub, el escritor español que mejor contó la experiencia de la guerra y los refugiados \n",
      "La Bienal del Whitney habla mucho y dice poco\n",
      "Los primeros poemas de Severo Sarduy, una joya inédita\n",
      "Libros para el verano: 80 novedades recomendadas para estas vacaciones\n",
      "Rigoberta Bandini, Jordi Évole, Rosa Montero, Juan Diego Botto, Albert Serra y otros nombres de la cultura proponen sus lecturas estivales\n",
      "‘The Murder of Crows’: por qué el arte sonoro es más poderoso que el visual\n",
      "El regreso de Perrate: fiesta, linaje y ocho gozosos minutos de bulerías\n",
      "Raíces y alas del flamenco: seis discos entre tradición y evolución\n",
      "Tres veces Calderón: variaciones sobre la tortura en una obra sugestiva e imaginativa\n",
      "Diego Luna, un actor magnético para una obra mediocre\n",
      "No eran marcianos, eran humanos\n",
      "El desafío de Frida Kahlo\n",
      "Lo que siento (no se olviden de Ucrania) \n",
      "Otros turismos (lejos y aquí cerca)\n",
      "‘Horas muertas’, en un Dublín hipnótico\n",
      "‘Prometeo’, trío de ases\n",
      "‘La memoria del alambre’, ese algo misterioso que daba miedo\n",
      "‘Tarradellas. Una cierta idea de Cataluña’: manual de resistencia\n",
      "Antoni Muntadas: “Supe que me dedicaría al arte cuando dejé de pintar”\n",
      "Manuel Estrada: “Me agrada que una portada guste más después de leer el libro”\n",
      "Óscar Esquivias: “No hace falta ser creyente para leer la Biblia”\n",
      "Amelia Castilla: “Los ritos nos ayudan a hacer viable el trance de la muerte”\n",
      "Shuarma: “Me gusta de la poesía el silencio que encierra”\n"
     ]
    }
   ],
   "source": [
    "tags = soup11.findAll(\"h2\")\n",
    "\n",
    "for h2 in tags:\n",
    "    print(h2.text)\n",
    "    resultados.append(h2.text)"
   ]
  },
  {
   "cell_type": "markdown",
   "id": "c75c981c",
   "metadata": {},
   "source": [
    "### Imprimir sección de deportes"
   ]
  },
  {
   "cell_type": "code",
   "execution_count": 54,
   "id": "f55a5cd9",
   "metadata": {},
   "outputs": [],
   "source": [
    "req12 = requests.get(\"https://elpais.com/deportes/\")"
   ]
  },
  {
   "cell_type": "code",
   "execution_count": 55,
   "id": "1f837f99",
   "metadata": {},
   "outputs": [
    {
     "data": {
      "text/plain": [
       "requests.models.Response"
      ]
     },
     "execution_count": 55,
     "metadata": {},
     "output_type": "execute_result"
    }
   ],
   "source": [
    "type(req12)"
   ]
  },
  {
   "cell_type": "code",
   "execution_count": 57,
   "id": "4bbfd9d3",
   "metadata": {},
   "outputs": [
    {
     "name": "stdout",
     "output_type": "stream",
     "text": [
      "Nadal se retira de Wimbledon\n",
      "La familia de Nadal le pidió que abandonara el partido ante Fritz en Wimbledon\n",
      "Nadal: “Estoy preocupado, algo no está bien”\n",
      "El Big Data sigue sin explicar a Cruyff\n",
      "La perfección de la centenaria Catedral\n",
      "La castración del fútbol prosigue con dibujos animados\n",
      "Aquí Pablo Laso, aquí su obra\n",
      "La UEFA se blinda contra la Superliga \n",
      "Pogacar impone su ley y ya es líder del Tour de Francia\n",
      "Tour de Francia 2022: así es la primera etapa de montaña entre Tomblaine y Super Planche des Belles Filles\n",
      "Nadal, el rey de lo increíble: lesión, remontada y a semifinales de Wimbledon\n",
      "Djokovic - Norrie: dónde ver la semifinal de Wimbledon 2022\n",
      "La baloncestista Brittney Griner se declara culpable de posesión de drogas en Rusia\n",
      "El Barcelona espera una respuesta del Bayern por Lewandowski mientras presenta a Christensen\n",
      "Las jugadoras de Inglaterra piden a Nike cambiar el color del pantalón por la regla\n",
      "Jorge Vilda: “Pronto veremos a una mujer entrenar a la selección masculina de fútbol”\n",
      "La fiesta en el estreno de la Eurocopa femenina la pone el público con un récord de asistencia en el torneo\n",
      "Biden asegura que busca “lo más pronto posible” la liberación de Brittney Griner, la estrella del baloncesto detenida en Rusia \n",
      "Las figuras del Madrid rinden tributo a Pablo Laso mientras el club pasa página\n",
      "El fútbol moderno reduce el mercado de Cristiano Ronaldo\n",
      "“La pasión que genera el fútbol es inigualable”\n",
      "“Nunca acepto un no por respuesta”\n",
      "La nadadora que dejó de competir para hacer campeones de básquet\n",
      "Crónica de dos ciudades moldeadas por la misma pasión \n",
      "Biden asegura que busca “lo más pronto posible” la liberación de Brittney Griner, la estrella del baloncesto detenida en Rusia \n",
      "Videoanálisis | Una gran oportunidad perdida para sacar el ajedrez a la calle\n",
      "Vídeo | Cómo sobrevivir a Wimbledon: así ha evolucionado el tenis en el All England Club\n",
      "La perfección de la centenaria Catedral\n",
      "El fútbol moderno reduce el mercado de Cristiano Ronaldo\n",
      "Marc Soler, el ayudante inesperado de Pogacar en el pavés del Tour de Francia\n",
      "Djokovic, bajo la presión de Nadal y un horizonte incierto\n",
      "Iñaki Williams elige jugar con Ghana para ir al Mundial de Qatar\n"
     ]
    }
   ],
   "source": [
    "tags = soup12.findAll(\"h2\")\n",
    "\n",
    "for h2 in tags:\n",
    "    print(h2.text)\n",
    "    resultados.append(h2.text)"
   ]
  },
  {
   "cell_type": "markdown",
   "id": "b0dbba10",
   "metadata": {},
   "source": [
    "### Imprimir sección de tecnología"
   ]
  },
  {
   "cell_type": "code",
   "execution_count": 58,
   "id": "c0afeb1f",
   "metadata": {},
   "outputs": [],
   "source": [
    "req13 = requests.get(\"https://elpais.com/tecnologia/\")"
   ]
  },
  {
   "cell_type": "code",
   "execution_count": 59,
   "id": "4e22ad83",
   "metadata": {},
   "outputs": [
    {
     "data": {
      "text/plain": [
       "requests.models.Response"
      ]
     },
     "execution_count": 59,
     "metadata": {},
     "output_type": "execute_result"
    }
   ],
   "source": [
    "type(req13)"
   ]
  },
  {
   "cell_type": "code",
   "execution_count": 60,
   "id": "3bc3d14f",
   "metadata": {},
   "outputs": [],
   "source": [
    "# Si el estatus code no es 200 no se puede leer la página\n",
    "if (req.status_code != 200):\n",
    " raise Exception(\"No se puede hacer Web Scraping en\"+ URL)\n",
    "soup13 = BeautifulSoup(req13.text, 'html.parser')"
   ]
  },
  {
   "cell_type": "code",
   "execution_count": 61,
   "id": "4115f48f",
   "metadata": {},
   "outputs": [
    {
     "name": "stdout",
     "output_type": "stream",
     "text": [
      "Con el relax del verano se acentúan los peligros cibernéticos: así puede protegerse durante las vacaciones\n",
      "Meta presenta un traductor capaz de operar en tiempo real con 200 idiomas\n",
      "“Soy catedrático de informática. Como mis colegas, sé que la tecnología de bitcoin es basura”\n",
      "El sector biotecnológico supera las cifras de 2020 y capta 180 millones de euros de inversión privada\n",
      "Las mentes humanas detrás de las mentes artificiales\n",
      "El juego de la técnica\n",
      "Daniel Innerarity: “Los algoritmos son conservadores y nuestra libertad depende de que nos dejen ser imprevisibles”\n",
      "Regina Barzilay: “Tenemos que aprender a vivir en un mundo en el que la tecnología toma decisiones que no podemos supervisar”\n",
      "Herramientas y trucos para recordar la ubicación del coche gracias al móvil\n",
      "Las tres amigas que quieren revolucionar los materiales de construcción con fibras de hongos\n",
      "El Constitucional afianza el derecho al olvido en internet\n",
      "Dall-E Mini, el popular generador automático de imágenes que hace dibujos sexistas y racistas \n",
      "Por qué el algoritmo de Google no es una persona\n",
      "Comunidades de energía: una fórmula barata, limpia y segura\n",
      "“Queremos que la programación sea el inglés del siglo XXI”\n",
      "En defensa de la procrastinación. Elogio del tiempo perdido (frente al que las redes te roban)\n",
      "Instagram, el mejor de los mundos posibles\n",
      "Del terrorismo youtuber al influencer rabioso: el odio inunda la red\n",
      "Cronodiversidad. ¿Por qué el tiempo cada vez va más rápido?\n",
      "El impacto de la tecnología en la hostelería: de la comanda digital al pago con código QR\n",
      "Herramientas que ayudan a crecer a las empresas (más allá de los pagos)\n",
      "Cinco razones por las que este ‘smartphone’ es sencillamente tentador\n",
      "La cámara de este ‘smartphone’ es pura magia\n",
      "Por qué los nuevos coches ya no los diseñarán las personas\n",
      "Una catapulta para el talento de ‘kilómetro cero’\n"
     ]
    }
   ],
   "source": [
    "tags = soup13.findAll(\"h2\")\n",
    "\n",
    "for h2 in tags:\n",
    "    print(h2.text)\n",
    "    resultados.append(h2.text)"
   ]
  },
  {
   "cell_type": "markdown",
   "id": "9e2b1fd6",
   "metadata": {},
   "source": [
    "### Imprimir la sección de gente"
   ]
  },
  {
   "cell_type": "code",
   "execution_count": 68,
   "id": "364250b5",
   "metadata": {},
   "outputs": [],
   "source": [
    "req15 = requests.get(\"https://elpais.com/gente/\")"
   ]
  },
  {
   "cell_type": "code",
   "execution_count": 70,
   "id": "1be21bdc",
   "metadata": {},
   "outputs": [
    {
     "data": {
      "text/plain": [
       "requests.models.Response"
      ]
     },
     "execution_count": 70,
     "metadata": {},
     "output_type": "execute_result"
    }
   ],
   "source": [
    "type(req15)"
   ]
  },
  {
   "cell_type": "code",
   "execution_count": 71,
   "id": "8f46732a",
   "metadata": {},
   "outputs": [],
   "source": [
    "# Si el estatus code no es 200 no se puede leer la página\n",
    "if (req.status_code != 200):\n",
    " raise Exception(\"No se puede hacer Web Scraping en\"+ URL)\n",
    "soup15 = BeautifulSoup(req15.text, 'html.parser')"
   ]
  },
  {
   "cell_type": "code",
   "execution_count": 72,
   "id": "ab88c776",
   "metadata": {},
   "outputs": [
    {
     "name": "stdout",
     "output_type": "stream",
     "text": [
      "Juana Martín, primera mujer española “y gitana” en la alta costura de París, tras su desfile: “Me he dejado la piel”\n",
      "El espectáculo (teatral) debe continuar en la alta costura de París\n",
      "Elon Musk tuvo gemelos en secreto con una ejecutiva de una de sus empresas\n",
      "Por qué es importante conocer tu personalidad erótica para tener una vida sexual más satisfactoria\n",
      "Realismo, entretenimiento y democracia: la alta costura se deshace por fin de sus estereotipos en París\n",
      "Matthew Bronfman, el ‘príncipe’ de Wall Street y heredero de un imperio licorero que se ha reunido con el rey Felipe VI\n",
      "De Kate Middleton a Sienna Miller: los famosos llenan las gradas de Wimbledon, en imágenes\n",
      "‘Foodificación’ o cómo un chuletón a la brasa puede transformar por completo la identidad de una ciudad\n",
      "Amalia de Orange celebra con siete meses de retraso su 18º cumpleaños con una gran fiesta de verano blindada\n",
      "Ricky Martin se defiende de las acusaciones de violencia doméstica: “Enfrentaré el proceso con la responsabilidad que me caracteriza” \n",
      "Camila de Cornualles, editora de una revista campestre con Kate Middleton como su fotógrafa\n",
      "De Jessica Chastain a Kim Kardashian: las famosas le hacen la peineta al 4 de julio \n",
      "Relojes de lujo escondidos dentro del airbag: detenido el grupo organizado que asaltó la villa de Ronaldo en Ibiza\n",
      "La dictadura de la perfección, misoginia y Jeffrey Epstein: los ángeles y demonios de Victoria’s Secret\n",
      "Dios y diamantes: lo que Kendrick Lamar nos quiso decir a través de su corona de espinas\n",
      "Entre Sevilla, Ascot, el pasado y el futuro: Mans condensa su universo en una colección sin miedo a los contrastes\n",
      "La colección de Palomo Spain para Correos: cómo la moda unió a una empresa centenaria y a otra rabiosamente joven\n",
      "Archie Alled-Martínez, el barcelonés que continúa el legado de Lagerfeld: “No hace falta llevar un arco iris para ser tú mismo”\n",
      "Trece aperitivos\n",
      "La rebelión de las cocineras de España: “Hay mujeres, falta reconocimiento”\n",
      "Vende menos comer que correr\n",
      "Breve guía de los mejores vinos blancos italianos para descubrir este verano\n"
     ]
    }
   ],
   "source": [
    "tags = soup15.findAll(\"h2\")\n",
    "\n",
    "for h2 in tags:\n",
    "    print(h2.text)\n",
    "    resultados.append(h2.text)"
   ]
  },
  {
   "cell_type": "markdown",
   "id": "1136bb80",
   "metadata": {},
   "source": [
    "### Imprimir sección de televisión"
   ]
  },
  {
   "cell_type": "code",
   "execution_count": 73,
   "id": "c59c3e7b",
   "metadata": {},
   "outputs": [],
   "source": [
    "req16 = requests.get(\"https://elpais.com/television/\")"
   ]
  },
  {
   "cell_type": "code",
   "execution_count": 74,
   "id": "23a40705",
   "metadata": {},
   "outputs": [
    {
     "data": {
      "text/plain": [
       "requests.models.Response"
      ]
     },
     "execution_count": 74,
     "metadata": {},
     "output_type": "execute_result"
    }
   ],
   "source": [
    "type(req16)"
   ]
  },
  {
   "cell_type": "code",
   "execution_count": 75,
   "id": "af4851cd",
   "metadata": {},
   "outputs": [],
   "source": [
    "# Si el estatus code no es 200 no se puede leer la página\n",
    "if (req.status_code != 200):\n",
    " raise Exception(\"No se puede hacer Web Scraping en\"+ URL)\n",
    "soup16 = BeautifulSoup(req16.text, 'html.parser')\n"
   ]
  },
  {
   "cell_type": "code",
   "execution_count": 76,
   "id": "b0856c86",
   "metadata": {},
   "outputs": [
    {
     "name": "stdout",
     "output_type": "stream",
     "text": [
      "‘La noche más larga’ y ‘La lista final’: palomitas sin sabor para el verano\n",
      "Los dilemas de ‘La firma de Dios’: ¿y si el virus detrás de una pandemia tuviera conciencia y voluntad propia?\n",
      "Arturo Valls pasa de presentador a recluso por rebasar los límites del humor en ‘Dos años y un día’\n",
      "Sanfermines: maltrato animal en riguroso directo\n",
      "‘La ciudad es nuestra’ o la corrupción policial\n",
      "La falta de diversidad en ‘Friends’: el juicio a los seis del Central Perk\n",
      "Publicidad convertida en lírica y humanismo \n",
      "Entre novedades y apuestas de bajo riesgo: así es el verano en la televisión en abierto\n",
      "Vivir y morir en Colombia, ciencia desmitificada, un nuevo lugar del crimen y adictos a la cultura pop, entre los ‘podcasts’ de julio\n",
      "Promover el turismo en tiempos de nueva normalidad, pero con vieja publicidad\n",
      "Podium Podcast estrena web con más de 400 contenidos y nuevo diseño\n",
      "EGM 2022: La SER cierra temporada de nuevo como la radio más escuchada\n",
      "¿Quién demonios votó a Podemos en La Moraleja?\n",
      "La voz de los más inocentes\n",
      "Las actrices de ‘Intimidad’: “Si una mujer no es complaciente en esta profesión, llegan las amenazas”\n",
      "Crecer dentro del fenómeno global ‘Stranger Things’: “Lo llevamos bien, con terapia”\n",
      "La ‘venganza’ de William Levy: “De joven, en Cuba, viví demasiadas injusticias”\n",
      "¿Qué ver hoy en TV? Jueves 7 de julio de 2022\n",
      "Nueve capítulos para recordar ‘The Wire’ en su 20º aniversario\n",
      "Harry Palmer: el tercer vértice del mágico triángulo de espías británicos\n",
      "Las series de junio de 2022: ‘The Boys’ en Amazon Prime Video; ‘Peaky Blinders’ en Netflix y otras\n",
      "La fuerza acompaña a ‘Obi-Wan Kenobi’, una serie deslumbrante\n"
     ]
    }
   ],
   "source": [
    "tags = soup16.findAll(\"h2\")\n",
    "\n",
    "for h2 in tags:\n",
    "    print(h2.text)\n",
    "    resultados.append(h2.text)"
   ]
  },
  {
   "cell_type": "markdown",
   "id": "bf19fea0",
   "metadata": {},
   "source": [
    "### Impresión de sección eps"
   ]
  },
  {
   "cell_type": "code",
   "execution_count": 77,
   "id": "82eed633",
   "metadata": {},
   "outputs": [],
   "source": [
    "req17 = requests.get(\"https://elpais.com/eps/\")"
   ]
  },
  {
   "cell_type": "code",
   "execution_count": 78,
   "id": "f0ae08aa",
   "metadata": {},
   "outputs": [
    {
     "data": {
      "text/plain": [
       "requests.models.Response"
      ]
     },
     "execution_count": 78,
     "metadata": {},
     "output_type": "execute_result"
    }
   ],
   "source": [
    "type(req17)"
   ]
  },
  {
   "cell_type": "code",
   "execution_count": 79,
   "id": "73695301",
   "metadata": {},
   "outputs": [],
   "source": [
    "# Si el estatus code no es 200 no se puede leer la página\n",
    "if (req.status_code != 200):\n",
    " raise Exception(\"No se puede hacer Web Scraping en\"+ URL)\n",
    "soup17 = BeautifulSoup(req17.text, 'html.parser')"
   ]
  },
  {
   "cell_type": "code",
   "execution_count": 80,
   "id": "4f74fe25",
   "metadata": {},
   "outputs": [
    {
     "name": "stdout",
     "output_type": "stream",
     "text": [
      "El golazo literario de Roberto Santiago con ‘Los futbolísimos’\n",
      "¿Dónde está exactamente el origen del mal?\n",
      "El hombre que persigue la gaita más antigua del mundo\n",
      "La uva más denostada de  Castilla-La Mancha resurge de sus cenizas\n",
      "La rebelión de las cocineras de España: “Hay mujeres, falta reconocimiento”\n",
      "En busca de la huella de Camarón de la Isla, leyenda viva del flamenco\n",
      "Oliviero Toscani: “El fascismo resulta muy cómodo porque no te exige razonar”\n",
      "La importancia del respeto para sentirnos bien\n",
      "República Dominicana, donde la vida fluye por el río infinito\n",
      "El placer de lo rancio y otros gustos y aromas que recuerdan la niñez\n",
      "Un misterio en el Real Madrid y un fantasma en Gales: ¿quién diablos es Gareth Bale?\n",
      "Así es el barrio de Pekín donde hay “robotaxi” y la compra llega en vehículo sin conductor\n",
      "Saborear el momento\n",
      "Nissan Ariya: imagen futurista y conducción exquisita\n",
      "La palabra médico\n",
      "El cuerpo\n",
      "Cuento de Catherine del Biombo 5\n",
      "Vende menos comer que correr\n",
      "Harina enriquecida para acabar con el “hambre oculta”\n",
      "Lugares de esperanza para salvar los océanos\n",
      "Los guardianes del clima que llevan medio siglo leyendo las advertencias de los glaciares\n",
      "Epidemia de violencia: claves del negocio de las armas en Estados Unidos\n",
      "Los ejecutivos voladores y la ética medioambiental\n",
      "Ibiza, entre la noche desenfrenada y el turismo tranquilo \n",
      "Luz Casal: “Tengo el alma rockera. Nada ha doblegado mi rebeldía”\n",
      "Rashid Johnson: “Los pensadores y creadores negros estamos cansados de que nos nieguen un espacio autónomo”\n",
      "Sergio Hernández: “En el mundo, la gente ya no quiere verdades, quiere mentiras”\n",
      "Elvira Sastre: “No hay que perdonarlo todo”\n",
      "La trinidad del taco perfecto: “Buena tortilla, delicioso relleno y una salsa sabrosa”\n",
      "La casa de Nina Urgell Cloquell, un piso en el que las paredes hablan\n",
      "Garbanzos verdes y puchero\n",
      "Bikôkô y Julio Peña, dos estrellas en ebullición  \n",
      "Cuando Chufy encontró a Rossy: dos amigas, una isla y una colección de moda\n",
      "Retrato Robot \n",
      "Ilusiones hipnóticas\n",
      "El poder del hormigón\n",
      "Maulévrier, Japón a la francesa\n",
      "‘Fantasías en el Prado’, por Alberto García-Alix\n"
     ]
    }
   ],
   "source": [
    "tags = soup17.findAll(\"h2\")\n",
    "\n",
    "for h2 in tags:\n",
    "    print(h2.text)\n",
    "    resultados.append(h2.text)"
   ]
  },
  {
   "cell_type": "markdown",
   "id": "91a46bb6",
   "metadata": {},
   "source": [
    "#### Impresión de titulares con palabras más buscadas en El País"
   ]
  },
  {
   "cell_type": "code",
   "execution_count": 7,
   "id": "3741e196",
   "metadata": {},
   "outputs": [
    {
     "data": {
      "text/plain": [
       "1"
      ]
     },
     "execution_count": 7,
     "metadata": {},
     "output_type": "execute_result"
    }
   ],
   "source": [
    "os.system(\"clear\")"
   ]
  },
  {
   "cell_type": "code",
   "execution_count": 9,
   "id": "a2d092fe",
   "metadata": {},
   "outputs": [
    {
     "name": "stdout",
     "output_type": "stream",
     "text": [
      "\u001b[1m\u001b[34mA continuación se muestran los titulares de las páginas principales del diario El País que contienen las siguientes palabras:\u001b[0m\n",
      "\u001b[1m\u001b[32mFeminismo\u001b[0m\n",
      "\n",
      "\u001b[1m\u001b[32mIgualdad\u001b[0m\n",
      "\n",
      "\u001b[1m\u001b[32mMujeres\u001b[0m\n",
      "\n",
      "\u001b[1m\u001b[32mMujer\u001b[0m\n",
      "\n",
      "\u001b[1m\u001b[32mBrecha salarial\u001b[0m\n",
      "\n",
      "\u001b[1m\u001b[32mMachismo\u001b[0m\n",
      "\n",
      "\u001b[1m\u001b[32mViolencia\u001b[0m\n",
      "\n",
      "\u001b[1m\u001b[32mMaltrato\u001b[0m\n",
      "\n",
      "\u001b[1m\u001b[32mHomicidio\u001b[0m\n",
      "\n",
      "\u001b[1m\u001b[32mGénero\u001b[0m\n",
      "\n",
      "\u001b[1m\u001b[32mAsesinato\u001b[0m\n",
      "\n",
      "\u001b[1m\u001b[32mSexo\u001b[0m\n",
      "\n"
     ]
    }
   ],
   "source": [
    "print(colored(\"A continuación se muestran los titulares de las páginas principales del diario El País que contienen las siguientes palabras:\", 'blue', attrs=['bold']))\n",
    "print(colored(\"Feminismo\", 'green', attrs=['bold']))\n",
    "\n",
    "str_match = [s for s in resultados if \"feminismo\" in s]\n",
    "print(\"\\n\".join(str_match))\n",
    "\n",
    "print(colored(\"Igualdad\", 'green', attrs=['bold']))\n",
    "\n",
    "str_match = [s for s in resultados if \"igualdad\" in s]\n",
    "print(\"\\n\".join(str_match))\n",
    "\n",
    "print(colored(\"Mujeres\", 'green', attrs=['bold']))\n",
    "\n",
    "str_match = [s for s in resultados if \"mujeres\" in s]\n",
    "print(\"\\n\".join(str_match))\n",
    "\n",
    "print(colored(\"Mujer\", 'green', attrs=['bold']))\n",
    "\n",
    "str_match = [s for s in resultados if \"mujer\" in s]\n",
    "print(\"\\n\".join(str_match))\n",
    "\n",
    "print(colored(\"Brecha salarial\", 'green', attrs=['bold']))\n",
    "\n",
    "str_match = [s for s in resultados if \"brecha salarial\" in s]\n",
    "print(\"\\n\".join(str_match))\n",
    "\n",
    "print(colored(\"Machismo\", 'green', attrs=['bold']))\n",
    "\n",
    "str_match = [s for s in resultados if \"machismo\" in s]\n",
    "print(\"\\n\".join(str_match))\n",
    "\n",
    "print(colored(\"Violencia\", 'green', attrs=['bold']))\n",
    "\n",
    "str_match = [s for s in resultados if \"violencia\" in s]\n",
    "print(\"\\n\".join(str_match))\n",
    "\n",
    "print(colored(\"Maltrato\", 'green', attrs=['bold']))\n",
    "\n",
    "str_match = [s for s in resultados if \"maltrato\" in s]\n",
    "print(\"\\n\".join(str_match))\n",
    "\n",
    "print(colored(\"Homicidio\", 'green', attrs=['bold']))\n",
    "\n",
    "str_match = [s for s in resultados if \"homicidio\" in s]\n",
    "print(\"\\n\".join(str_match))\n",
    "\n",
    "print(colored(\"Género\", 'green', attrs=['bold']))\n",
    "\n",
    "str_match = [s for s in resultados if \"género\" in s]\n",
    "print(\"\\n\".join(str_match))\n",
    "\n",
    "print(colored(\"Asesinato\", 'green', attrs=['bold']))\n",
    "\n",
    "str_match = [s for s in resultados if \"asesinato\" in s]\n",
    "print(\"\\n\".join(str_match))\n",
    "\n",
    "print(colored(\"Sexo\", 'green', attrs=['bold']))\n",
    "\n",
    "str_match = [s for s in resultados if \"sexo\" in s]\n",
    "print(\"\\n\".join(str_match))"
   ]
  },
  {
   "cell_type": "markdown",
   "id": "4dc9596e",
   "metadata": {},
   "source": [
    "## Código fuente"
   ]
  },
  {
   "cell_type": "code",
   "execution_count": null,
   "id": "ce955512",
   "metadata": {},
   "outputs": [],
   "source": [
    "import requests\n",
    "import time\n",
    "import csv\n",
    "import re\n",
    "from bs4 import BeautifulSoup\n",
    "import os\n",
    "import pandas as pd\n",
    "from termcolor import colored\n",
    "\n",
    "resultados = []\n",
    "\n",
    "req = requests.get(\"https://resultados.elpais.com\")\n",
    "# Si el estatus code no es 200 no se puede leer la página\n",
    "if (req.status_code != 200):\n",
    " raise Exception(\"No se puede hacer Web Scraping en\"+ URL)\n",
    "soup = BeautifulSoup(req.text, 'html.parser')\n",
    "\n",
    "tags = soup.findAll(\"h2\")\n",
    "\n",
    "for h2 in tags:\n",
    "    print(h2.text)\n",
    "    resultados.append(h2.text)\n",
    "\n",
    "req2 = requests.get(\"https://elpais.com/internacional\")\n",
    "# Si el estatus code no es 200 no se puede leer la página\n",
    "if (req.status_code != 200):\n",
    " raise Exception(\"No se puede hacer Web Scraping en\"+ URL)\n",
    "soup2 = BeautifulSoup(req2.text, 'html.parser')\n",
    "\n",
    "tags = soup2.findAll(\"h2\")\n",
    "\n",
    "for h2 in tags:\n",
    "    print(h2.text)\n",
    "    resultados.append(h2.text)\n",
    "\n",
    "req3 = requests.get(\"https://elpais.com/opinion\")\n",
    "# Si el estatus code no es 200 no se puede leer la página\n",
    "if (req.status_code != 200):\n",
    " raise Exception(\"No se puede hacer Web Scraping en\"+ URL)\n",
    "soup3 = BeautifulSoup(req3.text, 'html.parser')\n",
    "\n",
    "tags = soup3.findAll(\"h2\")\n",
    "\n",
    "for h2 in tags:\n",
    "    print(h2.text)\n",
    "    resultados.append(h2.text)\n",
    "\n",
    "req4 = requests.get(\"https://elpais.com/espana/\")\n",
    "# Si el estatus code no es 200 no se puede leer la página\n",
    "if (req.status_code != 200):\n",
    " raise Exception(\"No se puede hacer Web Scraping en\"+ URL)\n",
    "soup4 = BeautifulSoup(req4.text, 'html.parser')\n",
    "\n",
    "tags = soup4.findAll(\"h2\")\n",
    "\n",
    "for h2 in tags:\n",
    "    print(h2.text)\n",
    "    resultados.append(h2.text)\n",
    "\n",
    "req5 = requests.get(\"https://elpais.com/economia/\")\n",
    "# Si el estatus code no es 200 no se puede leer la página\n",
    "if (req.status_code != 200):\n",
    " raise Exception(\"No se puede hacer Web Scraping en\"+ URL)\n",
    "soup5 = BeautifulSoup(req5.text, 'html.parser')\n",
    "\n",
    "tags = soup5.findAll(\"h2\")\n",
    "\n",
    "for h2 in tags:\n",
    "    print(h2.text)\n",
    "    resultados.append(h2.text)\n",
    "\n",
    "req6 = requests.get(\"https://elpais.com/sociedad/\")\n",
    "# Si el estatus code no es 200 no se puede leer la página\n",
    "if (req.status_code != 200):\n",
    " raise Exception(\"No se puede hacer Web Scraping en\"+ URL)\n",
    "soup6 = BeautifulSoup(req6.text, 'html.parser')\n",
    "\n",
    "tags = soup6.findAll(\"h2\")\n",
    "\n",
    "for h2 in tags:\n",
    "    print(h2.text)\n",
    "    resultados.append(h2.text)\n",
    "\n",
    "req7 = requests.get(\"https://elpais.com/educacion/\")\n",
    "# Si el estatus code no es 200 no se puede leer la página\n",
    "if (req.status_code != 200):\n",
    " raise Exception(\"No se puede hacer Web Scraping en\"+ URL)\n",
    "soup7 = BeautifulSoup(req7.text, 'html.parser')\n",
    "\n",
    "tags = soup7.findAll(\"h2\")\n",
    "\n",
    "for h2 in tags:\n",
    "    print(h2.text)\n",
    "    resultados.append(h2.text)\n",
    "\n",
    "req8 = requests.get(\"https://elpais.com/clima-y-medio-ambiente/\")\n",
    "# Si el estatus code no es 200 no se puede leer la página\n",
    "if (req.status_code != 200):\n",
    " raise Exception(\"No se puede hacer Web Scraping en\"+ URL)\n",
    "soup8 = BeautifulSoup(req8.text, 'html.parser')\n",
    "\n",
    "tags = soup8.findAll(\"h2\")\n",
    "\n",
    "for h2 in tags:\n",
    "    print(h2.text)\n",
    "    resultados.append(h2.text)\n",
    "\n",
    "req9 = requests.get(\"https://elpais.com/ciencia/\")\n",
    "# Si el estatus code no es 200 no se puede leer la página\n",
    "if (req.status_code != 200):\n",
    " raise Exception(\"No se puede hacer Web Scraping en\"+ URL)\n",
    "soup9 = BeautifulSoup(req9.text, 'html.parser')\n",
    "\n",
    "tags = soup9.findAll(\"h2\")\n",
    "\n",
    "for h2 in tags:\n",
    "    print(h2.text)\n",
    "    resultados.append(h2.text)\n",
    "\n",
    "req10 = requests.get(\"https://elpais.com/cultura/\")\n",
    "# Si el estatus code no es 200 no se puede leer la página\n",
    "if (req.status_code != 200):\n",
    " raise Exception(\"No se puede hacer Web Scraping en\"+ URL)\n",
    "soup10 = BeautifulSoup(req10.text, 'html.parser')\n",
    "\n",
    "tags = soup10.findAll(\"h2\")\n",
    "\n",
    "for h2 in tags:\n",
    "    print(h2.text)\n",
    "    resultados.append(h2.text)\n",
    "\n",
    "req11 = requests.get(\"https://elpais.com/babelia/\")\n",
    "# Si el estatus code no es 200 no se puede leer la página\n",
    "if (req.status_code != 200):\n",
    " raise Exception(\"No se puede hacer Web Scraping en\"+ URL)\n",
    "soup11 = BeautifulSoup(req11.text, 'html.parser')\n",
    "\n",
    "tags = soup11.findAll(\"h2\")\n",
    "\n",
    "for h2 in tags:\n",
    "    print(h2.text)\n",
    "    resultados.append(h2.text)\n",
    "\n",
    "req12 = requests.get(\"https://elpais.com/deportes/\")\n",
    "# Si el estatus code no es 200 no se puede leer la página\n",
    "if (req.status_code != 200):\n",
    " raise Exception(\"No se puede hacer Web Scraping en\"+ URL)\n",
    "soup12 = BeautifulSoup(req12.text, 'html.parser')\n",
    "\n",
    "tags = soup12.findAll(\"h2\")\n",
    "\n",
    "for h2 in tags:\n",
    "    print(h2.text)\n",
    "    resultados.append(h2.text)\n",
    "\n",
    "req13 = requests.get(\"https://elpais.com/tecnologia/\")\n",
    "# Si el estatus code no es 200 no se puede leer la página\n",
    "if (req.status_code != 200):\n",
    " raise Exception(\"No se puede hacer Web Scraping en\"+ URL)\n",
    "soup13 = BeautifulSoup(req13.text, 'html.parser')\n",
    "\n",
    "tags = soup13.findAll(\"h2\")\n",
    "\n",
    "for h2 in tags:\n",
    "    print(h2.text)\n",
    "    resultados.append(h2.text)\n",
    "\n",
    "req14 = requests.get(\"https://elpais.com/tecnologia/\")\n",
    "# Si el estatus code no es 200 no se puede leer la página\n",
    "if (req.status_code != 200):\n",
    " raise Exception(\"No se puede hacer Web Scraping en\"+ URL)\n",
    "soup14 = BeautifulSoup(req14.text, 'html.parser')\n",
    "\n",
    "tags = soup14.findAll(\"h2\")\n",
    "\n",
    "for h2 in tags:\n",
    "    print(h2.text)\n",
    "    resultados.append(h2.text)\n",
    "\n",
    "req15 = requests.get(\"https://elpais.com/gente/\")\n",
    "# Si el estatus code no es 200 no se puede leer la página\n",
    "if (req.status_code != 200):\n",
    " raise Exception(\"No se puede hacer Web Scraping en\"+ URL)\n",
    "soup15 = BeautifulSoup(req15.text, 'html.parser')\n",
    "\n",
    "tags = soup15.findAll(\"h2\")\n",
    "\n",
    "for h2 in tags:\n",
    "    print(h2.text)\n",
    "    resultados.append(h2.text)\n",
    "\n",
    "req16 = requests.get(\"https://elpais.com/television/\")\n",
    "# Si el estatus code no es 200 no se puede leer la página\n",
    "if (req.status_code != 200):\n",
    " raise Exception(\"No se puede hacer Web Scraping en\"+ URL)\n",
    "soup16 = BeautifulSoup(req16.text, 'html.parser')\n",
    "\n",
    "tags = soup16.findAll(\"h2\")\n",
    "\n",
    "for h2 in tags:\n",
    "    print(h2.text)\n",
    "    resultados.append(h2.text)\n",
    "\n",
    "req17 = requests.get(\"https://elpais.com/eps/\")\n",
    "# Si el estatus code no es 200 no se puede leer la página\n",
    "if (req.status_code != 200):\n",
    " raise Exception(\"No se puede hacer Web Scraping en\"+ URL)\n",
    "soup17 = BeautifulSoup(req17.text, 'html.parser')\n",
    "\n",
    "tags = soup17.findAll(\"h2\")\n",
    "\n",
    "for h2 in tags:\n",
    "    print(h2.text)\n",
    "    resultados.append(h2.text)\n",
    "\n",
    "\n",
    "os.system(\"clear\")\n",
    "\n",
    "print(colored(\"A continuación se muestran los titulares de las páginas principales del diario El País que contienen las siguientes palabras:\", 'blue', attrs=['bold']))\n",
    "print(colored(\"Feminismo\", 'green', attrs=['bold']))\n",
    "\n",
    "str_match = [s for s in resultados if \"feminismo\" in s]\n",
    "print(\"\\n\".join(str_match))\n",
    "\n",
    "print(colored(\"Igualdad\", 'green', attrs=['bold']))\n",
    "\n",
    "str_match = [s for s in resultados if \"igualdad\" in s]\n",
    "print(\"\\n\".join(str_match))\n",
    "\n",
    "print(colored(\"Mujeres\", 'green', attrs=['bold']))\n",
    "\n",
    "str_match = [s for s in resultados if \"mujeres\" in s]\n",
    "print(\"\\n\".join(str_match))\n",
    "\n",
    "print(colored(\"Mujer\", 'green', attrs=['bold']))\n",
    "\n",
    "str_match = [s for s in resultados if \"mujer\" in s]\n",
    "print(\"\\n\".join(str_match))\n",
    "\n",
    "print(colored(\"Brecha salarial\", 'green', attrs=['bold']))\n",
    "\n",
    "str_match = [s for s in resultados if \"brecha salarial\" in s]\n",
    "print(\"\\n\".join(str_match))\n",
    "\n",
    "print(colored(\"Machismo\", 'green', attrs=['bold']))\n",
    "\n",
    "str_match = [s for s in resultados if \"machismo\" in s]\n",
    "print(\"\\n\".join(str_match))\n",
    "\n",
    "print(colored(\"Violencia\", 'green', attrs=['bold']))\n",
    "\n",
    "str_match = [s for s in resultados if \"violencia\" in s]\n",
    "print(\"\\n\".join(str_match))\n",
    "\n",
    "print(colored(\"Maltrato\", 'green', attrs=['bold']))\n",
    "\n",
    "str_match = [s for s in resultados if \"maltrato\" in s]\n",
    "print(\"\\n\".join(str_match))\n",
    "\n",
    "print(colored(\"Homicidio\", 'green', attrs=['bold']))\n",
    "\n",
    "str_match = [s for s in resultados if \"homicidio\" in s]\n",
    "print(\"\\n\".join(str_match))\n",
    "\n",
    "print(colored(\"Género\", 'green', attrs=['bold']))\n",
    "\n",
    "str_match = [s for s in resultados if \"género\" in s]\n",
    "print(\"\\n\".join(str_match))\n",
    "\n",
    "print(colored(\"Asesinato\", 'green', attrs=['bold']))\n",
    "\n",
    "str_match = [s for s in resultados if \"asesinato\" in s]\n",
    "print(\"\\n\".join(str_match))\n",
    "\n",
    "print(colored(\"Sexo\", 'green', attrs=['bold']))\n",
    "\n",
    "str_match = [s for s in resultados if \"sexo\" in s]\n",
    "print(\"\\n\".join(str_match))"
   ]
  }
 ],
 "metadata": {
  "kernelspec": {
   "display_name": "Python 3 (ipykernel)",
   "language": "python",
   "name": "python3"
  },
  "language_info": {
   "codemirror_mode": {
    "name": "ipython",
    "version": 3
   },
   "file_extension": ".py",
   "mimetype": "text/x-python",
   "name": "python",
   "nbconvert_exporter": "python",
   "pygments_lexer": "ipython3",
   "version": "3.9.12"
  }
 },
 "nbformat": 4,
 "nbformat_minor": 5
}
